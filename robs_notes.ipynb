{
 "cells": [
  {
   "cell_type": "markdown",
   "id": "d216dc5d98391e6f",
   "metadata": {},
   "source": [
    "# Graph Neural Networks\n",
    "## What are Graph Neural Networks (GNNs)?"
   ]
  },
  {
   "cell_type": "code",
   "execution_count": 2,
   "id": "initial_id",
   "metadata": {
    "ExecuteTime": {
     "end_time": "2024-11-09T04:14:04.864655Z",
     "start_time": "2024-11-09T04:14:01.807385Z"
    },
    "collapsed": true,
    "jupyter": {
     "outputs_hidden": true
    }
   },
   "outputs": [],
   "source": [
    "#import the basics\n",
    "import os\n",
    "import torch\n",
    "import torch_geometric as tg\n",
    "import matplotlib.pyplot as plt\n",
    "import pandas as pd\n",
    "import numpy as np\n",
    "%matplotlib inline"
   ]
  },
  {
   "cell_type": "code",
   "execution_count": 3,
   "id": "67fbe8da1fe75fe3",
   "metadata": {
    "ExecuteTime": {
     "end_time": "2024-11-09T04:14:04.880648Z",
     "start_time": "2024-11-09T04:14:04.875649Z"
    }
   },
   "outputs": [
    {
     "name": "stdout",
     "output_type": "stream",
     "text": [
      "You are using device: cuda\n"
     ]
    }
   ],
   "source": [
    "# Let's verify what device we are working with\n",
    "device = torch.device('cuda' if torch.cuda.is_available() else 'cpu')\n",
    "print(\"You are using device: %s\" % device)"
   ]
  },
  {
   "metadata": {},
   "cell_type": "markdown",
   "source": [
    "Graph Neural Networks are a type of \"geometric deep learning\" models that use pairwise message passing. They typically have an architecture consisting of 3 types of layers. From [wikipedia](https://en.wikipedia.org/wiki/Graph_neural_network):\n",
    "1. Permutation equivariant: a permutation equivariant layer maps a representation of a graph into an updated representation of the same graph. In the literature, permutation equivariant layers are implemented via **pairwise message passing between graph nodes**. Intuitively, in a message passing layer, nodes update their representations by aggregating the messages received from their immediate neighbours. As such, each message passing layer increases the receptive field of the GNN by one hop.\n",
    "2. Local pooling: a local pooling layer coarsens the graph via downsampling. Local pooling is used to increase the receptive field of a GNN, in a similar fashion to pooling layers in convolutional neural networks. Examples include k-nearest neighbours pooling, top-k pooling, and self-attention pooling.\n",
    "3. Global pooling: a global pooling layer, also known as readout layer, provides fixed-size representation of the whole graph. The global pooling layer must be permutation invariant, such that permutations in the ordering of graph nodes and edges do not alter the final output. Examples include element-wise sum, mean or maximum."
   ],
   "id": "2b01e644be17227d"
  },
  {
   "metadata": {},
   "cell_type": "markdown",
   "source": [
    "### What is message passing?\n",
    "From [wikipedia](https://en.wikipedia.org/wiki/Graph_neural_network#Message_passing_layers):\n",
    "<br>\n",
    "![img](./img/notebook/messagePassing.png)"
   ],
   "id": "5cf99a039651b47d"
  },
  {
   "cell_type": "markdown",
   "id": "96e4180648083ec0",
   "metadata": {},
   "source": [
    "# Data\n",
    "Heterogeneous graphs are perfect for recommendation systems. Let's examine a data set from pytorch geometric to understand some basics about the data.\n",
    "\n",
    "### Datasets:\n",
    "\"AmazonBook\" - A subset of the AmazonBook rating dataset from the \"LightGCN: Simplifying and Powering Graph Convolution Network for Recommendation\" paper."
   ]
  },
  {
   "cell_type": "code",
   "id": "b687c078a44f1888",
   "metadata": {
    "ExecuteTime": {
     "end_time": "2024-11-10T02:05:19.038505Z",
     "start_time": "2024-11-10T02:05:18.703878Z"
    }
   },
   "source": [
    "from torch_geometric.datasets import AmazonBook\n",
    "dataset = AmazonBook(root=\"./data/AmazonBook\")\n",
    "\n",
    "print(f\"Dataset: {dataset}\")\n",
    "print(f\"Number of graphs: {len(dataset)}\")\n",
    "print(f\"Number of features: {dataset.num_features}\")\n",
    "\n",
    "data = dataset[0]\n",
    "data.to(device)\n",
    "\n",
    "print(f\"data = Dataset[0]: {data}\")\n",
    "\n",
    "print(f\"Number of features of data: {data.num_features}\")\n",
    "print(f\"Number of nodes of data: {data.num_nodes}\")\n",
    "print(f\"Number of edges of data: {data.num_edges}\")\n",
    "print(f\"data is directed?: {data.is_directed()}\")\n",
    "print(f\"data has isolated nodes?: {data.has_isolated_nodes()}\")\n",
    "print(f\"data node types: {data.node_types}\")\n",
    "print(f\"data edge types: {data.edge_types}\")\n"
   ],
   "outputs": [
    {
     "name": "stdout",
     "output_type": "stream",
     "text": [
      "Dataset: AmazonBook()\n",
      "Number of graphs: 1\n",
      "Number of features: {'user': 0, 'book': 0}\n",
      "data = Dataset[0]: HeteroData(\n",
      "  user={ num_nodes=52643 },\n",
      "  book={ num_nodes=91599 },\n",
      "  (user, rates, book)={\n",
      "    edge_index=[2, 2380730],\n",
      "    edge_label_index=[2, 603378],\n",
      "  },\n",
      "  (book, rated_by, user)={ edge_index=[2, 2380730] }\n",
      ")\n",
      "Number of features of data: {'user': 0, 'book': 0}\n",
      "Number of nodes of data: 144242\n",
      "Number of edges of data: 4761460\n",
      "data is directed?: False\n",
      "data has isolated nodes?: False\n",
      "data node types: ['user', 'book']\n",
      "data edge types: [('user', 'rates', 'book'), ('book', 'rated_by', 'user')]\n"
     ]
    }
   ],
   "execution_count": 108
  },
  {
   "metadata": {},
   "cell_type": "markdown",
   "source": [
    "## Data pre-processing\n",
    "\n",
    "Helpful resource: \n",
    "- Link Prediction on MovieLens.ipynb - https://colab.research.google.com/drive/1xpzn1Nvai1ygd_P5Yambc_oe4VBPK_ZT?usp=sharing#scrollTo=JMGYv83WzSRr\n",
    "- Neural Graph Collaborative Filtering - https://dl.acm.org/doi/pdf/10.1145/3331184.3331267\n",
    "\n",
    "Similar experimental setting as *Neural Graph Collaborative Filtering*, used also in *LightGCN: Simplifying and powering graph convolutional networks for recommendation*\n",
    "> Amazon-book: Amazon-review is a widely used dataset for\n",
    "product recommendation. We select Amazon-book from the\n",
    "collection. Similarly, we use the 10-core setting to ensure that each\n",
    "user and item have at least ten interactions.\n",
    "\n",
    "> For each dataset, we randomly select 80% of historical\n",
    "interactions of each user to constitute the training set, and treat\n",
    "the remaining as the test set. From the training set, we randomly\n",
    "select 10% of interactions as validation set to tune hyper-parameters.\n",
    "For each observed user-item interaction, we treat it as a positive\n",
    "instance, and then conduct the negative sampling strategy to pair\n",
    "it with one negative item that the user did not consume before."
   ],
   "id": "d19971e5e6b2f42e"
  },
  {
   "metadata": {
    "ExecuteTime": {
     "end_time": "2024-11-10T02:35:10.201258Z",
     "start_time": "2024-11-10T02:35:04.592134Z"
    }
   },
   "cell_type": "code",
   "source": [
    "import torch_geometric.transforms as T\n",
    "\n",
    "transform = T.Compose([T.ToDevice(device), T.RandomLinkSplit(is_undirected=True, num_test=0.2, num_val=.1, edge_types=data.edge_types)])\n",
    "train_data, val_data, test_data = transform(data)"
   ],
   "id": "e5e29466b0ed72e7",
   "outputs": [],
   "execution_count": 124
  },
  {
   "metadata": {
    "ExecuteTime": {
     "end_time": "2024-11-10T02:37:19.920078Z",
     "start_time": "2024-11-10T02:37:19.900063Z"
    }
   },
   "cell_type": "code",
   "source": "train_data",
   "id": "ca16df6a6da925c",
   "outputs": [
    {
     "data": {
      "text/plain": [
       "HeteroData(\n",
       "  user={ num_nodes=52643 },\n",
       "  book={ num_nodes=91599 },\n",
       "  (user, rates, book)={\n",
       "    edge_index=[2, 1666511],\n",
       "    edge_label_index=[2, 3333022],\n",
       "    edge_label=[3333022],\n",
       "  },\n",
       "  (book, rated_by, user)={\n",
       "    edge_index=[2, 1666511],\n",
       "    edge_label=[3333022],\n",
       "    edge_label_index=[2, 3333022],\n",
       "  }\n",
       ")"
      ]
     },
     "execution_count": 130,
     "metadata": {},
     "output_type": "execute_result"
    }
   ],
   "execution_count": 130
  },
  {
   "metadata": {
    "ExecuteTime": {
     "end_time": "2024-11-10T02:35:21.889235Z",
     "start_time": "2024-11-10T02:35:21.883236Z"
    }
   },
   "cell_type": "code",
   "source": "val_data",
   "id": "893852f45e6b63a0",
   "outputs": [
    {
     "data": {
      "text/plain": [
       "HeteroData(\n",
       "  user={ num_nodes=52643 },\n",
       "  book={ num_nodes=91599 },\n",
       "  (user, rates, book)={\n",
       "    edge_index=[2, 1666511],\n",
       "    edge_label_index=[2, 476146],\n",
       "    edge_label=[476146],\n",
       "  },\n",
       "  (book, rated_by, user)={\n",
       "    edge_index=[2, 1666511],\n",
       "    edge_label=[476146],\n",
       "    edge_label_index=[2, 476146],\n",
       "  }\n",
       ")"
      ]
     },
     "execution_count": 126,
     "metadata": {},
     "output_type": "execute_result"
    }
   ],
   "execution_count": 126
  },
  {
   "metadata": {
    "ExecuteTime": {
     "end_time": "2024-11-10T02:36:09.020563Z",
     "start_time": "2024-11-10T02:36:09.010565Z"
    }
   },
   "cell_type": "code",
   "source": "test_data",
   "id": "8222f51ad1b1d7c",
   "outputs": [
    {
     "data": {
      "text/plain": [
       "HeteroData(\n",
       "  user={ num_nodes=52643 },\n",
       "  book={ num_nodes=91599 },\n",
       "  (user, rates, book)={\n",
       "    edge_index=[2, 1904584],\n",
       "    edge_label_index=[2, 952292],\n",
       "    edge_label=[952292],\n",
       "  },\n",
       "  (book, rated_by, user)={\n",
       "    edge_index=[2, 1904584],\n",
       "    edge_label=[952292],\n",
       "    edge_label_index=[2, 952292],\n",
       "  }\n",
       ")"
      ]
     },
     "execution_count": 128,
     "metadata": {},
     "output_type": "execute_result"
    }
   ],
   "execution_count": 128
  },
  {
   "metadata": {},
   "cell_type": "code",
   "outputs": [],
   "execution_count": null,
   "source": "",
   "id": "398d6f686d650d86"
  }
 ],
 "metadata": {
  "kernelspec": {
   "display_name": "Python 3 (ipykernel)",
   "language": "python",
   "name": "python3"
  },
  "language_info": {
   "codemirror_mode": {
    "name": "ipython",
    "version": 3
   },
   "file_extension": ".py",
   "mimetype": "text/x-python",
   "name": "python",
   "nbconvert_exporter": "python",
   "pygments_lexer": "ipython3",
   "version": "3.8.20"
  }
 },
 "nbformat": 4,
 "nbformat_minor": 5
}
