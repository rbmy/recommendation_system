{
 "cells": [
  {
   "cell_type": "markdown",
   "id": "d216dc5d98391e6f",
   "metadata": {},
   "source": [
    "# Graph Neural Networks\n",
    "## What are Graph Neural Networks (GNNs)?"
   ]
  },
  {
   "cell_type": "code",
   "id": "initial_id",
   "metadata": {
    "collapsed": true,
    "jupyter": {
     "outputs_hidden": true
    },
    "ExecuteTime": {
     "end_time": "2024-11-20T16:55:57.109849Z",
     "start_time": "2024-11-20T16:55:57.035652Z"
    }
   },
   "source": [
    "#import the basics\n",
    "import os\n",
    "import torch\n",
    "import torch_geometric\n",
    "import torch_geometric as tg\n",
    "import matplotlib.pyplot as plt\n",
    "import pandas as pd\n",
    "import numpy as np\n",
    "%matplotlib inline"
   ],
   "outputs": [],
   "execution_count": 5
  },
  {
   "cell_type": "code",
   "id": "67fbe8da1fe75fe3",
   "metadata": {
    "ExecuteTime": {
     "end_time": "2024-11-20T16:56:06.900989Z",
     "start_time": "2024-11-20T16:56:06.892314Z"
    }
   },
   "source": [
    "# Let's verify what device we are working with\n",
    "device = torch.device('cuda' if torch.cuda.is_available() else 'cpu')\n",
    "print(\"You are using device: %s\" % device)"
   ],
   "outputs": [
    {
     "name": "stdout",
     "output_type": "stream",
     "text": [
      "You are using device: cpu\n"
     ]
    }
   ],
   "execution_count": 7
  },
  {
   "metadata": {},
   "cell_type": "markdown",
   "source": [
    "Graph Neural Networks are a type of \"geometric deep learning\" models that use pairwise message passing. They typically have an architecture consisting of 3 types of layers. From [wikipedia](https://en.wikipedia.org/wiki/Graph_neural_network):\n",
    "1. Permutation equivariant: a permutation equivariant layer maps a representation of a graph into an updated representation of the same graph. In the literature, permutation equivariant layers are implemented via **pairwise message passing between graph nodes**. Intuitively, in a message passing layer, nodes update their representations by aggregating the messages received from their immediate neighbours. As such, each message passing layer increases the receptive field of the GNN by one hop.\n",
    "2. Local pooling: a local pooling layer coarsens the graph via downsampling. Local pooling is used to increase the receptive field of a GNN, in a similar fashion to pooling layers in convolutional neural networks. Examples include k-nearest neighbours pooling, top-k pooling, and self-attention pooling.\n",
    "3. Global pooling: a global pooling layer, also known as readout layer, provides fixed-size representation of the whole graph. The global pooling layer must be permutation invariant, such that permutations in the ordering of graph nodes and edges do not alter the final output. Examples include element-wise sum, mean or maximum.\n",
    "\n",
    "## Attributes\n",
    "- [T]he preprocessing step first\n",
    "“squashes” the graph structured data into a vector of reals and\n",
    "then deals with the preprocessed data using a list-based data\n",
    "processing technique. However, important information, e.g., the\n",
    "topological dependency of information on each node may be\n",
    "lost during the preprocessing stage and the final result may depend, in an unpredictable manner, on the details of the preprocessing algorith [1] **GNNS preserve the structure of the graph it is based on.**\n",
    "- It will be shown that the GNN\n",
    "is an extension of both recursive neural networks and random\n",
    "walk models and that it retains their characteristics. The model\n",
    "extends recursive neural networks since it can process a more\n",
    "general class of graphs including cyclic, directed, and undirected graphs, and it can deal with node-focused applications\n",
    "without any preprocessing steps. The approach extends random\n",
    "walk theory by the introduction of a learning algorithm and by\n",
    "enlarging the class of processes that can be modeled. [1]\n",
    "- Weights are shared across layer structures"
   ],
   "id": "2b01e644be17227d"
  },
  {
   "metadata": {},
   "cell_type": "markdown",
   "source": [
    "### What is message passing?\n",
    "From [wikipedia](https://en.wikipedia.org/wiki/Graph_neural_network#Message_passing_layers):\n",
    "<br>\n",
    "![img](./img/notebook/messagePassing.png)"
   ],
   "id": "5cf99a039651b47d"
  },
  {
   "metadata": {},
   "cell_type": "markdown",
   "source": [
    "## Computation Graph\n",
    "\"The neighbour of a node defines its computation graph\" - @12:34 https://www.youtube.com/watch?v=JtDgmmQ60x8&ab_channel=AntonioLonga\n",
    "\n"
   ],
   "id": "2a5502a902d3a34d"
  },
  {
   "cell_type": "markdown",
   "id": "96e4180648083ec0",
   "metadata": {},
   "source": [
    "# Data\n",
    "Heterogeneous graphs are perfect for recommendation systems. Let's examine a data set from pytorch geometric to understand some basics about the data.\n",
    "\n",
    "### Datasets:\n",
    "\"AmazonBook\" - A subset of the AmazonBook rating dataset from the \"LightGCN: Simplifying and Powering Graph Convolution Network for Recommendation\" paper."
   ]
  },
  {
   "cell_type": "code",
   "id": "b687c078a44f1888",
   "metadata": {
    "ExecuteTime": {
     "end_time": "2024-11-20T18:54:31.614726Z",
     "start_time": "2024-11-20T18:54:30.904768Z"
    }
   },
   "source": [
    "from torch_geometric.datasets import AmazonBook\n",
    "dataset = AmazonBook(root=\"./data/AmazonBook\")\n",
    "\n",
    "print(f\"Dataset: {dataset}\")\n",
    "print(f\"Number of graphs in dataset: {len(dataset)}\")\n",
    "print(f\"Number of features of dataset: {dataset.num_features}\")\n",
    "\n",
    "data = dataset[0]\n",
    "data.to(device)\n",
    "\n",
    "print(f\"data = Dataset[0]: {data}\")\n",
    "\n",
    "print(f\"Number of node features of data: {data.num_features}\")\n",
    "print(f\"Number of edge features of data: {data.num_edge_features}\")\n",
    "print(f\"Number of nodes of data: {data.num_nodes}\")\n",
    "print(f\"Number of edges of data: {data.num_edges}\")\n",
    "print(f\"data is directed?: {data.is_directed()}\")\n",
    "print(f\"data has isolated nodes?: {data.has_isolated_nodes()}\")\n",
    "print(f\"data contains self loops?: {data.has_self_loops()}\")\n",
    "print(f\"data node types: {data.node_types}\")\n",
    "print(f\"data edge types: {data.edge_types}\")\n",
    "print(f\"data is on device: {'CUDA' if data.is_cuda else 'CPU'}\")\n"
   ],
   "outputs": [
    {
     "name": "stdout",
     "output_type": "stream",
     "text": [
      "Dataset: AmazonBook()\n",
      "Number of graphs in dataset: 1\n",
      "Number of features of dataset: {'user': 0, 'book': 0}\n",
      "data = Dataset[0]: HeteroData(\n",
      "  user={ num_nodes=52643 },\n",
      "  book={ num_nodes=91599 },\n",
      "  (user, rates, book)={\n",
      "    edge_index=[2, 2380730],\n",
      "    edge_label_index=[2, 603378],\n",
      "  },\n",
      "  (book, rated_by, user)={ edge_index=[2, 2380730] }\n",
      ")\n",
      "Number of node features of data: {'user': 0, 'book': 0}\n",
      "Number of edge features of data: {('user', 'rates', 'book'): 0, ('book', 'rated_by', 'user'): 0}\n",
      "Number of nodes of data: 144242\n",
      "Number of edges of data: 4761460\n",
      "data is directed?: False\n",
      "data has isolated nodes?: False\n",
      "data contains self loops?: False\n",
      "data node types: ['user', 'book']\n",
      "data edge types: [('user', 'rates', 'book'), ('book', 'rated_by', 'user')]\n",
      "data is on device: CPU\n"
     ]
    }
   ],
   "execution_count": 12
  },
  {
   "metadata": {
    "ExecuteTime": {
     "end_time": "2024-11-20T18:52:43.063875Z",
     "start_time": "2024-11-20T18:52:42.991618Z"
    }
   },
   "cell_type": "code",
   "source": "data.validate(raise_on_error=True)",
   "id": "2a69142adb053966",
   "outputs": [
    {
     "data": {
      "text/plain": [
       "True"
      ]
     },
     "execution_count": 10,
     "metadata": {},
     "output_type": "execute_result"
    }
   ],
   "execution_count": 10
  },
  {
   "metadata": {
    "ExecuteTime": {
     "end_time": "2024-11-20T18:52:46.007113Z",
     "start_time": "2024-11-20T18:52:45.998123Z"
    }
   },
   "cell_type": "code",
   "source": [
    "print(f\"Number of training edges: {data['user','rates','book'].edge_index.shape[1]}\")\n",
    "print(f\"Number of testing edges: {data['user','rates','book'].edge_label_index.shape[1]}\")"
   ],
   "id": "8a6a2037a53aa1a9",
   "outputs": [
    {
     "name": "stdout",
     "output_type": "stream",
     "text": [
      "Number of training edges: 2380730\n",
      "Number of testing edges: 603378\n"
     ]
    }
   ],
   "execution_count": 11
  },
  {
   "metadata": {},
   "cell_type": "markdown",
   "source": "Because there are no features on the edges or the nodes, the connections (edges) themselves are what we are training on.",
   "id": "ea59f67045bbee28"
  },
  {
   "metadata": {},
   "cell_type": "markdown",
   "source": [
    "- Link Prediction on MovieLens.ipynb - https://colab.research.google.com/drive/1xpzn1Nvai1ygd_P5Yambc_oe4VBPK_ZT?usp=sharing#scrollTo=JMGYv83WzSRr\n",
    "- [1] Neural Graph Collaborative Filtering - https://dl.acm.org/doi/pdf/10.1145/3331184.3331267"
   ],
   "id": "d19971e5e6b2f42e"
  },
  {
   "metadata": {
    "ExecuteTime": {
     "end_time": "2024-11-19T00:32:24.045082Z",
     "start_time": "2024-11-19T00:32:21.661161Z"
    }
   },
   "cell_type": "code",
   "source": "torch.manual_seed(1234)",
   "id": "e5e29466b0ed72e7",
   "outputs": [],
   "execution_count": 93
  },
  {
   "metadata": {},
   "cell_type": "markdown",
   "source": [
    "## Naive Graph Neural Network\n",
    "\n"
   ],
   "id": "ab517eeeb4c44c2d"
  },
  {
   "metadata": {
    "ExecuteTime": {
     "end_time": "2024-11-17T21:59:38.211106Z",
     "start_time": "2024-11-17T21:59:38.196093Z"
    }
   },
   "cell_type": "code",
   "source": [
    "from torch_geometric.nn import MLP, MessagePassing, PositionalEncoding\n",
    "from torch.nn import Parameter\n",
    "\n",
    "class GNNLayer(MessagePassing):\n",
    "    def __init__(self, in_channels, out_channels, hidden_channels=128, aggr='add'):\n",
    "        super(GNNLayer, self).__init__(aggr=aggr)\n",
    "        self.message_function = MLP(in_channels= in_channels,\n",
    "                                    hidden_channels=hidden_channels,\n",
    "                                    out_channels=out_channels, num_layers=2) # default activation is ReLU\n",
    "        self.update_function = MLP(in_channels=out_channels,\n",
    "                                   hidden_channels=hidden_channels,\n",
    "                                   out_channels=out_channels, num_layers=2) # default activation is ReLU\n",
    "\n",
    "    def forward(self, x, edge_index):\n",
    "        # x             [N, in_channels]\n",
    "        # edge_index    [2, E]\n",
    "        return self.propagate(x=x, edge_index=edge_index)\n",
    "\n",
    "    def message(self, x_j):\n",
    "        # (i,j)         -> source to target\n",
    "        # x_j           [N, num_of_features]\n",
    "        return self.message_function(x_j)\n",
    "\n",
    "    def update(self, aggr_out):\n",
    "        return self.update_function(aggr_out)\n",
    "\n",
    "class GNN(torch.nn.Module):\n",
    "    def __init__(self, in_channels, out_channels, num_of_nodes, hidden_channels=128, aggr='add'):\n",
    "        super(GNN, self).__init__()\n",
    "        self.user_node_features = Parameter(torch.randn(num_of_nodes, in_channels)) # we will learn a set number of node features\n",
    "        self.gnn_layer_1 = GNNLayer(in_channels=in_channels, out_channels=out_channels,\n",
    "                                    hidden_channels=hidden_channels, aggr=aggr)\n",
    "\n",
    "    def forward(self,edge_index):\n",
    "        out = self.gnn_layer_1(self.node_features, edge_index)\n",
    "        return out\n"
   ],
   "id": "398d6f686d650d86",
   "outputs": [],
   "execution_count": null
  },
  {
   "metadata": {
    "ExecuteTime": {
     "end_time": "2024-11-20T19:36:35.352658Z",
     "start_time": "2024-11-20T19:36:35.004132Z"
    }
   },
   "cell_type": "code",
   "source": [
    "from torch_geometric.loader import LinkNeighborLoader\n",
    "\n",
    "# Define a mini-batch loader\n",
    "num_samples = 30\n",
    "num_iterations = 2\n",
    "batch_size = 128\n",
    "\n",
    "loader = LinkNeighborLoader(\n",
    "    data,\n",
    "    num_neighbors= num_samples * num_iterations,\n",
    "    batch_size=batch_size,\n",
    "    edge_index=data['user','rates','book'].edge_index,\n",
    "    edge_label_index=data['user','rates','book'].edge_label_index\n",
    ")"
   ],
   "id": "f675bff25e347b8a",
   "outputs": [
    {
     "ename": "AssertionError",
     "evalue": "",
     "output_type": "error",
     "traceback": [
      "\u001B[0;31m---------------------------------------------------------------------------\u001B[0m",
      "\u001B[0;31mAssertionError\u001B[0m                            Traceback (most recent call last)",
      "Cell \u001B[0;32mIn[15], line 8\u001B[0m\n\u001B[1;32m      5\u001B[0m num_iterations \u001B[38;5;241m=\u001B[39m \u001B[38;5;241m2\u001B[39m\n\u001B[1;32m      6\u001B[0m batch_size \u001B[38;5;241m=\u001B[39m \u001B[38;5;241m128\u001B[39m\n\u001B[0;32m----> 8\u001B[0m loader \u001B[38;5;241m=\u001B[39m \u001B[43mLinkNeighborLoader\u001B[49m\u001B[43m(\u001B[49m\n\u001B[1;32m      9\u001B[0m \u001B[43m    \u001B[49m\u001B[43mdata\u001B[49m\u001B[43m,\u001B[49m\n\u001B[1;32m     10\u001B[0m \u001B[43m    \u001B[49m\u001B[43mnum_neighbors\u001B[49m\u001B[38;5;241;43m=\u001B[39;49m\u001B[43m \u001B[49m\u001B[43mnum_samples\u001B[49m\u001B[43m \u001B[49m\u001B[38;5;241;43m*\u001B[39;49m\u001B[43m \u001B[49m\u001B[43mnum_iterations\u001B[49m\u001B[43m,\u001B[49m\n\u001B[1;32m     11\u001B[0m \u001B[43m    \u001B[49m\u001B[43mbatch_size\u001B[49m\u001B[38;5;241;43m=\u001B[39;49m\u001B[43mbatch_size\u001B[49m\u001B[43m,\u001B[49m\n\u001B[1;32m     12\u001B[0m \u001B[43m    \u001B[49m\u001B[43medge_index\u001B[49m\u001B[38;5;241;43m=\u001B[39;49m\u001B[43mdata\u001B[49m\u001B[43m[\u001B[49m\u001B[38;5;124;43m'\u001B[39;49m\u001B[38;5;124;43muser\u001B[39;49m\u001B[38;5;124;43m'\u001B[39;49m\u001B[43m,\u001B[49m\u001B[38;5;124;43m'\u001B[39;49m\u001B[38;5;124;43mrates\u001B[39;49m\u001B[38;5;124;43m'\u001B[39;49m\u001B[43m,\u001B[49m\u001B[38;5;124;43m'\u001B[39;49m\u001B[38;5;124;43mbook\u001B[39;49m\u001B[38;5;124;43m'\u001B[39;49m\u001B[43m]\u001B[49m\u001B[38;5;241;43m.\u001B[39;49m\u001B[43medge_index\u001B[49m\u001B[43m,\u001B[49m\n\u001B[1;32m     13\u001B[0m \u001B[43m    \u001B[49m\u001B[43medge_label_index\u001B[49m\u001B[38;5;241;43m=\u001B[39;49m\u001B[43mdata\u001B[49m\u001B[43m[\u001B[49m\u001B[38;5;124;43m'\u001B[39;49m\u001B[38;5;124;43muser\u001B[39;49m\u001B[38;5;124;43m'\u001B[39;49m\u001B[43m,\u001B[49m\u001B[38;5;124;43m'\u001B[39;49m\u001B[38;5;124;43mrates\u001B[39;49m\u001B[38;5;124;43m'\u001B[39;49m\u001B[43m,\u001B[49m\u001B[38;5;124;43m'\u001B[39;49m\u001B[38;5;124;43mbook\u001B[39;49m\u001B[38;5;124;43m'\u001B[39;49m\u001B[43m]\u001B[49m\u001B[38;5;241;43m.\u001B[39;49m\u001B[43medge_label_index\u001B[49m\n\u001B[1;32m     14\u001B[0m \u001B[43m)\u001B[49m\n",
      "File \u001B[0;32m~/miniconda3/envs/gnn-ass-env-cpu/lib/python3.8/site-packages/torch_geometric/loader/link_neighbor_loader.py:265\u001B[0m, in \u001B[0;36mLinkNeighborLoader.__init__\u001B[0;34m(self, data, num_neighbors, edge_label_index, edge_label, edge_label_time, replace, subgraph_type, disjoint, temporal_strategy, neg_sampling, neg_sampling_ratio, time_attr, weight_attr, transform, transform_sampler_output, is_sorted, filter_per_worker, neighbor_sampler, directed, **kwargs)\u001B[0m\n\u001B[1;32m    250\u001B[0m \u001B[38;5;28;01mif\u001B[39;00m neighbor_sampler \u001B[38;5;129;01mis\u001B[39;00m \u001B[38;5;28;01mNone\u001B[39;00m:\n\u001B[1;32m    251\u001B[0m     neighbor_sampler \u001B[38;5;241m=\u001B[39m NeighborSampler(\n\u001B[1;32m    252\u001B[0m         data,\n\u001B[1;32m    253\u001B[0m         num_neighbors\u001B[38;5;241m=\u001B[39mnum_neighbors,\n\u001B[0;32m   (...)\u001B[0m\n\u001B[1;32m    262\u001B[0m         directed\u001B[38;5;241m=\u001B[39mdirected,\n\u001B[1;32m    263\u001B[0m     )\n\u001B[0;32m--> 265\u001B[0m \u001B[38;5;28;43msuper\u001B[39;49m\u001B[43m(\u001B[49m\u001B[43m)\u001B[49m\u001B[38;5;241;43m.\u001B[39;49m\u001B[38;5;21;43m__init__\u001B[39;49m\u001B[43m(\u001B[49m\n\u001B[1;32m    266\u001B[0m \u001B[43m    \u001B[49m\u001B[43mdata\u001B[49m\u001B[38;5;241;43m=\u001B[39;49m\u001B[43mdata\u001B[49m\u001B[43m,\u001B[49m\n\u001B[1;32m    267\u001B[0m \u001B[43m    \u001B[49m\u001B[43mlink_sampler\u001B[49m\u001B[38;5;241;43m=\u001B[39;49m\u001B[43mneighbor_sampler\u001B[49m\u001B[43m,\u001B[49m\n\u001B[1;32m    268\u001B[0m \u001B[43m    \u001B[49m\u001B[43medge_label_index\u001B[49m\u001B[38;5;241;43m=\u001B[39;49m\u001B[43medge_label_index\u001B[49m\u001B[43m,\u001B[49m\n\u001B[1;32m    269\u001B[0m \u001B[43m    \u001B[49m\u001B[43medge_label\u001B[49m\u001B[38;5;241;43m=\u001B[39;49m\u001B[43medge_label\u001B[49m\u001B[43m,\u001B[49m\n\u001B[1;32m    270\u001B[0m \u001B[43m    \u001B[49m\u001B[43medge_label_time\u001B[49m\u001B[38;5;241;43m=\u001B[39;49m\u001B[43medge_label_time\u001B[49m\u001B[43m,\u001B[49m\n\u001B[1;32m    271\u001B[0m \u001B[43m    \u001B[49m\u001B[43mneg_sampling\u001B[49m\u001B[38;5;241;43m=\u001B[39;49m\u001B[43mneg_sampling\u001B[49m\u001B[43m,\u001B[49m\n\u001B[1;32m    272\u001B[0m \u001B[43m    \u001B[49m\u001B[43mneg_sampling_ratio\u001B[49m\u001B[38;5;241;43m=\u001B[39;49m\u001B[43mneg_sampling_ratio\u001B[49m\u001B[43m,\u001B[49m\n\u001B[1;32m    273\u001B[0m \u001B[43m    \u001B[49m\u001B[43mtransform\u001B[49m\u001B[38;5;241;43m=\u001B[39;49m\u001B[43mtransform\u001B[49m\u001B[43m,\u001B[49m\n\u001B[1;32m    274\u001B[0m \u001B[43m    \u001B[49m\u001B[43mtransform_sampler_output\u001B[49m\u001B[38;5;241;43m=\u001B[39;49m\u001B[43mtransform_sampler_output\u001B[49m\u001B[43m,\u001B[49m\n\u001B[1;32m    275\u001B[0m \u001B[43m    \u001B[49m\u001B[43mfilter_per_worker\u001B[49m\u001B[38;5;241;43m=\u001B[39;49m\u001B[43mfilter_per_worker\u001B[49m\u001B[43m,\u001B[49m\n\u001B[1;32m    276\u001B[0m \u001B[43m    \u001B[49m\u001B[38;5;241;43m*\u001B[39;49m\u001B[38;5;241;43m*\u001B[39;49m\u001B[43mkwargs\u001B[49m\u001B[43m,\u001B[49m\n\u001B[1;32m    277\u001B[0m \u001B[43m\u001B[49m\u001B[43m)\u001B[49m\n",
      "File \u001B[0;32m~/miniconda3/envs/gnn-ass-env-cpu/lib/python3.8/site-packages/torch_geometric/loader/link_loader.py:160\u001B[0m, in \u001B[0;36mLinkLoader.__init__\u001B[0;34m(self, data, link_sampler, edge_label_index, edge_label, edge_label_time, neg_sampling, neg_sampling_ratio, transform, transform_sampler_output, filter_per_worker, custom_cls, input_id, **kwargs)\u001B[0m\n\u001B[1;32m    157\u001B[0m     neg_sampling \u001B[38;5;241m=\u001B[39m NegativeSampling(\u001B[38;5;124m\"\u001B[39m\u001B[38;5;124mbinary\u001B[39m\u001B[38;5;124m\"\u001B[39m, neg_sampling_ratio)\n\u001B[1;32m    159\u001B[0m \u001B[38;5;66;03m# Get edge type (or `None` for homogeneous graphs):\u001B[39;00m\n\u001B[0;32m--> 160\u001B[0m input_type, edge_label_index \u001B[38;5;241m=\u001B[39m \u001B[43mget_edge_label_index\u001B[49m\u001B[43m(\u001B[49m\n\u001B[1;32m    161\u001B[0m \u001B[43m    \u001B[49m\u001B[43mdata\u001B[49m\u001B[43m,\u001B[49m\u001B[43m \u001B[49m\u001B[43medge_label_index\u001B[49m\u001B[43m)\u001B[49m\n\u001B[1;32m    163\u001B[0m \u001B[38;5;28mself\u001B[39m\u001B[38;5;241m.\u001B[39mdata \u001B[38;5;241m=\u001B[39m data\n\u001B[1;32m    164\u001B[0m \u001B[38;5;28mself\u001B[39m\u001B[38;5;241m.\u001B[39mlink_sampler \u001B[38;5;241m=\u001B[39m link_sampler\n",
      "File \u001B[0;32m~/miniconda3/envs/gnn-ass-env-cpu/lib/python3.8/site-packages/torch_geometric/loader/utils.py:367\u001B[0m, in \u001B[0;36mget_edge_label_index\u001B[0;34m(data, edge_label_index)\u001B[0m\n\u001B[1;32m    364\u001B[0m     \u001B[38;5;28;01mreturn\u001B[39;00m \u001B[38;5;28;01mNone\u001B[39;00m, edge_label_index\n\u001B[1;32m    366\u001B[0m \u001B[38;5;28;01massert\u001B[39;00m edge_label_index \u001B[38;5;129;01mis\u001B[39;00m \u001B[38;5;129;01mnot\u001B[39;00m \u001B[38;5;28;01mNone\u001B[39;00m\n\u001B[0;32m--> 367\u001B[0m \u001B[38;5;28;01massert\u001B[39;00m \u001B[38;5;28misinstance\u001B[39m(edge_label_index, (\u001B[38;5;28mlist\u001B[39m, \u001B[38;5;28mtuple\u001B[39m))\n\u001B[1;32m    369\u001B[0m \u001B[38;5;28;01mif\u001B[39;00m \u001B[38;5;28misinstance\u001B[39m(data, HeteroData):\n\u001B[1;32m    370\u001B[0m     \u001B[38;5;28;01mif\u001B[39;00m \u001B[38;5;28misinstance\u001B[39m(edge_label_index[\u001B[38;5;241m0\u001B[39m], \u001B[38;5;28mstr\u001B[39m):\n",
      "\u001B[0;31mAssertionError\u001B[0m: "
     ]
    }
   ],
   "execution_count": 15
  },
  {
   "metadata": {
    "ExecuteTime": {
     "end_time": "2024-11-20T19:36:06.083961Z",
     "start_time": "2024-11-20T19:36:06.003639Z"
    }
   },
   "cell_type": "code",
   "source": "data['user','rates','book'].edge_label_index",
   "id": "15da3569ccfeb198",
   "outputs": [
    {
     "data": {
      "text/plain": [
       "tensor([[    0,     0,     0,  ..., 52642, 52642, 52642],\n",
       "        [ 7202,   114,  5612,  ..., 31782, 33163,   106]])"
      ]
     },
     "execution_count": 14,
     "metadata": {},
     "output_type": "execute_result"
    }
   ],
   "execution_count": 14
  },
  {
   "metadata": {},
   "cell_type": "markdown",
   "source": [
    "## References\n",
    "[1] The Graph Neural Network Model - https://ieeexplore.ieee.org/stamp/stamp.jsp?tp=&arnumber=4700287\n",
    "\n",
    "[2] Geometric Deep Learning Grids, Groups, Graphs, Geodesics, and Gauges - https://arxiv.org/pdf/2104.13478"
   ],
   "id": "68e1491083e75d7b"
  },
  {
   "metadata": {},
   "cell_type": "code",
   "outputs": [],
   "execution_count": null,
   "source": "",
   "id": "dae47fed4f208b44"
  }
 ],
 "metadata": {
  "kernelspec": {
   "display_name": "Python 3 (ipykernel)",
   "language": "python",
   "name": "python3"
  },
  "language_info": {
   "codemirror_mode": {
    "name": "ipython",
    "version": 3
   },
   "file_extension": ".py",
   "mimetype": "text/x-python",
   "name": "python",
   "nbconvert_exporter": "python",
   "pygments_lexer": "ipython3",
   "version": "3.8.20"
  }
 },
 "nbformat": 4,
 "nbformat_minor": 5
}
