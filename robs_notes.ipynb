{
 "cells": [
  {
   "metadata": {},
   "cell_type": "markdown",
   "source": [
    "# Graph Neural Networks\n",
    "## What are Graph Neural Networks (GNNs)?\n",
    "GNNs are a type of deep learning model that can represent graphs. "
   ],
   "id": "d216dc5d98391e6f"
  },
  {
   "cell_type": "code",
   "id": "initial_id",
   "metadata": {
    "collapsed": true,
    "ExecuteTime": {
     "end_time": "2024-11-06T17:45:09.022218Z",
     "start_time": "2024-11-06T17:44:49.030007Z"
    }
   },
   "source": [
    "#import the basics\n",
    "import os\n",
    "import torch\n",
    "import torch_geometric as tg\n",
    "import matplotlib.pyplot as plt\n",
    "import pandas as pd\n",
    "import numpy as np\n",
    "%matplotlib inline"
   ],
   "outputs": [],
   "execution_count": 2
  },
  {
   "metadata": {
    "ExecuteTime": {
     "end_time": "2024-11-06T17:50:07.898421Z",
     "start_time": "2024-11-06T17:50:07.890490Z"
    }
   },
   "cell_type": "code",
   "source": [
    "# Let's verify what device we are working with\n",
    "device = torch.device('cuda' if torch.cuda.is_available() else 'cpu')\n",
    "print(\"You are using device: %s\" % device)"
   ],
   "id": "67fbe8da1fe75fe3",
   "outputs": [
    {
     "name": "stdout",
     "output_type": "stream",
     "text": [
      "You are using device: cpu\n"
     ]
    }
   ],
   "execution_count": 5
  },
  {
   "metadata": {},
   "cell_type": "markdown",
   "source": [
    "# Data\n",
    "Heterogeneous graphs are perfect for recommendation systems. Let's examine a data set from pytorch geometric to understand some basics about the data.\n",
    "\n",
    "### Datasets:\n",
    "\"AmazonBook\" - A subset of the AmazonBook rating dataset from the \"LightGCN: Simplifying and Powering Graph Convolution Network for Recommendation\" paper."
   ],
   "id": "96e4180648083ec0"
  },
  {
   "metadata": {
    "ExecuteTime": {
     "end_time": "2024-11-06T17:51:29.553894Z",
     "start_time": "2024-11-06T17:51:22.567535Z"
    }
   },
   "cell_type": "code",
   "source": [
    "from torch_geometric.datasets import AmazonBook\n",
    "data = AmazonBook(root=\"./data/AmazonBook\")[0]"
   ],
   "id": "b687c078a44f1888",
   "outputs": [
    {
     "name": "stderr",
     "output_type": "stream",
     "text": [
      "Downloading https://raw.githubusercontent.com/gusye1234/LightGCN-PyTorch/master/data/amazon-book/user_list.txt\n",
      "Downloading https://raw.githubusercontent.com/gusye1234/LightGCN-PyTorch/master/data/amazon-book/item_list.txt\n",
      "Downloading https://raw.githubusercontent.com/gusye1234/LightGCN-PyTorch/master/data/amazon-book/train.txt\n",
      "Downloading https://raw.githubusercontent.com/gusye1234/LightGCN-PyTorch/master/data/amazon-book/test.txt\n",
      "Processing...\n",
      "Done!\n"
     ]
    }
   ],
   "execution_count": 7
  },
  {
   "metadata": {
    "ExecuteTime": {
     "end_time": "2024-11-06T17:53:21.476017Z",
     "start_time": "2024-11-06T17:53:21.467699Z"
    }
   },
   "cell_type": "code",
   "source": "data",
   "id": "1db0dffb064b5acc",
   "outputs": [
    {
     "data": {
      "text/plain": [
       "HeteroData(\n",
       "  user={ num_nodes=52643 },\n",
       "  book={ num_nodes=91599 },\n",
       "  (user, rates, book)={\n",
       "    edge_index=[2, 2380730],\n",
       "    edge_label_index=[2, 603378],\n",
       "  },\n",
       "  (book, rated_by, user)={ edge_index=[2, 2380730] }\n",
       ")"
      ]
     },
     "execution_count": 10,
     "metadata": {},
     "output_type": "execute_result"
    }
   ],
   "execution_count": 10
  }
 ],
 "metadata": {
  "kernelspec": {
   "display_name": "Python 3",
   "language": "python",
   "name": "python3"
  },
  "language_info": {
   "codemirror_mode": {
    "name": "ipython",
    "version": 2
   },
   "file_extension": ".py",
   "mimetype": "text/x-python",
   "name": "python",
   "nbconvert_exporter": "python",
   "pygments_lexer": "ipython2",
   "version": "2.7.6"
  }
 },
 "nbformat": 4,
 "nbformat_minor": 5
}
