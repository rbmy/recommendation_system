{
 "cells": [
  {
   "cell_type": "markdown",
   "id": "d216dc5d98391e6f",
   "metadata": {},
   "source": [
    "# Graph Neural Networks\n",
    "## What are Graph Neural Networks (GNNs)?"
   ]
  },
  {
   "cell_type": "code",
   "id": "initial_id",
   "metadata": {
    "collapsed": true,
    "jupyter": {
     "outputs_hidden": true
    },
    "ExecuteTime": {
     "end_time": "2024-11-20T00:41:08.379823Z",
     "start_time": "2024-11-20T00:41:02.502815Z"
    }
   },
   "source": [
    "#import the basics\n",
    "import os\n",
    "import torch\n",
    "import torch_geometric\n",
    "import torch_geometric as tg\n",
    "import matplotlib.pyplot as plt\n",
    "import pandas as pd\n",
    "import numpy as np\n",
    "%matplotlib inline"
   ],
   "outputs": [],
   "execution_count": 2
  },
  {
   "cell_type": "code",
   "id": "67fbe8da1fe75fe3",
   "metadata": {
    "ExecuteTime": {
     "end_time": "2024-11-20T00:41:08.395816Z",
     "start_time": "2024-11-20T00:41:08.388819Z"
    }
   },
   "source": [
    "# Let's verify what device we are working with\n",
    "device = torch.device('cuda' if torch.cuda.is_available() else 'cpu')\n",
    "print(\"You are using device: %s\" % device)"
   ],
   "outputs": [
    {
     "name": "stdout",
     "output_type": "stream",
     "text": [
      "You are using device: cuda\n"
     ]
    }
   ],
   "execution_count": 3
  },
  {
   "metadata": {},
   "cell_type": "markdown",
   "source": [
    "Graph Neural Networks are a type of \"geometric deep learning\" models that use pairwise message passing. They typically have an architecture consisting of 3 types of layers. From [wikipedia](https://en.wikipedia.org/wiki/Graph_neural_network):\n",
    "1. Permutation equivariant: a permutation equivariant layer maps a representation of a graph into an updated representation of the same graph. In the literature, permutation equivariant layers are implemented via **pairwise message passing between graph nodes**. Intuitively, in a message passing layer, nodes update their representations by aggregating the messages received from their immediate neighbours. As such, each message passing layer increases the receptive field of the GNN by one hop.\n",
    "2. Local pooling: a local pooling layer coarsens the graph via downsampling. Local pooling is used to increase the receptive field of a GNN, in a similar fashion to pooling layers in convolutional neural networks. Examples include k-nearest neighbours pooling, top-k pooling, and self-attention pooling.\n",
    "3. Global pooling: a global pooling layer, also known as readout layer, provides fixed-size representation of the whole graph. The global pooling layer must be permutation invariant, such that permutations in the ordering of graph nodes and edges do not alter the final output. Examples include element-wise sum, mean or maximum.\n",
    "\n",
    "## Attributes\n",
    "- [T]he preprocessing step first\n",
    "“squashes” the graph structured data into a vector of reals and\n",
    "then deals with the preprocessed data using a list-based data\n",
    "processing technique. However, important information, e.g., the\n",
    "topological dependency of information on each node may be\n",
    "lost during the preprocessing stage and the final result may depend, in an unpredictable manner, on the details of the preprocessing algorith [1] **GNNS preserve the structure of the graph it is based on.**\n",
    "- It will be shown that the GNN\n",
    "is an extension of both recursive neural networks and random\n",
    "walk models and that it retains their characteristics. The model\n",
    "extends recursive neural networks since it can process a more\n",
    "general class of graphs including cyclic, directed, and undirected graphs, and it can deal with node-focused applications\n",
    "without any preprocessing steps. The approach extends random\n",
    "walk theory by the introduction of a learning algorithm and by\n",
    "enlarging the class of processes that can be modeled. [1]\n",
    "- Weights are shared across layer structures"
   ],
   "id": "2b01e644be17227d"
  },
  {
   "metadata": {},
   "cell_type": "markdown",
   "source": [
    "### What is message passing?\n",
    "From [wikipedia](https://en.wikipedia.org/wiki/Graph_neural_network#Message_passing_layers):\n",
    "<br>\n",
    "![img](./img/notebook/messagePassing.png)"
   ],
   "id": "5cf99a039651b47d"
  },
  {
   "metadata": {},
   "cell_type": "markdown",
   "source": [
    "## Computation Graph\n",
    "\"The neighbour of a node defines its computation graph\" - @12:34 https://www.youtube.com/watch?v=JtDgmmQ60x8&ab_channel=AntonioLonga\n",
    "\n"
   ],
   "id": "2a5502a902d3a34d"
  },
  {
   "cell_type": "markdown",
   "id": "96e4180648083ec0",
   "metadata": {},
   "source": [
    "# Data\n",
    "Heterogeneous graphs are perfect for recommendation systems. Let's examine a data set from pytorch geometric to understand some basics about the data.\n",
    "\n",
    "### Datasets:\n",
    "\"AmazonBook\" - A subset of the AmazonBook rating dataset from the \"LightGCN: Simplifying and Powering Graph Convolution Network for Recommendation\" paper."
   ]
  },
  {
   "cell_type": "code",
   "id": "b687c078a44f1888",
   "metadata": {
    "ExecuteTime": {
     "end_time": "2024-11-20T00:41:09.524815Z",
     "start_time": "2024-11-20T00:41:08.443816Z"
    }
   },
   "source": [
    "from torch_geometric.datasets import AmazonBook\n",
    "dataset = AmazonBook(root=\"./data/AmazonBook\")\n",
    "\n",
    "print(f\"Dataset: {dataset}\")\n",
    "print(f\"Number of graphs in dataset: {len(dataset)}\")\n",
    "print(f\"Number of features of dataset: {dataset.num_features}\")\n",
    "\n",
    "data = dataset[0]\n",
    "data.to(device)\n",
    "\n",
    "print(f\"data = Dataset[0]: {data}\")\n",
    "\n",
    "print(f\"Number of features of data: {data.num_features}\")\n",
    "print(f\"Number of nodes of data: {data.num_nodes}\")\n",
    "print(f\"Number of edges of data: {data.num_edges}\")\n",
    "print(f\"data is directed?: {data.is_directed()}\")\n",
    "print(f\"data has isolated nodes?: {data.has_isolated_nodes()}\")\n",
    "print(f\"data contains self loops?: {data.has_self_loops()}\")\n",
    "print(f\"data node types: {data.node_types}\")\n",
    "print(f\"data edge types: {data.edge_types}\")\n",
    "print(f\"data is on device: {'CUDA' if data.is_cuda else 'CPU' if data.is_cpu else 'NONE'}\")\n"
   ],
   "outputs": [
    {
     "name": "stdout",
     "output_type": "stream",
     "text": [
      "Dataset: AmazonBook()\n",
      "Number of graphs in dataset: 1\n",
      "Number of features of dataset: {'user': 0, 'book': 0}\n",
      "data = Dataset[0]: HeteroData(\n",
      "  user={ num_nodes=52643 },\n",
      "  book={ num_nodes=91599 },\n",
      "  (user, rates, book)={\n",
      "    edge_index=[2, 2380730],\n",
      "    edge_label_index=[2, 603378],\n",
      "  },\n",
      "  (book, rated_by, user)={ edge_index=[2, 2380730] }\n",
      ")\n",
      "Number of features of data: {'user': 0, 'book': 0}\n",
      "Number of nodes of data: 144242\n",
      "Number of edges of data: 4761460\n",
      "data is directed?: False\n",
      "data has isolated nodes?: False\n",
      "data contains self loops?: False\n",
      "data node types: ['user', 'book']\n",
      "data edge types: [('user', 'rates', 'book'), ('book', 'rated_by', 'user')]\n",
      "data is on device: CUDA\n"
     ]
    }
   ],
   "execution_count": 4
  },
  {
   "metadata": {
    "ExecuteTime": {
     "end_time": "2024-11-20T00:41:09.603815Z",
     "start_time": "2024-11-20T00:41:09.542815Z"
    }
   },
   "cell_type": "code",
   "source": "data.validate(raise_on_error=True)",
   "id": "2a69142adb053966",
   "outputs": [
    {
     "data": {
      "text/plain": [
       "True"
      ]
     },
     "execution_count": 5,
     "metadata": {},
     "output_type": "execute_result"
    }
   ],
   "execution_count": 5
  },
  {
   "metadata": {
    "ExecuteTime": {
     "end_time": "2024-11-20T01:02:16.253297Z",
     "start_time": "2024-11-20T01:02:16.244299Z"
    }
   },
   "cell_type": "code",
   "source": [
    "print(f\"Number of training edges: {data['user','rates','book'].edge_index.shape[1]}\")\n",
    "print(f\"Number of testing edges: {data['user','rates','book'].edge_label_index.shape[1]}\")"
   ],
   "id": "8a6a2037a53aa1a9",
   "outputs": [
    {
     "name": "stdout",
     "output_type": "stream",
     "text": [
      "Number of training edges: 2380730\n",
      "Number of testing edges: 603378\n"
     ]
    }
   ],
   "execution_count": 23
  },
  {
   "metadata": {},
   "cell_type": "markdown",
   "source": [
    "- Link Prediction on MovieLens.ipynb - https://colab.research.google.com/drive/1xpzn1Nvai1ygd_P5Yambc_oe4VBPK_ZT?usp=sharing#scrollTo=JMGYv83WzSRr\n",
    "- [1] Neural Graph Collaborative Filtering - https://dl.acm.org/doi/pdf/10.1145/3331184.3331267"
   ],
   "id": "d19971e5e6b2f42e"
  },
  {
   "metadata": {
    "ExecuteTime": {
     "end_time": "2024-11-19T00:32:24.045082Z",
     "start_time": "2024-11-19T00:32:21.661161Z"
    }
   },
   "cell_type": "code",
   "source": "torch.manual_seed(1234)",
   "id": "e5e29466b0ed72e7",
   "outputs": [],
   "execution_count": 93
  },
  {
   "metadata": {},
   "cell_type": "markdown",
   "source": [
    "## Naive Graph Neural Network\n",
    "\n"
   ],
   "id": "ab517eeeb4c44c2d"
  },
  {
   "metadata": {
    "ExecuteTime": {
     "end_time": "2024-11-17T21:59:38.211106Z",
     "start_time": "2024-11-17T21:59:38.196093Z"
    }
   },
   "cell_type": "code",
   "source": [
    "from torch_geometric.nn import MLP, MessagePassing, PositionalEncoding\n",
    "from torch.nn import Parameter\n",
    "\n",
    "class GNNLayer(MessagePassing):\n",
    "    def __init__(self, in_channels, out_channels, hidden_channels=128, aggr='add'):\n",
    "        super(GNNLayer, self).__init__(aggr=aggr)\n",
    "        self.message_function = MLP(in_channels= in_channels,\n",
    "                                    hidden_channels=hidden_channels,\n",
    "                                    out_channels=out_channels, num_layers=2) # default activation is ReLU\n",
    "        self.update_function = MLP(in_channels=in_channels+out_channels,\n",
    "                                   hidden_channels=hidden_channels,\n",
    "                                   out_channels=out_channels, num_layers=2) # default activation is ReLU\n",
    "\n",
    "    def forward(self, x, edge_index):\n",
    "        # edge_index    [2, E]\n",
    "        return self.propagate(edge_index=edge_index, x=x)\n",
    "\n",
    "    def message(self, x_j):\n",
    "        return self.message_function(x_j)\n",
    "\n",
    "    def update(self, aggr_out):\n",
    "        return self.update_function(aggr_out)\n",
    "\n",
    "class GNN(torch.nn.Module):\n",
    "    def __init__(self, out_channels, num_of_nodes, num_of_node_features=2, hidden_channels=128, aggr='add'):\n",
    "        super(GNN, self).__init__()\n",
    "        self.node_features = Parameter(torch.randn(num_of_nodes, num_of_node_features))\n",
    "        self.gnn_layer_1 = GNNLayer(in_channels=num_of_node_features, out_channels=out_channels, hidden_channels=hidden_channels, aggr=aggr)\n",
    "\n",
    "    def forward(self,edge_index):\n",
    "        x = self.gnn_layer_1(self.node_features, edge_index)\n",
    "\n"
   ],
   "id": "398d6f686d650d86",
   "outputs": [],
   "execution_count": null
  },
  {
   "metadata": {},
   "cell_type": "markdown",
   "source": [
    "## References\n",
    "[1] The Graph Neural Network Model - https://ieeexplore.ieee.org/stamp/stamp.jsp?tp=&arnumber=4700287\n",
    "\n",
    "[2] Geometric Deep Learning Grids, Groups, Graphs, Geodesics, and Gauges - https://arxiv.org/pdf/2104.13478"
   ],
   "id": "68e1491083e75d7b"
  },
  {
   "metadata": {},
   "cell_type": "code",
   "outputs": [],
   "execution_count": null,
   "source": "",
   "id": "dae47fed4f208b44"
  }
 ],
 "metadata": {
  "kernelspec": {
   "display_name": "Python 3 (ipykernel)",
   "language": "python",
   "name": "python3"
  },
  "language_info": {
   "codemirror_mode": {
    "name": "ipython",
    "version": 3
   },
   "file_extension": ".py",
   "mimetype": "text/x-python",
   "name": "python",
   "nbconvert_exporter": "python",
   "pygments_lexer": "ipython3",
   "version": "3.8.20"
  }
 },
 "nbformat": 4,
 "nbformat_minor": 5
}
