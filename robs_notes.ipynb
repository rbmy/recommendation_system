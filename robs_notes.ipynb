{
 "cells": [
  {
   "cell_type": "markdown",
   "id": "d216dc5d98391e6f",
   "metadata": {},
   "source": [
    "# Graph Neural Networks\n",
    "## What are Graph Neural Networks (GNNs)?"
   ]
  },
  {
   "cell_type": "code",
   "id": "initial_id",
   "metadata": {
    "collapsed": true,
    "jupyter": {
     "outputs_hidden": true
    },
    "ExecuteTime": {
     "end_time": "2024-11-14T21:15:50.638610Z",
     "start_time": "2024-11-14T21:15:50.617632Z"
    }
   },
   "source": [
    "#import the basics\n",
    "import os\n",
    "import torch\n",
    "import torch_geometric as tg\n",
    "import matplotlib.pyplot as plt\n",
    "import pandas as pd\n",
    "import numpy as np\n",
    "%matplotlib inline"
   ],
   "outputs": [],
   "execution_count": 2
  },
  {
   "cell_type": "code",
   "id": "67fbe8da1fe75fe3",
   "metadata": {
    "ExecuteTime": {
     "end_time": "2024-11-14T21:15:54.553172Z",
     "start_time": "2024-11-14T21:15:54.533368Z"
    }
   },
   "source": [
    "# Let's verify what device we are working with\n",
    "device = torch.device('cuda' if torch.cuda.is_available() else 'cpu')\n",
    "print(\"You are using device: %s\" % device)"
   ],
   "outputs": [
    {
     "name": "stdout",
     "output_type": "stream",
     "text": [
      "You are using device: cpu\n"
     ]
    }
   ],
   "execution_count": 3
  },
  {
   "metadata": {},
   "cell_type": "markdown",
   "source": [
    "Graph Neural Networks are a type of \"geometric deep learning\" models that use pairwise message passing. They typically have an architecture consisting of 3 types of layers. From [wikipedia](https://en.wikipedia.org/wiki/Graph_neural_network):\n",
    "1. Permutation equivariant: a permutation equivariant layer maps a representation of a graph into an updated representation of the same graph. In the literature, permutation equivariant layers are implemented via **pairwise message passing between graph nodes**. Intuitively, in a message passing layer, nodes update their representations by aggregating the messages received from their immediate neighbours. As such, each message passing layer increases the receptive field of the GNN by one hop.\n",
    "2. Local pooling: a local pooling layer coarsens the graph via downsampling. Local pooling is used to increase the receptive field of a GNN, in a similar fashion to pooling layers in convolutional neural networks. Examples include k-nearest neighbours pooling, top-k pooling, and self-attention pooling.\n",
    "3. Global pooling: a global pooling layer, also known as readout layer, provides fixed-size representation of the whole graph. The global pooling layer must be permutation invariant, such that permutations in the ordering of graph nodes and edges do not alter the final output. Examples include element-wise sum, mean or maximum.\n",
    "\n",
    "## Attributes\n",
    "- [T]he preprocessing step first\n",
    "“squashes” the graph structured data into a vector of reals and\n",
    "then deals with the preprocessed data using a list-based data\n",
    "processing technique. However, important information, e.g., the\n",
    "topological dependency of information on each node may be\n",
    "lost during the preprocessing stage and the final result may depend, in an unpredictable manner, on the details of the preprocessing algorith [1] GNNS preserve the structure of the graph it is based on.\n",
    "- It will be shown that the GNN\n",
    "is an extension of both recursive neural networks and random\n",
    "walk models and that it retains their characteristics. The model\n",
    "extends recursive neural networks since it can process a more\n",
    "general class of graphs including cyclic, directed, and undirected graphs, and it can deal with node-focused applications\n",
    "without any preprocessing steps. The approach extends random\n",
    "walk theory by the introduction of a learning algorithm and by\n",
    "enlarging the class of processes that can be modeled. [1]"
   ],
   "id": "2b01e644be17227d"
  },
  {
   "metadata": {},
   "cell_type": "markdown",
   "source": [
    "### What is message passing?\n",
    "From [wikipedia](https://en.wikipedia.org/wiki/Graph_neural_network#Message_passing_layers):\n",
    "<br>\n",
    "![img](./img/notebook/messagePassing.png)"
   ],
   "id": "5cf99a039651b47d"
  },
  {
   "cell_type": "markdown",
   "id": "96e4180648083ec0",
   "metadata": {},
   "source": [
    "# Data\n",
    "Heterogeneous graphs are perfect for recommendation systems. Let's examine a data set from pytorch geometric to understand some basics about the data.\n",
    "\n",
    "### Datasets:\n",
    "\"AmazonBook\" - A subset of the AmazonBook rating dataset from the \"LightGCN: Simplifying and Powering Graph Convolution Network for Recommendation\" paper."
   ]
  },
  {
   "cell_type": "code",
   "id": "b687c078a44f1888",
   "metadata": {
    "ExecuteTime": {
     "end_time": "2024-11-14T21:16:08.521767Z",
     "start_time": "2024-11-14T21:16:06.513858Z"
    }
   },
   "source": [
    "from torch_geometric.datasets import AmazonBook\n",
    "dataset = AmazonBook(root=\"./data/AmazonBook\")\n",
    "\n",
    "print(f\"Dataset: {dataset}\")\n",
    "print(f\"Number of graphs: {len(dataset)}\")\n",
    "print(f\"Number of features: {dataset.num_features}\")\n",
    "\n",
    "data = dataset[0]\n",
    "data.to(device)\n",
    "\n",
    "print(f\"data = Dataset[0]: {data}\")\n",
    "\n",
    "print(f\"Number of features of data: {data.num_features}\")\n",
    "print(f\"Number of nodes of data: {data.num_nodes}\")\n",
    "print(f\"Number of edges of data: {data.num_edges}\")\n",
    "print(f\"data is directed?: {data.is_directed()}\")\n",
    "print(f\"data has isolated nodes?: {data.has_isolated_nodes()}\")\n",
    "print(f\"data node types: {data.node_types}\")\n",
    "print(f\"data edge types: {data.edge_types}\")\n"
   ],
   "outputs": [
    {
     "name": "stdout",
     "output_type": "stream",
     "text": [
      "Dataset: AmazonBook()\n",
      "Number of graphs: 1\n",
      "Number of features: {'user': 0, 'book': 0}\n",
      "data = Dataset[0]: HeteroData(\n",
      "  user={ num_nodes=52643 },\n",
      "  book={ num_nodes=91599 },\n",
      "  (user, rates, book)={\n",
      "    edge_index=[2, 2380730],\n",
      "    edge_label_index=[2, 603378],\n",
      "  },\n",
      "  (book, rated_by, user)={ edge_index=[2, 2380730] }\n",
      ")\n",
      "Number of features of data: {'user': 0, 'book': 0}\n",
      "Number of nodes of data: 144242\n",
      "Number of edges of data: 4761460\n",
      "data is directed?: False\n",
      "data has isolated nodes?: False\n",
      "data node types: ['user', 'book']\n",
      "data edge types: [('user', 'rates', 'book'), ('book', 'rated_by', 'user')]\n"
     ]
    }
   ],
   "execution_count": 4
  },
  {
   "metadata": {},
   "cell_type": "markdown",
   "source": [
    "## Data pre-processing\n",
    "\n",
    "Helpful resource: \n",
    "- Link Prediction on MovieLens.ipynb - https://colab.research.google.com/drive/1xpzn1Nvai1ygd_P5Yambc_oe4VBPK_ZT?usp=sharing#scrollTo=JMGYv83WzSRr\n",
    "- [1] Neural Graph Collaborative Filtering - https://dl.acm.org/doi/pdf/10.1145/3331184.3331267\n",
    "\n",
    "Similar experimental setting as *Neural Graph Collaborative Filtering*, used also in *LightGCN: Simplifying and powering graph convolutional networks for recommendation*\n",
    "> Amazon-book: Amazon-review is a widely used dataset for\n",
    "product recommendation. We select Amazon-book from the\n",
    "collection. Similarly, we use the 10-core setting to ensure that each\n",
    "user and item have at least ten interactions.\n",
    "\n",
    "> For each dataset, we randomly select 80% of historical\n",
    "interactions of each user to constitute the training set, and treat\n",
    "the remaining as the test set. From the training set, we randomly\n",
    "select 10% of interactions as validation set to tune hyper-parameters.\n",
    "For each observed user-item interaction, we treat it as a positive\n",
    "instance, and then conduct the negative sampling strategy to pair\n",
    "it with one negative item that the user did not consume before."
   ],
   "id": "d19971e5e6b2f42e"
  },
  {
   "metadata": {
    "ExecuteTime": {
     "end_time": "2024-11-10T02:59:49.089159Z",
     "start_time": "2024-11-10T02:59:41.866852Z"
    }
   },
   "cell_type": "code",
   "source": [
    "import torch_geometric.transforms as T\n",
    "\n",
    "transform = T.Compose([T.ToDevice(device), T.RandomLinkSplit(is_undirected=True, num_test=0.2, num_val=.1, edge_types=data.edge_types)])\n",
    "train_data, val_data, test_data = transform(data)"
   ],
   "id": "e5e29466b0ed72e7",
   "outputs": [],
   "execution_count": 4
  },
  {
   "metadata": {
    "ExecuteTime": {
     "end_time": "2024-11-10T02:59:51.809582Z",
     "start_time": "2024-11-10T02:59:51.796902Z"
    }
   },
   "cell_type": "code",
   "source": "train_data",
   "id": "ca16df6a6da925c",
   "outputs": [
    {
     "data": {
      "text/plain": [
       "HeteroData(\n",
       "  user={ num_nodes=52643 },\n",
       "  book={ num_nodes=91599 },\n",
       "  (user, rates, book)={\n",
       "    edge_index=[2, 1666511],\n",
       "    edge_label_index=[2, 3333022],\n",
       "    edge_label=[3333022],\n",
       "  },\n",
       "  (book, rated_by, user)={\n",
       "    edge_index=[2, 1666511],\n",
       "    edge_label=[3333022],\n",
       "    edge_label_index=[2, 3333022],\n",
       "  }\n",
       ")"
      ]
     },
     "execution_count": 5,
     "metadata": {},
     "output_type": "execute_result"
    }
   ],
   "execution_count": 5
  },
  {
   "metadata": {
    "ExecuteTime": {
     "end_time": "2024-11-10T02:59:55.244745Z",
     "start_time": "2024-11-10T02:59:55.237205Z"
    }
   },
   "cell_type": "code",
   "source": "val_data",
   "id": "893852f45e6b63a0",
   "outputs": [
    {
     "data": {
      "text/plain": [
       "HeteroData(\n",
       "  user={ num_nodes=52643 },\n",
       "  book={ num_nodes=91599 },\n",
       "  (user, rates, book)={\n",
       "    edge_index=[2, 1666511],\n",
       "    edge_label_index=[2, 476146],\n",
       "    edge_label=[476146],\n",
       "  },\n",
       "  (book, rated_by, user)={\n",
       "    edge_index=[2, 1666511],\n",
       "    edge_label=[476146],\n",
       "    edge_label_index=[2, 476146],\n",
       "  }\n",
       ")"
      ]
     },
     "execution_count": 6,
     "metadata": {},
     "output_type": "execute_result"
    }
   ],
   "execution_count": 6
  },
  {
   "metadata": {
    "ExecuteTime": {
     "end_time": "2024-11-10T03:00:10.969777Z",
     "start_time": "2024-11-10T03:00:10.961328Z"
    }
   },
   "cell_type": "code",
   "source": "test_data",
   "id": "8222f51ad1b1d7c",
   "outputs": [
    {
     "data": {
      "text/plain": [
       "HeteroData(\n",
       "  user={ num_nodes=52643 },\n",
       "  book={ num_nodes=91599 },\n",
       "  (user, rates, book)={\n",
       "    edge_index=[2, 1904584],\n",
       "    edge_label_index=[2, 952292],\n",
       "    edge_label=[952292],\n",
       "  },\n",
       "  (book, rated_by, user)={\n",
       "    edge_index=[2, 1904584],\n",
       "    edge_label=[952292],\n",
       "    edge_label_index=[2, 952292],\n",
       "  }\n",
       ")"
      ]
     },
     "execution_count": 7,
     "metadata": {},
     "output_type": "execute_result"
    }
   ],
   "execution_count": 7
  },
  {
   "metadata": {},
   "cell_type": "markdown",
   "source": "## Naive Graph Neural Network",
   "id": "ab517eeeb4c44c2d"
  },
  {
   "metadata": {},
   "cell_type": "code",
   "outputs": [],
   "execution_count": null,
   "source": "",
   "id": "398d6f686d650d86"
  },
  {
   "metadata": {},
   "cell_type": "markdown",
   "source": [
    "## References\n",
    "[1] The Graph Neural Network Model - https://ieeexplore.ieee.org/stamp/stamp.jsp?tp=&arnumber=4700287"
   ],
   "id": "68e1491083e75d7b"
  }
 ],
 "metadata": {
  "kernelspec": {
   "display_name": "Python 3 (ipykernel)",
   "language": "python",
   "name": "python3"
  },
  "language_info": {
   "codemirror_mode": {
    "name": "ipython",
    "version": 3
   },
   "file_extension": ".py",
   "mimetype": "text/x-python",
   "name": "python",
   "nbconvert_exporter": "python",
   "pygments_lexer": "ipython3",
   "version": "3.8.20"
  }
 },
 "nbformat": 4,
 "nbformat_minor": 5
}
