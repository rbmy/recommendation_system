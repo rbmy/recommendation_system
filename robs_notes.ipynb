{
 "cells": [
  {
   "cell_type": "markdown",
   "id": "d216dc5d98391e6f",
   "metadata": {},
   "source": [
    "# Graph Neural Networks\n",
    "## What are Graph Neural Networks (GNNs)?"
   ]
  },
  {
   "cell_type": "code",
   "id": "initial_id",
   "metadata": {
    "collapsed": true,
    "jupyter": {
     "outputs_hidden": true
    },
    "ExecuteTime": {
     "end_time": "2024-11-28T22:21:54.560693Z",
     "start_time": "2024-11-28T22:21:50.983694Z"
    }
   },
   "source": [
    "#import the basics\n",
    "import os\n",
    "import torch\n",
    "import torch_geometric\n",
    "import matplotlib.pyplot as plt\n",
    "import pandas as pd\n",
    "import numpy as np\n",
    "from networkx.classes import number_of_nodes\n",
    "%matplotlib inline"
   ],
   "outputs": [],
   "execution_count": 1
  },
  {
   "metadata": {
    "ExecuteTime": {
     "end_time": "2024-11-28T22:21:55.813906Z",
     "start_time": "2024-11-28T22:21:55.806906Z"
    }
   },
   "cell_type": "code",
   "source": "torch_geometric.__version__",
   "id": "e35d8b8b9e6c3dcc",
   "outputs": [
    {
     "data": {
      "text/plain": [
       "'2.6.1'"
      ]
     },
     "execution_count": 2,
     "metadata": {},
     "output_type": "execute_result"
    }
   ],
   "execution_count": 2
  },
  {
   "cell_type": "code",
   "id": "67fbe8da1fe75fe3",
   "metadata": {
    "ExecuteTime": {
     "end_time": "2024-11-28T22:21:57.068330Z",
     "start_time": "2024-11-28T22:21:57.050330Z"
    }
   },
   "source": [
    "# Let's verify what device we are working with\n",
    "device = torch.device('cuda' if torch.cuda.is_available() else 'cpu')\n",
    "print(\"You are using device: %s\" % device)"
   ],
   "outputs": [
    {
     "name": "stdout",
     "output_type": "stream",
     "text": [
      "You are using device: cuda\n"
     ]
    }
   ],
   "execution_count": 3
  },
  {
   "metadata": {},
   "cell_type": "markdown",
   "source": [
    "Graph Neural Networks are a type of \"geometric deep learning\" models that use pairwise message passing. They typically have an architecture consisting of 3 types of layers. From [wikipedia](https://en.wikipedia.org/wiki/Graph_neural_network):\n",
    "1. Permutation equivariant: a permutation equivariant layer maps a representation of a graph into an updated representation of the same graph. In the literature, permutation equivariant layers are implemented via **pairwise message passing between graph nodes**. Intuitively, in a message passing layer, nodes update their representations by aggregating the messages received from their immediate neighbours. As such, each message passing layer increases the receptive field of the GNN by one hop.\n",
    "2. Local pooling: a local pooling layer coarsens the graph via downsampling. Local pooling is used to increase the receptive field of a GNN, in a similar fashion to pooling layers in convolutional neural networks. Examples include k-nearest neighbours pooling, top-k pooling, and self-attention pooling.\n",
    "3. Global pooling: a global pooling layer, also known as readout layer, provides fixed-size representation of the whole graph. The global pooling layer must be permutation invariant, such that permutations in the ordering of graph nodes and edges do not alter the final output. Examples include element-wise sum, mean or maximum.\n",
    "\n",
    "## Attributes\n",
    "- [T]he preprocessing step first\n",
    "“squashes” the graph structured data into a vector of reals and\n",
    "then deals with the preprocessed data using a list-based data\n",
    "processing technique. However, important information, e.g., the\n",
    "topological dependency of information on each node may be\n",
    "lost during the preprocessing stage and the final result may depend, in an unpredictable manner, on the details of the preprocessing algorith [1] **GNNS preserve the structure of the graph it is based on.**\n",
    "- It will be shown that the GNN\n",
    "is an extension of both recursive neural networks and random\n",
    "walk models and that it retains their characteristics. The model\n",
    "extends recursive neural networks since it can process a more\n",
    "general class of graphs including cyclic, directed, and undirected graphs, and it can deal with node-focused applications\n",
    "without any preprocessing steps. The approach extends random\n",
    "walk theory by the introduction of a learning algorithm and by\n",
    "enlarging the class of processes that can be modeled. [1]\n",
    "- Weights are shared across layer structures"
   ],
   "id": "2b01e644be17227d"
  },
  {
   "metadata": {},
   "cell_type": "markdown",
   "source": [
    "### What is message passing?\n",
    "From [wikipedia](https://en.wikipedia.org/wiki/Graph_neural_network#Message_passing_layers):\n",
    "<br>\n",
    "![img](./img/notebook/messagePassing.png)"
   ],
   "id": "5cf99a039651b47d"
  },
  {
   "metadata": {},
   "cell_type": "markdown",
   "source": [
    "## Computation Graph\n",
    "\"The neighbour of a node defines its computation graph\" - @12:34 https://www.youtube.com/watch?v=JtDgmmQ60x8&ab_channel=AntonioLonga\n",
    "\n"
   ],
   "id": "2a5502a902d3a34d"
  },
  {
   "cell_type": "markdown",
   "id": "96e4180648083ec0",
   "metadata": {},
   "source": [
    "# Data\n",
    "Heterogeneous graphs are perfect for recommendation systems. Let's examine a data set from pytorch geometric to understand some basics about the data.\n",
    "\n",
    "### Datasets:\n",
    "\"AmazonBook\" - A subset of the AmazonBook rating dataset from the \"LightGCN: Simplifying and Powering Graph Convolution Network for Recommendation\" paper.\n",
    "\n",
    "\"MovieLens\" - A heterogeneous rating dataset, assembled by GroupLens Research from the MovieLens website, consisting of nodes of type \"movie\" and \"user\". User ratings for movies are available as ground truth labels for the edges between the users and the movies (\"user\", \"rates\", \"movie\")."
   ]
  },
  {
   "cell_type": "code",
   "id": "b687c078a44f1888",
   "metadata": {
    "ExecuteTime": {
     "end_time": "2024-11-30T01:45:04.321594Z",
     "start_time": "2024-11-30T01:45:04.207594Z"
    }
   },
   "source": [
    "from torch_geometric.datasets import AmazonBook, MovieLens\n",
    "from torch_geometric.transforms import Compose, ToDevice, ToUndirected\n",
    "\n",
    "transform = Compose([ToUndirected(), ToDevice(device)])\n",
    "\n",
    "# amazon_dataset = AmazonBook(root=\"./data/AmazonBook\")\n",
    "movielens_dataset = MovieLens(root=\"./data/MovieLens\", transform=transform, model_name='all-MiniLM-L6-v2')\n",
    "\n",
    "print(f\"Dataset: {movielens_dataset}\")\n",
    "print(f\"Number of graphs in dataset: {len(movielens_dataset)}\")\n",
    "print(f\"Number of features of dataset: {movielens_dataset.num_features}\")"
   ],
   "outputs": [
    {
     "name": "stdout",
     "output_type": "stream",
     "text": [
      "Dataset: MovieLens()\n",
      "Number of graphs in dataset: 1\n",
      "Number of features of dataset: {'movie': 404, 'user': 0}\n"
     ]
    }
   ],
   "execution_count": 65
  },
  {
   "metadata": {
    "ExecuteTime": {
     "end_time": "2024-11-30T01:45:08.636893Z",
     "start_time": "2024-11-30T01:45:08.561404Z"
    }
   },
   "cell_type": "code",
   "source": [
    "data = movielens_dataset[0]\n",
    "print(f\"data = Dataset[0]: {data}\")\n",
    "\n",
    "print(f\"Number of node features of data: {data.num_features}\")\n",
    "print(f\"Number of edge features of data: {data.num_edge_features}\")\n",
    "print(f\"Number of nodes of data: {data.num_nodes}\")\n",
    "print(f\"Number of user nodes of data: {data['user'].num_nodes}\")\n",
    "print(f\"Number of movie nodes of data: {data['movie'].num_nodes}\")\n",
    "print(f\"Number of edges of data: {data.num_edges}\")\n",
    "print(f\"data is directed?: {data.is_directed()}\")\n",
    "print(f\"data has isolated nodes?: {data.has_isolated_nodes()}\")\n",
    "print(f\"data contains self loops?: {data.has_self_loops()}\")\n",
    "print(f\"data node types: {data.node_types}\")\n",
    "print(f\"data edge types: {data.edge_types}\")\n",
    "print(f\"'user', 'rates', 'movie' first 5 labels: {data['user', 'rates', 'movie'].edge_label[0:5]}\")\n",
    "print(f\"data is on device: {'CUDA' if data.is_cuda else 'CPU'}\")"
   ],
   "id": "cbbdf32a18a33fc0",
   "outputs": [
    {
     "name": "stdout",
     "output_type": "stream",
     "text": [
      "data = Dataset[0]: HeteroData(\n",
      "  movie={ x=[9742, 404] },\n",
      "  user={ num_nodes=610 },\n",
      "  (user, rates, movie)={\n",
      "    edge_index=[2, 100836],\n",
      "    edge_label=[100836],\n",
      "    time=[100836],\n",
      "  },\n",
      "  (movie, rev_rates, user)={\n",
      "    edge_index=[2, 100836],\n",
      "    edge_label=[100836],\n",
      "    time=[100836],\n",
      "  }\n",
      ")\n",
      "Number of node features of data: {'movie': 404, 'user': 0}\n",
      "Number of edge features of data: {('user', 'rates', 'movie'): 0, ('movie', 'rev_rates', 'user'): 0}\n",
      "Number of nodes of data: 10352\n",
      "Number of user nodes of data: 610\n",
      "Number of movie nodes of data: 9742\n",
      "Number of edges of data: 201672\n",
      "data is directed?: False\n",
      "data has isolated nodes?: True\n",
      "data contains self loops?: False\n",
      "data node types: ['movie', 'user']\n",
      "data edge types: [('user', 'rates', 'movie'), ('movie', 'rev_rates', 'user')]\n",
      "'user', 'rates', 'movie' first 5 labels: tensor([4, 4, 4, 5, 5], device='cuda:0')\n",
      "data is on device: CUDA\n"
     ]
    }
   ],
   "execution_count": 66
  },
  {
   "metadata": {
    "ExecuteTime": {
     "end_time": "2024-11-30T01:45:12.192393Z",
     "start_time": "2024-11-30T01:45:12.168395Z"
    }
   },
   "cell_type": "code",
   "source": "data.validate(raise_on_error=True)",
   "id": "2a69142adb053966",
   "outputs": [
    {
     "data": {
      "text/plain": [
       "True"
      ]
     },
     "execution_count": 67,
     "metadata": {},
     "output_type": "execute_result"
    }
   ],
   "execution_count": 67
  },
  {
   "metadata": {
    "ExecuteTime": {
     "end_time": "2024-11-28T21:57:09.879743Z",
     "start_time": "2024-11-28T21:57:09.864737Z"
    }
   },
   "cell_type": "code",
   "source": [
    "# print(f\"Number of training edges: {data['user','rates','book'].edge_index.shape[1]}\")\n",
    "# print(f\"Number of testing edges: {data['user','rates','book'].edge_label_index.shape[1]}\")"
   ],
   "id": "8a6a2037a53aa1a9",
   "outputs": [],
   "execution_count": 7
  },
  {
   "metadata": {
    "ExecuteTime": {
     "end_time": "2024-11-28T21:57:09.911746Z",
     "start_time": "2024-11-28T21:57:09.896737Z"
    }
   },
   "cell_type": "code",
   "source": [
    "# print(f\"{torch.min(data['user', 'rates', 'book'].edge_index[0])}\")\n",
    "# print(f\"{torch.max(data['user', 'rates', 'book'].edge_index[0])}\")"
   ],
   "id": "11eec890cfb6607a",
   "outputs": [],
   "execution_count": 8
  },
  {
   "metadata": {},
   "cell_type": "markdown",
   "source": "Because there are no features on the edges or the nodes, the connections (edges) themselves are what we are training on.",
   "id": "ea59f67045bbee28"
  },
  {
   "metadata": {},
   "cell_type": "markdown",
   "source": [
    "- Link Prediction on MovieLens.ipynb - https://colab.research.google.com/drive/1xpzn1Nvai1ygd_P5Yambc_oe4VBPK_ZT?usp=sharing#scrollTo=JMGYv83WzSRr\n",
    "- [1] Neural Graph Collaborative Filtering - https://dl.acm.org/doi/pdf/10.1145/3331184.3331267"
   ],
   "id": "d19971e5e6b2f42e"
  },
  {
   "metadata": {
    "ExecuteTime": {
     "end_time": "2024-11-30T01:46:05.436157Z",
     "start_time": "2024-11-30T01:46:05.429158Z"
    }
   },
   "cell_type": "code",
   "source": "torch_geometric.seed_everything(1234)",
   "id": "e5e29466b0ed72e7",
   "outputs": [],
   "execution_count": 70
  },
  {
   "metadata": {},
   "cell_type": "markdown",
   "source": [
    "## Naive Graph Neural Network\n",
    "\n"
   ],
   "id": "ab517eeeb4c44c2d"
  },
  {
   "metadata": {
    "ExecuteTime": {
     "end_time": "2024-11-30T01:46:07.762604Z",
     "start_time": "2024-11-30T01:46:07.663636Z"
    }
   },
   "cell_type": "code",
   "source": [
    "from torch_geometric.transforms import RandomLinkSplit, ToDevice, ToUndirected, Compose\n",
    "\n",
    "# lets split the data into training, validation, and test sets\n",
    "transform = Compose([RandomLinkSplit(\n",
    "    is_undirected=True,\n",
    "    edge_types=('user', 'rates', 'movie'),\n",
    "    rev_edge_types=('movie', 'rev_rates', 'user')\n",
    "), ToDevice(device)])\n",
    "\n",
    "train_data, val_data, test_data = transform(data)"
   ],
   "id": "ea1ddba35644a207",
   "outputs": [],
   "execution_count": 71
  },
  {
   "metadata": {
    "ExecuteTime": {
     "end_time": "2024-11-30T01:46:09.235040Z",
     "start_time": "2024-11-30T01:46:09.220041Z"
    }
   },
   "cell_type": "code",
   "source": "train_data",
   "id": "3eb39937e3c1ace2",
   "outputs": [
    {
     "data": {
      "text/plain": [
       "HeteroData(\n",
       "  movie={ x=[9742, 404] },\n",
       "  user={ num_nodes=610 },\n",
       "  (user, rates, movie)={\n",
       "    edge_index=[2, 70586],\n",
       "    time=[70586],\n",
       "    edge_label=[141172],\n",
       "    edge_label_index=[2, 141172],\n",
       "  },\n",
       "  (movie, rev_rates, user)={\n",
       "    edge_index=[2, 70586],\n",
       "    edge_label=[70586],\n",
       "    time=[70586],\n",
       "  }\n",
       ")"
      ]
     },
     "execution_count": 72,
     "metadata": {},
     "output_type": "execute_result"
    }
   ],
   "execution_count": 72
  },
  {
   "metadata": {
    "ExecuteTime": {
     "end_time": "2024-11-30T01:46:18.745143Z",
     "start_time": "2024-11-30T01:46:18.733145Z"
    }
   },
   "cell_type": "code",
   "source": "val_data",
   "id": "48ffa8daa4ad8cec",
   "outputs": [
    {
     "data": {
      "text/plain": [
       "HeteroData(\n",
       "  movie={ x=[9742, 404] },\n",
       "  user={ num_nodes=610 },\n",
       "  (user, rates, movie)={\n",
       "    edge_index=[2, 70586],\n",
       "    time=[70586],\n",
       "    edge_label=[20166],\n",
       "    edge_label_index=[2, 20166],\n",
       "  },\n",
       "  (movie, rev_rates, user)={\n",
       "    edge_index=[2, 70586],\n",
       "    edge_label=[70586],\n",
       "    time=[70586],\n",
       "  }\n",
       ")"
      ]
     },
     "execution_count": 73,
     "metadata": {},
     "output_type": "execute_result"
    }
   ],
   "execution_count": 73
  },
  {
   "metadata": {
    "ExecuteTime": {
     "end_time": "2024-11-30T01:46:22.180384Z",
     "start_time": "2024-11-30T01:46:22.165386Z"
    }
   },
   "cell_type": "code",
   "source": "test_data",
   "id": "44e138ca692caabb",
   "outputs": [
    {
     "data": {
      "text/plain": [
       "HeteroData(\n",
       "  movie={ x=[9742, 404] },\n",
       "  user={ num_nodes=610 },\n",
       "  (user, rates, movie)={\n",
       "    edge_index=[2, 80669],\n",
       "    time=[80669],\n",
       "    edge_label=[40334],\n",
       "    edge_label_index=[2, 40334],\n",
       "  },\n",
       "  (movie, rev_rates, user)={\n",
       "    edge_index=[2, 80669],\n",
       "    edge_label=[80669],\n",
       "    time=[80669],\n",
       "  }\n",
       ")"
      ]
     },
     "execution_count": 74,
     "metadata": {},
     "output_type": "execute_result"
    }
   ],
   "execution_count": 74
  },
  {
   "metadata": {
    "ExecuteTime": {
     "end_time": "2024-11-30T01:46:27.763115Z",
     "start_time": "2024-11-30T01:46:27.736115Z"
    }
   },
   "cell_type": "code",
   "source": [
    "print(f\"train data # of nodes: {train_data.num_nodes}\")\n",
    "print(f\"train data # of edges: {train_data.num_edges}\")\n",
    "print(f\"train data # of user nodes: {train_data['user'].num_nodes}\")\n",
    "print(f\"train data # of movie nodes: {train_data['movie'].num_nodes}\")\n",
    "print(f\"train data # of 'user', 'rates', 'movies' edges: {train_data['user','rates','movie'].num_edges}\")\n",
    "print(f\"train data # of 'movie', 'rev_rates', 'user' edges: {train_data['movie','rev_rates','user'].num_edges}\")\n",
    "print(f\"train data # of 'user', 'rates', 'movies' edge_label size: {train_data['user','rates','movie'].edge_label.size()}\")\n",
    "print(f\"train data # of 'user', 'rates', 'movies' edge_label_index size: {train_data['user','rates','movie'].edge_label_index.size()}\")\n",
    "print(f\"train data # of 'user', 'rates', 'movies' edge_label first 5: {train_data['user','rates','movie'].edge_label[0:5]}\")\n",
    "print(f\"train data # of 'user', 'rates', 'movies' edge_label_index first 5: {train_data['user','rates','movie'].edge_label_index[0,0:5]}\")\n",
    "print(f\"train data # of 'user', 'rates', 'movies' edge_label_index first 5: {train_data['user','rates','movie'].edge_label_index[1,0:5]}\")\n",
    "print(f\"train data # of 'user', 'rates', 'movies' edge_label min: {train_data['user','rates','movie'].edge_label.min()}\")\n",
    "print(f\"train data # of 'user', 'rates', 'movies' edge_label max: {train_data['user','rates','movie'].edge_label.max()}\")\n",
    "print(f\"train data size of edge_index first 5: {train_data['user','rates','movie'].edge_index[0,0:5]}\")\n",
    "print(f\"train data size of edge_index first 5: {train_data['user','rates','movie'].edge_index[1,0:5]}\")\n",
    "print(f\"train data size of edge_index: {train_data['user','rates','movie'].edge_index.size()}\")\n",
    "print(f\"train data size of edge_label_index: {train_data['user','rates','movie'].edge_label_index.size()}\")\n",
    "70586*2"
   ],
   "id": "cddf9bd67cb546f6",
   "outputs": [
    {
     "name": "stdout",
     "output_type": "stream",
     "text": [
      "train data # of nodes: 10352\n",
      "train data # of edges: 141172\n",
      "train data # of user nodes: 610\n",
      "train data # of movie nodes: 9742\n",
      "train data # of 'user', 'rates', 'movies' edges: 70586\n",
      "train data # of 'movie', 'rev_rates', 'user' edges: 70586\n",
      "train data # of 'user', 'rates', 'movies' edge_label size: torch.Size([141172])\n",
      "train data # of 'user', 'rates', 'movies' edge_label_index size: torch.Size([2, 141172])\n",
      "train data # of 'user', 'rates', 'movies' edge_label first 5: tensor([4, 6, 4, 6, 4], device='cuda:0')\n",
      "train data # of 'user', 'rates', 'movies' edge_label_index first 5: tensor([425,  19, 560, 606, 437], device='cuda:0')\n",
      "train data # of 'user', 'rates', 'movies' edge_label_index first 5: tensor([1777, 1593, 6770,  701, 5819], device='cuda:0')\n",
      "train data # of 'user', 'rates', 'movies' edge_label min: 0\n",
      "train data # of 'user', 'rates', 'movies' edge_label max: 6\n",
      "train data size of edge_index first 5: tensor([425,  19, 560, 606, 437], device='cuda:0')\n",
      "train data size of edge_index first 5: tensor([1777, 1593, 6770,  701, 5819], device='cuda:0')\n",
      "train data size of edge_index: torch.Size([2, 70586])\n",
      "train data size of edge_label_index: torch.Size([2, 141172])\n"
     ]
    },
    {
     "data": {
      "text/plain": [
       "141172"
      ]
     },
     "execution_count": 75,
     "metadata": {},
     "output_type": "execute_result"
    }
   ],
   "execution_count": 75
  },
  {
   "metadata": {
    "ExecuteTime": {
     "end_time": "2024-11-30T01:47:23.475829Z",
     "start_time": "2024-11-30T01:47:23.462831Z"
    }
   },
   "cell_type": "code",
   "source": "train_data['user', 'rates', 'movie'].edge_label[train_data['user', 'rates', 'movie'].edge_label==0].size()",
   "id": "d101969382eb6588",
   "outputs": [
    {
     "data": {
      "text/plain": [
       "torch.Size([70586])"
      ]
     },
     "execution_count": 76,
     "metadata": {},
     "output_type": "execute_result"
    }
   ],
   "execution_count": 76
  },
  {
   "metadata": {
    "ExecuteTime": {
     "end_time": "2024-11-30T01:52:30.685668Z",
     "start_time": "2024-11-30T01:52:30.641668Z"
    }
   },
   "cell_type": "code",
   "source": [
    "from torch_geometric.loader import LinkNeighborLoader, NeighborLoader\n",
    "\n",
    "# Define a mini-batch loader\n",
    "num_hops = 1\n",
    "num_samples = {node_type: ([30] * num_hops) for node_type in train_data.edge_types}\n",
    "batch_size = 500\n",
    "\n",
    "print(num_samples)\n",
    "\n",
    "edge_type = ('user', 'rates', 'movie')\n",
    "edge_label_index = train_data['user', 'rates', 'movie'].edge_label_index # edge indices for which neighbors are sampled to create mini-batch\n",
    "edge_label= train_data['user', 'rates', 'movie'].edge_label\n",
    "\n",
    "loader = LinkNeighborLoader(\n",
    "    train_data,\n",
    "    num_neighbors= num_samples,\n",
    "    edge_label_index=(edge_type, edge_label_index),\n",
    "    edge_label=edge_label,\n",
    "    batch_size=batch_size\n",
    ")\n",
    "\n",
    "# loader = NeighborLoader(\n",
    "#     train_data,\n",
    "#     num_neighbors=num_samples * num_hops,\n",
    "#     batch_size=batch_size\n",
    "# )"
   ],
   "id": "f675bff25e347b8a",
   "outputs": [
    {
     "name": "stdout",
     "output_type": "stream",
     "text": [
      "{('user', 'rates', 'movie'): [30], ('movie', 'rev_rates', 'user'): [30]}\n"
     ]
    }
   ],
   "execution_count": 82
  },
  {
   "metadata": {
    "ExecuteTime": {
     "end_time": "2024-11-30T01:52:33.121032Z",
     "start_time": "2024-11-30T01:52:33.086034Z"
    }
   },
   "cell_type": "code",
   "source": [
    "sampled_data = next(iter(loader))\n",
    "print(sampled_data)"
   ],
   "id": "15da3569ccfeb198",
   "outputs": [
    {
     "name": "stdout",
     "output_type": "stream",
     "text": [
      "HeteroData(\n",
      "  movie={\n",
      "    x=[2706, 404],\n",
      "    n_id=[2706],\n",
      "    num_sampled_nodes=[2],\n",
      "  },\n",
      "  user={\n",
      "    num_nodes=601,\n",
      "    n_id=[601],\n",
      "    num_sampled_nodes=[2],\n",
      "  },\n",
      "  (user, rates, movie)={\n",
      "    edge_index=[2, 8872],\n",
      "    time=[8872],\n",
      "    edge_label=[500],\n",
      "    edge_label_index=[2, 500],\n",
      "    e_id=[8872],\n",
      "    num_sampled_edges=[1],\n",
      "    input_id=[500],\n",
      "  },\n",
      "  (movie, rev_rates, user)={\n",
      "    edge_index=[2, 6914],\n",
      "    edge_label=[6914],\n",
      "    time=[6914],\n",
      "    e_id=[6914],\n",
      "    num_sampled_edges=[1],\n",
      "  }\n",
      ")\n"
     ]
    }
   ],
   "execution_count": 83
  },
  {
   "metadata": {
    "ExecuteTime": {
     "end_time": "2024-11-30T01:56:34.639730Z",
     "start_time": "2024-11-30T01:56:34.619729Z"
    }
   },
   "cell_type": "code",
   "source": "len(loader)",
   "id": "79152354f26577e5",
   "outputs": [
    {
     "data": {
      "text/plain": [
       "283"
      ]
     },
     "execution_count": 84,
     "metadata": {},
     "output_type": "execute_result"
    }
   ],
   "execution_count": 84
  },
  {
   "metadata": {
    "ExecuteTime": {
     "end_time": "2024-11-30T02:01:40.286564Z",
     "start_time": "2024-11-30T02:01:40.243559Z"
    }
   },
   "cell_type": "code",
   "source": [
    "print(sampled_data['user']['n_id'][0:5])\n",
    "print(sampled_data['movie']['n_id'][0:5])\n",
    "print(sampled_data['user','rates','movie']['e_id'][0:5])\n",
    "print(sampled_data['user','rates','movie']['edge_index'][:,0:5])"
   ],
   "id": "1f31941e1193c89b",
   "outputs": [
    {
     "name": "stdout",
     "output_type": "stream",
     "text": [
      "tensor([ 5,  6,  7,  9, 10])\n",
      "tensor([ 0,  4,  6, 10, 31])\n",
      "tensor([12008, 42975,  3260, 38015, 51713])\n",
      "tensor([[237,  61, 238,  86, 239],\n",
      "        [  0,   0,   0,   0,   0]], device='cuda:0')\n"
     ]
    }
   ],
   "execution_count": 92
  },
  {
   "metadata": {
    "ExecuteTime": {
     "end_time": "2024-11-28T21:57:09.974737Z",
     "start_time": "2024-11-28T21:57:09.960737Z"
    }
   },
   "cell_type": "code",
   "outputs": [],
   "execution_count": 10,
   "source": [
    "from torch_geometric.nn import MLP, MessagePassing, Linear\n",
    "from torch.nn import Parameter\n",
    "from torch.nn import Embedding\n",
    "from torch.nn import functional as F\n",
    "\n",
    "class EmbeddingPropLayer(torch.nn.Module):\n",
    "    def __init__(self, emb_size, hidden_channels=128):\n",
    "        super(EmbeddingPropLayer, self).__init__()\n",
    "\n",
    "        self.W1 = Linear(emb_size, hidden_channels, bias=False)\n",
    "        self.W2 = Linear(emb_size, hidden_channels, bias=False)\n",
    "\n",
    "    def reset_parameters(self):\n",
    "        self.W1.reset_parameters()\n",
    "        self.W2.reset_parameters()\n",
    "\n",
    "    def forward(self, e_i, e_u):\n",
    "        m_uu, m_ui = self.message_aggregation(e_i, e_u)\n",
    "        return F.leaky_relu(m_uu + m_ui.sum(dim=1))\n",
    "\n",
    "    def message_construction(self, e_i, e_u, p_ui):\n",
    "        return p_ui * (self.W1(e_i) + self.W2(torch.mul(e_i, e_u)))\n",
    "\n",
    "    def message_aggregation(self,e_i, e_u):\n",
    "        p_ui = 1\n",
    "        m_ui = self.message_construction(e_i, e_u, p_ui)\n",
    "        m_uu = self.W1(e_u)\n",
    "        return m_uu, m_ui\n",
    "\n",
    "\n",
    "class EmbeddingLayer(torch.nn.Module):\n",
    "    \"\"\"\n",
    "        user u and item i with an embedding vector e_u that's an element of d real numbers\n",
    "        and e_i that's an element of a d real numbers\n",
    "    \"\"\"\n",
    "    def __init__(self, num_user_nodes, num_movie_nodes, hidden_channels=128):\n",
    "        super(EmbeddingLayer, self).__init__()\n",
    "        self.user_embedding(num_user_nodes, hidden_channels)\n",
    "        self.movie_embedding(num_movie_nodes, hidden_channels)\n",
    "\n",
    "    def forward(self, user_nodes, movie_nodes):\n",
    "        e_u = self.user_embedding(user_nodes)\n",
    "        e_i = self.movie_embedding(movie_nodes)\n",
    "\n",
    "        return e_u, e_i\n",
    "\n",
    "class NGCF(torch.nn.Module):\n",
    "    def __init__(self, num_user_nodes, num_movie_nodes, hidden_channels=128, aggr='mean'):\n",
    "        super(NGCF, self).__init__()\n",
    "\n",
    "        self.embeddings = EmbeddingLayer(num_user_nodes, num_movie_nodes, hidden_channels)\n",
    "        self.embedding_prop_1 = EmbeddingPropLayer(hidden_channels, hidden_channels)\n",
    "        self.embedding_prop_2 = EmbeddingPropLayer(hidden_channels, hidden_channels)\n",
    "        self.embedding_prop_3 = EmbeddingPropLayer(hidden_channels, hidden_channels)\n",
    "\n",
    "\n",
    "\n",
    "    def forward(self, ):\n",
    "        e_u, e_i = self.embeddings()\n",
    "        e_u1, e_i1 = self.embedding_prop_1(e_u, e_i)\n",
    "        e_u2, e_i2 = self.embedding_prop_1(e_u1, e_i1)\n",
    "        e_u3, e_i3 = self.embedding_prop_1(e_u2, e_i2)\n",
    "\n",
    "        torch.stack\n",
    "        return\n"
   ],
   "id": "398d6f686d650d86"
  },
  {
   "metadata": {
    "ExecuteTime": {
     "end_time": "2024-11-28T22:29:52.137958Z",
     "start_time": "2024-11-28T22:29:52.121958Z"
    }
   },
   "cell_type": "code",
   "source": [
    "#print(len(sampled_data[\"user\", \"rates\", \"movie\"]['edge_label']))\n",
    "print(sampled_data[\"user\", \"rates\", \"movie\"].edge_label_index[:,0:5])\n",
    "#print(sampled_data[\"user\", \"rates\", \"movie\"].edge_label[0:5])"
   ],
   "id": "5d8cd07aa2a721c7",
   "outputs": [
    {
     "name": "stdout",
     "output_type": "stream",
     "text": [
      "tensor([[ 54,  28, 219, 113, 108],\n",
      "        [204, 298,  59, 325, 266]])\n"
     ]
    }
   ],
   "execution_count": 54
  },
  {
   "metadata": {
    "ExecuteTime": {
     "end_time": "2024-11-27T01:14:53.846273Z",
     "start_time": "2024-11-27T01:14:53.836273Z"
    }
   },
   "cell_type": "code",
   "source": "torch.concat([torch.tensor([[1,2],[3,4]]),torch.tensor([[5,6],[7,8]])], dim=1)",
   "id": "8e798d156ed417f",
   "outputs": [
    {
     "data": {
      "text/plain": [
       "tensor([[1, 2, 5, 6],\n",
       "        [3, 4, 7, 8]])"
      ]
     },
     "execution_count": 241,
     "metadata": {},
     "output_type": "execute_result"
    }
   ],
   "execution_count": 241
  },
  {
   "metadata": {
    "ExecuteTime": {
     "end_time": "2024-11-28T22:30:19.179296Z",
     "start_time": "2024-11-28T22:30:19.148298Z"
    }
   },
   "cell_type": "code",
   "source": [
    "num_of_epochs = 10\n",
    "model = GNN()\n",
    "model.to(device)\n",
    "optimizer = torch.optim.Adam(model.parameters(), lr=0.001)\n",
    "\n",
    "print(model)"
   ],
   "id": "91e2bd7d8c3e77f0",
   "outputs": [
    {
     "ename": "NameError",
     "evalue": "name 'GNN' is not defined",
     "output_type": "error",
     "traceback": [
      "\u001B[1;31m---------------------------------------------------------------------------\u001B[0m",
      "\u001B[1;31mNameError\u001B[0m                                 Traceback (most recent call last)",
      "Cell \u001B[1;32mIn[55], line 2\u001B[0m\n\u001B[0;32m      1\u001B[0m num_of_epochs \u001B[38;5;241m=\u001B[39m \u001B[38;5;241m10\u001B[39m\n\u001B[1;32m----> 2\u001B[0m model \u001B[38;5;241m=\u001B[39m \u001B[43mGNN\u001B[49m()\n\u001B[0;32m      3\u001B[0m model\u001B[38;5;241m.\u001B[39mto(device)\n\u001B[0;32m      4\u001B[0m optimizer \u001B[38;5;241m=\u001B[39m torch\u001B[38;5;241m.\u001B[39moptim\u001B[38;5;241m.\u001B[39mAdam(model\u001B[38;5;241m.\u001B[39mparameters(), lr\u001B[38;5;241m=\u001B[39m\u001B[38;5;241m0.001\u001B[39m)\n",
      "\u001B[1;31mNameError\u001B[0m: name 'GNN' is not defined"
     ]
    }
   ],
   "execution_count": 55
  },
  {
   "metadata": {
    "ExecuteTime": {
     "end_time": "2024-11-27T20:05:41.006358Z",
     "start_time": "2024-11-27T20:05:40.988352Z"
    }
   },
   "cell_type": "code",
   "source": [
    "def train_model(model, batch):\n",
    "    optimizer.zero_grad()\n",
    "\n",
    "    batch.to(device)\n",
    "\n",
    "    target = batch['user', 'rates', 'movie'].edge_label.to(device).to(torch.float64)\n",
    "\n",
    "    pred = model(batch['user','rates', 'movie'].edge_label_index, batch[\"movie\"].x)\n",
    "\n",
    "    loss = F.binary_cross_entropy_with_logits(pred, target)\n",
    "    loss.backward()\n",
    "    optimizer.step()\n",
    "\n",
    "    return pred, loss"
   ],
   "id": "ad08b6c3df59cb07",
   "outputs": [],
   "execution_count": 288
  },
  {
   "metadata": {
    "ExecuteTime": {
     "end_time": "2024-11-27T02:25:57.986484Z",
     "start_time": "2024-11-27T02:25:57.963473Z"
    }
   },
   "cell_type": "code",
   "source": "pred, loss = train_model(model, sampled_data)",
   "id": "d98f361586add0ba",
   "outputs": [
    {
     "name": "stdout",
     "output_type": "stream",
     "text": [
      "x_i size: torch.Size([1500, 404])\n"
     ]
    }
   ],
   "execution_count": 277
  },
  {
   "metadata": {
    "ExecuteTime": {
     "end_time": "2024-11-27T02:16:42.382317Z",
     "start_time": "2024-11-27T02:16:42.356317Z"
    }
   },
   "cell_type": "code",
   "source": "torch.nn.functional.softmax(pred, dim=0).max()",
   "id": "422465dcbc511a1e",
   "outputs": [
    {
     "data": {
      "text/plain": [
       "tensor(1., device='cuda:0', grad_fn=<MaxBackward1>)"
      ]
     },
     "execution_count": 266,
     "metadata": {},
     "output_type": "execute_result"
    }
   ],
   "execution_count": 266
  },
  {
   "metadata": {
    "ExecuteTime": {
     "end_time": "2024-11-27T02:28:46.391407Z",
     "start_time": "2024-11-27T02:28:01.801311Z"
    }
   },
   "cell_type": "code",
   "source": [
    "import tqdm\n",
    "from torch.nn import functional as F\n",
    "\n",
    "model.train()\n",
    "for epoch in range(num_of_epochs):\n",
    "    total_loss = total_examples = 0.0\n",
    "    for batch in tqdm.tqdm(loader):\n",
    "        pred, loss = train_model(model, batch)\n",
    "        total_loss += float(loss) * pred.numel()\n",
    "        total_examples += pred.numel()\n",
    "    print(f\"Epoch: {epoch:03d}, loss: {total_loss/total_examples:.4f}\")\n"
   ],
   "id": "76dfbbb7476a689b",
   "outputs": [
    {
     "name": "stderr",
     "output_type": "stream",
     "text": [
      "100%|██████████| 283/283 [00:04<00:00, 59.10it/s]\n"
     ]
    },
    {
     "name": "stdout",
     "output_type": "stream",
     "text": [
      "Epoch: 000, loss: -276054893.4609\n"
     ]
    },
    {
     "name": "stderr",
     "output_type": "stream",
     "text": [
      "100%|██████████| 283/283 [00:04<00:00, 64.23it/s]\n"
     ]
    },
    {
     "name": "stdout",
     "output_type": "stream",
     "text": [
      "Epoch: 001, loss: -6965468880.1423\n"
     ]
    },
    {
     "name": "stderr",
     "output_type": "stream",
     "text": [
      "100%|██████████| 283/283 [00:04<00:00, 64.58it/s]\n"
     ]
    },
    {
     "name": "stdout",
     "output_type": "stream",
     "text": [
      "Epoch: 002, loss: -43552658599.4177\n"
     ]
    },
    {
     "name": "stderr",
     "output_type": "stream",
     "text": [
      "100%|██████████| 283/283 [00:04<00:00, 63.90it/s]\n"
     ]
    },
    {
     "name": "stdout",
     "output_type": "stream",
     "text": [
      "Epoch: 003, loss: -149708702269.1843\n"
     ]
    },
    {
     "name": "stderr",
     "output_type": "stream",
     "text": [
      "100%|██████████| 283/283 [00:04<00:00, 64.20it/s]\n"
     ]
    },
    {
     "name": "stdout",
     "output_type": "stream",
     "text": [
      "Epoch: 004, loss: -374746060748.0128\n"
     ]
    },
    {
     "name": "stderr",
     "output_type": "stream",
     "text": [
      "100%|██████████| 283/283 [00:04<00:00, 63.67it/s]\n"
     ]
    },
    {
     "name": "stdout",
     "output_type": "stream",
     "text": [
      "Epoch: 005, loss: -783696045250.5245\n"
     ]
    },
    {
     "name": "stderr",
     "output_type": "stream",
     "text": [
      "100%|██████████| 283/283 [00:04<00:00, 64.46it/s]\n"
     ]
    },
    {
     "name": "stdout",
     "output_type": "stream",
     "text": [
      "Epoch: 006, loss: -1409574596453.5586\n"
     ]
    },
    {
     "name": "stderr",
     "output_type": "stream",
     "text": [
      "100%|██████████| 283/283 [00:04<00:00, 64.42it/s]\n"
     ]
    },
    {
     "name": "stdout",
     "output_type": "stream",
     "text": [
      "Epoch: 007, loss: -2346320333454.2905\n"
     ]
    },
    {
     "name": "stderr",
     "output_type": "stream",
     "text": [
      "100%|██████████| 283/283 [00:04<00:00, 64.39it/s]\n"
     ]
    },
    {
     "name": "stdout",
     "output_type": "stream",
     "text": [
      "Epoch: 008, loss: -3637393403807.4053\n"
     ]
    },
    {
     "name": "stderr",
     "output_type": "stream",
     "text": [
      "100%|██████████| 283/283 [00:04<00:00, 62.57it/s]"
     ]
    },
    {
     "name": "stdout",
     "output_type": "stream",
     "text": [
      "Epoch: 009, loss: -5352262381109.0234\n"
     ]
    },
    {
     "name": "stderr",
     "output_type": "stream",
     "text": [
      "\n"
     ]
    }
   ],
   "execution_count": 282
  },
  {
   "metadata": {},
   "cell_type": "code",
   "outputs": [],
   "execution_count": null,
   "source": "",
   "id": "3224abf4b5876e8c"
  }
 ],
 "metadata": {
  "kernelspec": {
   "display_name": "Python 3 (ipykernel)",
   "language": "python",
   "name": "python3"
  },
  "language_info": {
   "codemirror_mode": {
    "name": "ipython",
    "version": 3
   },
   "file_extension": ".py",
   "mimetype": "text/x-python",
   "name": "python",
   "nbconvert_exporter": "python",
   "pygments_lexer": "ipython3",
   "version": "3.8.20"
  }
 },
 "nbformat": 4,
 "nbformat_minor": 5
}
