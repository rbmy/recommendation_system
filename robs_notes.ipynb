{
 "cells": [
  {
   "cell_type": "markdown",
   "id": "d216dc5d98391e6f",
   "metadata": {},
   "source": [
    "# Graph Neural Networks\n",
    "## What are Graph Neural Networks (GNNs)?"
   ]
  },
  {
   "cell_type": "code",
   "id": "initial_id",
   "metadata": {
    "collapsed": true,
    "jupyter": {
     "outputs_hidden": true
    },
    "ExecuteTime": {
     "end_time": "2024-11-24T21:31:17.236941Z",
     "start_time": "2024-11-24T21:31:17.222943Z"
    }
   },
   "source": [
    "#import the basics\n",
    "import os\n",
    "import torch\n",
    "import torch_geometric\n",
    "import matplotlib.pyplot as plt\n",
    "import pandas as pd\n",
    "import numpy as np\n",
    "%matplotlib inline"
   ],
   "outputs": [],
   "execution_count": 24
  },
  {
   "metadata": {
    "ExecuteTime": {
     "end_time": "2024-11-24T21:31:17.268941Z",
     "start_time": "2024-11-24T21:31:17.243943Z"
    }
   },
   "cell_type": "code",
   "source": "torch_geometric.__version__",
   "id": "e35d8b8b9e6c3dcc",
   "outputs": [
    {
     "data": {
      "text/plain": [
       "'2.6.1'"
      ]
     },
     "execution_count": 25,
     "metadata": {},
     "output_type": "execute_result"
    }
   ],
   "execution_count": 25
  },
  {
   "cell_type": "code",
   "id": "67fbe8da1fe75fe3",
   "metadata": {
    "ExecuteTime": {
     "end_time": "2024-11-24T21:31:17.300941Z",
     "start_time": "2024-11-24T21:31:17.285943Z"
    }
   },
   "source": [
    "# Let's verify what device we are working with\n",
    "device = torch.device('cuda' if torch.cuda.is_available() else 'cpu')\n",
    "print(\"You are using device: %s\" % device)"
   ],
   "outputs": [
    {
     "name": "stdout",
     "output_type": "stream",
     "text": [
      "You are using device: cuda\n"
     ]
    }
   ],
   "execution_count": 26
  },
  {
   "metadata": {},
   "cell_type": "markdown",
   "source": [
    "Graph Neural Networks are a type of \"geometric deep learning\" models that use pairwise message passing. They typically have an architecture consisting of 3 types of layers. From [wikipedia](https://en.wikipedia.org/wiki/Graph_neural_network):\n",
    "1. Permutation equivariant: a permutation equivariant layer maps a representation of a graph into an updated representation of the same graph. In the literature, permutation equivariant layers are implemented via **pairwise message passing between graph nodes**. Intuitively, in a message passing layer, nodes update their representations by aggregating the messages received from their immediate neighbours. As such, each message passing layer increases the receptive field of the GNN by one hop.\n",
    "2. Local pooling: a local pooling layer coarsens the graph via downsampling. Local pooling is used to increase the receptive field of a GNN, in a similar fashion to pooling layers in convolutional neural networks. Examples include k-nearest neighbours pooling, top-k pooling, and self-attention pooling.\n",
    "3. Global pooling: a global pooling layer, also known as readout layer, provides fixed-size representation of the whole graph. The global pooling layer must be permutation invariant, such that permutations in the ordering of graph nodes and edges do not alter the final output. Examples include element-wise sum, mean or maximum.\n",
    "\n",
    "## Attributes\n",
    "- [T]he preprocessing step first\n",
    "“squashes” the graph structured data into a vector of reals and\n",
    "then deals with the preprocessed data using a list-based data\n",
    "processing technique. However, important information, e.g., the\n",
    "topological dependency of information on each node may be\n",
    "lost during the preprocessing stage and the final result may depend, in an unpredictable manner, on the details of the preprocessing algorith [1] **GNNS preserve the structure of the graph it is based on.**\n",
    "- It will be shown that the GNN\n",
    "is an extension of both recursive neural networks and random\n",
    "walk models and that it retains their characteristics. The model\n",
    "extends recursive neural networks since it can process a more\n",
    "general class of graphs including cyclic, directed, and undirected graphs, and it can deal with node-focused applications\n",
    "without any preprocessing steps. The approach extends random\n",
    "walk theory by the introduction of a learning algorithm and by\n",
    "enlarging the class of processes that can be modeled. [1]\n",
    "- Weights are shared across layer structures"
   ],
   "id": "2b01e644be17227d"
  },
  {
   "metadata": {},
   "cell_type": "markdown",
   "source": [
    "### What is message passing?\n",
    "From [wikipedia](https://en.wikipedia.org/wiki/Graph_neural_network#Message_passing_layers):\n",
    "<br>\n",
    "![img](./img/notebook/messagePassing.png)"
   ],
   "id": "5cf99a039651b47d"
  },
  {
   "metadata": {},
   "cell_type": "markdown",
   "source": [
    "## Computation Graph\n",
    "\"The neighbour of a node defines its computation graph\" - @12:34 https://www.youtube.com/watch?v=JtDgmmQ60x8&ab_channel=AntonioLonga\n",
    "\n"
   ],
   "id": "2a5502a902d3a34d"
  },
  {
   "cell_type": "markdown",
   "id": "96e4180648083ec0",
   "metadata": {},
   "source": [
    "# Data\n",
    "Heterogeneous graphs are perfect for recommendation systems. Let's examine a data set from pytorch geometric to understand some basics about the data.\n",
    "\n",
    "### Datasets:\n",
    "\"AmazonBook\" - A subset of the AmazonBook rating dataset from the \"LightGCN: Simplifying and Powering Graph Convolution Network for Recommendation\" paper.\n",
    "\n",
    "\"MovieLens\" - A heterogeneous rating dataset, assembled by GroupLens Research from the MovieLens website, consisting of nodes of type \"movie\" and \"user\". User ratings for movies are available as ground truth labels for the edges between the users and the movies (\"user\", \"rates\", \"movie\")."
   ]
  },
  {
   "cell_type": "code",
   "id": "b687c078a44f1888",
   "metadata": {
    "ExecuteTime": {
     "end_time": "2024-11-24T21:31:17.444956Z",
     "start_time": "2024-11-24T21:31:17.318943Z"
    }
   },
   "source": [
    "from torch_geometric.datasets import AmazonBook, MovieLens\n",
    "from torch_geometric.transforms import Compose, ToDevice, ToUndirected\n",
    "\n",
    "transform = Compose([ToDevice(device)])\n",
    "\n",
    "# amazon_dataset = AmazonBook(root=\"./data/AmazonBook\")\n",
    "movielens_dataset = MovieLens(root=\"./data/MovieLens\", transform=transform, model_name='all-MiniLM-L6-v2')\n",
    "\n",
    "print(f\"Dataset: {movielens_dataset}\")\n",
    "print(f\"Number of graphs in dataset: {len(movielens_dataset)}\")\n",
    "print(f\"Number of features of dataset: {movielens_dataset.num_features}\")"
   ],
   "outputs": [
    {
     "name": "stdout",
     "output_type": "stream",
     "text": [
      "Dataset: MovieLens()\n",
      "Number of graphs in dataset: 1\n",
      "Number of features of dataset: {'movie': 404, 'user': 0}\n"
     ]
    }
   ],
   "execution_count": 27
  },
  {
   "metadata": {
    "ExecuteTime": {
     "end_time": "2024-11-24T21:31:17.507949Z",
     "start_time": "2024-11-24T21:31:17.461942Z"
    }
   },
   "cell_type": "code",
   "source": [
    "data = movielens_dataset[0]\n",
    "print(f\"data = Dataset[0]: {data}\")\n",
    "\n",
    "print(f\"Number of node features of data: {data.num_features}\")\n",
    "print(f\"Number of edge features of data: {data.num_edge_features}\")\n",
    "print(f\"Number of nodes of data: {data.num_nodes}\")\n",
    "print(f\"Number of edges of data: {data.num_edges}\")\n",
    "print(f\"data is directed?: {data.is_directed()}\")\n",
    "print(f\"data has isolated nodes?: {data.has_isolated_nodes()}\")\n",
    "print(f\"data contains self loops?: {data.has_self_loops()}\")\n",
    "print(f\"data node types: {data.node_types}\")\n",
    "print(f\"data edge types: {data.edge_types}\")\n",
    "print(f\"data is on device: {'CUDA' if data.is_cuda else 'CPU'}\")"
   ],
   "id": "cbbdf32a18a33fc0",
   "outputs": [
    {
     "name": "stdout",
     "output_type": "stream",
     "text": [
      "data = Dataset[0]: HeteroData(\n",
      "  movie={ x=[9742, 404] },\n",
      "  user={ num_nodes=610 },\n",
      "  (user, rates, movie)={\n",
      "    edge_index=[2, 100836],\n",
      "    edge_label=[100836],\n",
      "    time=[100836],\n",
      "  }\n",
      ")\n",
      "Number of node features of data: {'movie': 404, 'user': 0}\n",
      "Number of edge features of data: {('user', 'rates', 'movie'): 0}\n",
      "Number of nodes of data: 10352\n",
      "Number of edges of data: 100836\n",
      "data is directed?: True\n",
      "data has isolated nodes?: True\n",
      "data contains self loops?: False\n",
      "data node types: ['movie', 'user']\n",
      "data edge types: [('user', 'rates', 'movie')]\n",
      "data is on device: CUDA\n"
     ]
    }
   ],
   "execution_count": 28
  },
  {
   "metadata": {
    "ExecuteTime": {
     "end_time": "2024-11-24T21:31:17.539943Z",
     "start_time": "2024-11-24T21:31:17.525942Z"
    }
   },
   "cell_type": "code",
   "source": "data.validate(raise_on_error=True)",
   "id": "2a69142adb053966",
   "outputs": [
    {
     "data": {
      "text/plain": [
       "True"
      ]
     },
     "execution_count": 29,
     "metadata": {},
     "output_type": "execute_result"
    }
   ],
   "execution_count": 29
  },
  {
   "metadata": {
    "ExecuteTime": {
     "end_time": "2024-11-24T21:31:17.570942Z",
     "start_time": "2024-11-24T21:31:17.557942Z"
    }
   },
   "cell_type": "code",
   "source": [
    "# print(f\"Number of training edges: {data['user','rates','book'].edge_index.shape[1]}\")\n",
    "# print(f\"Number of testing edges: {data['user','rates','book'].edge_label_index.shape[1]}\")"
   ],
   "id": "8a6a2037a53aa1a9",
   "outputs": [],
   "execution_count": 30
  },
  {
   "metadata": {
    "ExecuteTime": {
     "end_time": "2024-11-24T21:31:17.602942Z",
     "start_time": "2024-11-24T21:31:17.588942Z"
    }
   },
   "cell_type": "code",
   "source": [
    "# print(f\"{torch.min(data['user', 'rates', 'book'].edge_index[0])}\")\n",
    "# print(f\"{torch.max(data['user', 'rates', 'book'].edge_index[0])}\")"
   ],
   "id": "11eec890cfb6607a",
   "outputs": [],
   "execution_count": 31
  },
  {
   "metadata": {},
   "cell_type": "markdown",
   "source": "Because there are no features on the edges or the nodes, the connections (edges) themselves are what we are training on.",
   "id": "ea59f67045bbee28"
  },
  {
   "metadata": {},
   "cell_type": "markdown",
   "source": [
    "- Link Prediction on MovieLens.ipynb - https://colab.research.google.com/drive/1xpzn1Nvai1ygd_P5Yambc_oe4VBPK_ZT?usp=sharing#scrollTo=JMGYv83WzSRr\n",
    "- [1] Neural Graph Collaborative Filtering - https://dl.acm.org/doi/pdf/10.1145/3331184.3331267"
   ],
   "id": "d19971e5e6b2f42e"
  },
  {
   "metadata": {
    "ExecuteTime": {
     "end_time": "2024-11-24T21:31:17.634941Z",
     "start_time": "2024-11-24T21:31:17.619946Z"
    }
   },
   "cell_type": "code",
   "source": "torch_geometric.seed_everything(1234)",
   "id": "e5e29466b0ed72e7",
   "outputs": [],
   "execution_count": 32
  },
  {
   "metadata": {},
   "cell_type": "markdown",
   "source": [
    "## Naive Graph Neural Network\n",
    "\n"
   ],
   "id": "ab517eeeb4c44c2d"
  },
  {
   "metadata": {
    "ExecuteTime": {
     "end_time": "2024-11-24T21:31:17.666941Z",
     "start_time": "2024-11-24T21:31:17.651941Z"
    }
   },
   "cell_type": "code",
   "source": [
    "from torch_geometric.nn import MLP, MessagePassing\n",
    "from torch.nn import functional as F\n",
    "\n",
    "\"\"\"\n",
    "    GNN layer consists of:\n",
    "        1.\n",
    "        2.\n",
    "        3.\n",
    "\"\"\"\n",
    "\n",
    "class GNNLayer(MessagePassing):\n",
    "    def __init__(self, in_channels, out_channels, hidden_channels=128, aggr='add'):\n",
    "        super(GNNLayer, self).__init__(aggr=aggr)\n",
    "        self.message_function = MLP(in_channels= in_channels,\n",
    "                                    hidden_channels=hidden_channels,\n",
    "                                    out_channels=hidden_channels, num_layers=2) # default activation is ReLU\n",
    "        self.update_function = MLP(in_channels=hidden_channels,\n",
    "                                   hidden_channels=hidden_channels,\n",
    "                                   out_channels=out_channels, num_layers=2) # default activation is ReLU\n",
    "\n",
    "    def forward(self, x, edge_index):\n",
    "        # x             [N, in_channels]\n",
    "        # edge_index    [2, E]\n",
    "        return self.propagate(edge_index=edge_index, x=x)\n",
    "\n",
    "    def message(self, x_i, x_j):\n",
    "        # (i,j)         -> source to target\n",
    "        # x_j           [N, num_of_features]\n",
    "        return self.message_function(torch.concat([x_i, x_j], dim=1))\n",
    "\n",
    "    def update(self, aggr_out):\n",
    "        return self.update_function(aggr_out)\n",
    "\n",
    "class GNN(torch.nn.Module):\n",
    "    def __init__(self, in_channels, out_channels, hidden_channels=128, aggr='add'):\n",
    "        super(GNN, self).__init__()\n",
    "        self.gnn_layer_1 = GNNLayer(in_channels=in_channels, out_channels=out_channels,\n",
    "                                    hidden_channels=hidden_channels, aggr=aggr)\n",
    "\n",
    "    def forward(self, x, edge_index):\n",
    "        out = self.gnn_layer_1(x, edge_index)\n",
    "        return out\n"
   ],
   "id": "398d6f686d650d86",
   "outputs": [],
   "execution_count": 33
  },
  {
   "metadata": {
    "ExecuteTime": {
     "end_time": "2024-11-24T21:31:17.761949Z",
     "start_time": "2024-11-24T21:31:17.683942Z"
    }
   },
   "cell_type": "code",
   "source": [
    "from torch_geometric.transforms import RandomLinkSplit\n",
    "\n",
    "# lets split the data into training, validation, and test sets\n",
    "transform = RandomLinkSplit(\n",
    "    is_undirected=False,\n",
    "    edge_types=('user', 'rates', 'movie'),\n",
    ")\n",
    "\n",
    "train_data, val_data, test_data = transform(data)"
   ],
   "id": "ea1ddba35644a207",
   "outputs": [],
   "execution_count": 34
  },
  {
   "metadata": {
    "ExecuteTime": {
     "end_time": "2024-11-24T21:31:17.793942Z",
     "start_time": "2024-11-24T21:31:17.779943Z"
    }
   },
   "cell_type": "code",
   "source": "train_data",
   "id": "3eb39937e3c1ace2",
   "outputs": [
    {
     "data": {
      "text/plain": [
       "HeteroData(\n",
       "  movie={ x=[9742, 404] },\n",
       "  user={ num_nodes=610 },\n",
       "  (user, rates, movie)={\n",
       "    edge_index=[2, 70586],\n",
       "    time=[70586],\n",
       "    edge_label=[141172],\n",
       "    edge_label_index=[2, 141172],\n",
       "  }\n",
       ")"
      ]
     },
     "execution_count": 35,
     "metadata": {},
     "output_type": "execute_result"
    }
   ],
   "execution_count": 35
  },
  {
   "metadata": {
    "ExecuteTime": {
     "end_time": "2024-11-24T21:31:17.825941Z",
     "start_time": "2024-11-24T21:31:17.811942Z"
    }
   },
   "cell_type": "code",
   "source": "val_data",
   "id": "48ffa8daa4ad8cec",
   "outputs": [
    {
     "data": {
      "text/plain": [
       "HeteroData(\n",
       "  movie={ x=[9742, 404] },\n",
       "  user={ num_nodes=610 },\n",
       "  (user, rates, movie)={\n",
       "    edge_index=[2, 70586],\n",
       "    time=[70586],\n",
       "    edge_label=[20166],\n",
       "    edge_label_index=[2, 20166],\n",
       "  }\n",
       ")"
      ]
     },
     "execution_count": 36,
     "metadata": {},
     "output_type": "execute_result"
    }
   ],
   "execution_count": 36
  },
  {
   "metadata": {
    "ExecuteTime": {
     "end_time": "2024-11-24T21:31:17.857942Z",
     "start_time": "2024-11-24T21:31:17.843942Z"
    }
   },
   "cell_type": "code",
   "source": "test_data",
   "id": "44e138ca692caabb",
   "outputs": [
    {
     "data": {
      "text/plain": [
       "HeteroData(\n",
       "  movie={ x=[9742, 404] },\n",
       "  user={ num_nodes=610 },\n",
       "  (user, rates, movie)={\n",
       "    edge_index=[2, 80669],\n",
       "    time=[80669],\n",
       "    edge_label=[40334],\n",
       "    edge_label_index=[2, 40334],\n",
       "  }\n",
       ")"
      ]
     },
     "execution_count": 37,
     "metadata": {},
     "output_type": "execute_result"
    }
   ],
   "execution_count": 37
  },
  {
   "metadata": {
    "ExecuteTime": {
     "end_time": "2024-11-24T21:31:17.889949Z",
     "start_time": "2024-11-24T21:31:17.874942Z"
    }
   },
   "cell_type": "code",
   "source": [
    "from torch_geometric.loader import LinkNeighborLoader, NeighborLoader, NeighborSampler\n",
    "\n",
    "# Define a mini-batch loader\n",
    "num_samples = [30]\n",
    "num_iterations = 2\n",
    "batch_size = 128\n",
    "\n",
    "loader = LinkNeighborLoader(\n",
    "    train_data,\n",
    "    num_neighbors= num_samples * num_iterations,\n",
    "    batch_size=batch_size,\n",
    "    edge_label_index=train_data.edge_types[0],\n",
    "    edge_label=train_data[train_data.edge_types[0]]['edge_label']\n",
    ")\n",
    "\n",
    "# loader = NeighborLoader(\n",
    "#     train_data,\n",
    "#     num_neighbors=num_samples * num_iterations,\n",
    "#     batch_size=batch_size\n",
    "# )"
   ],
   "id": "f675bff25e347b8a",
   "outputs": [],
   "execution_count": 38
  },
  {
   "metadata": {
    "ExecuteTime": {
     "end_time": "2024-11-24T21:31:17.921941Z",
     "start_time": "2024-11-24T21:31:17.907943Z"
    }
   },
   "cell_type": "code",
   "source": [
    "sampled_data = next(iter(loader))\n",
    "print(sampled_data)"
   ],
   "id": "15da3569ccfeb198",
   "outputs": [
    {
     "name": "stdout",
     "output_type": "stream",
     "text": [
      "HeteroData(\n",
      "  movie={\n",
      "    x=[124, 404],\n",
      "    n_id=[124],\n",
      "    num_sampled_nodes=[3],\n",
      "  },\n",
      "  user={\n",
      "    num_nodes=463,\n",
      "    n_id=[463],\n",
      "    num_sampled_nodes=[3],\n",
      "  },\n",
      "  (user, rates, movie)={\n",
      "    edge_index=[2, 2345],\n",
      "    time=[2345],\n",
      "    edge_label=[128],\n",
      "    edge_label_index=[2, 128],\n",
      "    e_id=[2345],\n",
      "    num_sampled_edges=[2],\n",
      "    input_id=[128],\n",
      "  }\n",
      ")\n"
     ]
    }
   ],
   "execution_count": 39
  },
  {
   "metadata": {
    "ExecuteTime": {
     "end_time": "2024-11-24T21:31:18.017941Z",
     "start_time": "2024-11-24T21:31:18.000942Z"
    }
   },
   "cell_type": "code",
   "source": "len(loader)",
   "id": "79152354f26577e5",
   "outputs": [
    {
     "data": {
      "text/plain": [
       "552"
      ]
     },
     "execution_count": 40,
     "metadata": {},
     "output_type": "execute_result"
    }
   ],
   "execution_count": 40
  },
  {
   "metadata": {},
   "cell_type": "code",
   "source": [
    "num_of_epochs = 100\n",
    "model = GNN(in_channels=610, out_channels=9742)\n",
    "optimizer = torch.optim.Adam(model.parameters(), lr=0.001)\n",
    "\n",
    "model.train()\n",
    "for epoch in range(num_of_epochs):\n",
    "    for batch in loader:\n",
    "        target = batch['user', 'rates', 'movie'].edge_label\n",
    "        optimizer.zero_grad()\n",
    "        out = model(batch.x, batch.edge_index)"
   ],
   "id": "91e2bd7d8c3e77f0",
   "outputs": [],
   "execution_count": null
  }
 ],
 "metadata": {
  "kernelspec": {
   "display_name": "Python 3 (ipykernel)",
   "language": "python",
   "name": "python3"
  },
  "language_info": {
   "codemirror_mode": {
    "name": "ipython",
    "version": 3
   },
   "file_extension": ".py",
   "mimetype": "text/x-python",
   "name": "python",
   "nbconvert_exporter": "python",
   "pygments_lexer": "ipython3",
   "version": "3.8.20"
  }
 },
 "nbformat": 4,
 "nbformat_minor": 5
}
