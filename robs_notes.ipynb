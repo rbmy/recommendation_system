{
 "cells": [
  {
   "cell_type": "markdown",
   "id": "d216dc5d98391e6f",
   "metadata": {},
   "source": [
    "# Graph Neural Networks\n",
    "## What are Graph Neural Networks (GNNs)?"
   ]
  },
  {
   "cell_type": "code",
   "id": "initial_id",
   "metadata": {
    "collapsed": true,
    "jupyter": {
     "outputs_hidden": true
    },
    "ExecuteTime": {
     "end_time": "2024-11-17T22:21:41.860032Z",
     "start_time": "2024-11-17T22:21:38.676033Z"
    }
   },
   "source": [
    "#import the basics\n",
    "import os\n",
    "import torch\n",
    "import torch_geometric as tg\n",
    "import matplotlib.pyplot as plt\n",
    "import pandas as pd\n",
    "import numpy as np\n",
    "%matplotlib inline"
   ],
   "outputs": [],
   "execution_count": 1
  },
  {
   "cell_type": "code",
   "id": "67fbe8da1fe75fe3",
   "metadata": {
    "ExecuteTime": {
     "end_time": "2024-11-17T22:21:45.611033Z",
     "start_time": "2024-11-17T22:21:45.591034Z"
    }
   },
   "source": [
    "# Let's verify what device we are working with\n",
    "device = torch.device('cuda' if torch.cuda.is_available() else 'cpu')\n",
    "print(\"You are using device: %s\" % device)"
   ],
   "outputs": [
    {
     "name": "stdout",
     "output_type": "stream",
     "text": [
      "You are using device: cuda\n"
     ]
    }
   ],
   "execution_count": 2
  },
  {
   "metadata": {},
   "cell_type": "markdown",
   "source": [
    "Graph Neural Networks are a type of \"geometric deep learning\" models that use pairwise message passing. They typically have an architecture consisting of 3 types of layers. From [wikipedia](https://en.wikipedia.org/wiki/Graph_neural_network):\n",
    "1. Permutation equivariant: a permutation equivariant layer maps a representation of a graph into an updated representation of the same graph. In the literature, permutation equivariant layers are implemented via **pairwise message passing between graph nodes**. Intuitively, in a message passing layer, nodes update their representations by aggregating the messages received from their immediate neighbours. As such, each message passing layer increases the receptive field of the GNN by one hop.\n",
    "2. Local pooling: a local pooling layer coarsens the graph via downsampling. Local pooling is used to increase the receptive field of a GNN, in a similar fashion to pooling layers in convolutional neural networks. Examples include k-nearest neighbours pooling, top-k pooling, and self-attention pooling.\n",
    "3. Global pooling: a global pooling layer, also known as readout layer, provides fixed-size representation of the whole graph. The global pooling layer must be permutation invariant, such that permutations in the ordering of graph nodes and edges do not alter the final output. Examples include element-wise sum, mean or maximum.\n",
    "\n",
    "## Attributes\n",
    "- [T]he preprocessing step first\n",
    "“squashes” the graph structured data into a vector of reals and\n",
    "then deals with the preprocessed data using a list-based data\n",
    "processing technique. However, important information, e.g., the\n",
    "topological dependency of information on each node may be\n",
    "lost during the preprocessing stage and the final result may depend, in an unpredictable manner, on the details of the preprocessing algorith [1] GNNS preserve the structure of the graph it is based on.\n",
    "- It will be shown that the GNN\n",
    "is an extension of both recursive neural networks and random\n",
    "walk models and that it retains their characteristics. The model\n",
    "extends recursive neural networks since it can process a more\n",
    "general class of graphs including cyclic, directed, and undirected graphs, and it can deal with node-focused applications\n",
    "without any preprocessing steps. The approach extends random\n",
    "walk theory by the introduction of a learning algorithm and by\n",
    "enlarging the class of processes that can be modeled. [1]"
   ],
   "id": "2b01e644be17227d"
  },
  {
   "metadata": {},
   "cell_type": "markdown",
   "source": [
    "### What is message passing?\n",
    "From [wikipedia](https://en.wikipedia.org/wiki/Graph_neural_network#Message_passing_layers):\n",
    "<br>\n",
    "![img](./img/notebook/messagePassing.png)"
   ],
   "id": "5cf99a039651b47d"
  },
  {
   "cell_type": "markdown",
   "id": "96e4180648083ec0",
   "metadata": {},
   "source": [
    "# Data\n",
    "Heterogeneous graphs are perfect for recommendation systems. Let's examine a data set from pytorch geometric to understand some basics about the data.\n",
    "\n",
    "### Datasets:\n",
    "\"AmazonBook\" - A subset of the AmazonBook rating dataset from the \"LightGCN: Simplifying and Powering Graph Convolution Network for Recommendation\" paper."
   ]
  },
  {
   "cell_type": "code",
   "id": "b687c078a44f1888",
   "metadata": {
    "ExecuteTime": {
     "end_time": "2024-11-18T21:45:07.866216Z",
     "start_time": "2024-11-18T21:45:07.516218Z"
    }
   },
   "source": [
    "from torch_geometric.datasets import AmazonBook\n",
    "dataset = AmazonBook(root=\"./data/AmazonBook\")\n",
    "\n",
    "print(f\"Dataset: {dataset}\")\n",
    "print(f\"Number of graphs in dataset: {len(dataset)}\")\n",
    "print(f\"Number of features of dataset: {dataset.num_features}\")\n",
    "\n",
    "data = dataset[0]\n",
    "data.to(device)\n",
    "\n",
    "print(f\"data = Dataset[0]: {data}\")\n",
    "\n",
    "print(f\"Number of features of data: {data.num_features}\")\n",
    "print(f\"Number of nodes of data: {data.num_nodes}\")\n",
    "print(f\"Number of edges of data: {data.num_edges}\")\n",
    "print(f\"data is directed?: {data.is_directed()}\")\n",
    "print(f\"data has isolated nodes?: {data.has_isolated_nodes()}\")\n",
    "print(f\"data contains self loops?: {data.has_self_loops()}\")\n",
    "print(f\"data node types: {data.node_types}\")\n",
    "print(f\"data edge types: {data.edge_types}\")\n",
    "print(f\"data is on device: {'CUDA' if data.is_cuda else 'CPU' if data.is_cpu else 'NONE'}\")\n"
   ],
   "outputs": [
    {
     "name": "stdout",
     "output_type": "stream",
     "text": [
      "Dataset: AmazonBook()\n",
      "Number of graphs in dataset: 1\n",
      "Number of features of dataset: {'user': 0, 'book': 0}\n",
      "data = Dataset[0]: HeteroData(\n",
      "  user={ num_nodes=52643 },\n",
      "  book={ num_nodes=91599 },\n",
      "  (user, rates, book)={\n",
      "    edge_index=[2, 2380730],\n",
      "    edge_label_index=[2, 603378],\n",
      "  },\n",
      "  (book, rated_by, user)={ edge_index=[2, 2380730] }\n",
      ")\n",
      "Number of features of data: {'user': 0, 'book': 0}\n",
      "Number of nodes of data: 144242\n",
      "Number of edges of data: 4761460\n",
      "data is directed?: False\n",
      "data has isolated nodes?: False\n",
      "data contains self loops?: False\n",
      "data node types: ['user', 'book']\n",
      "data edge types: [('user', 'rates', 'book'), ('book', 'rated_by', 'user')]\n",
      "data is on device: CUDA\n"
     ]
    }
   ],
   "execution_count": 67
  },
  {
   "metadata": {
    "ExecuteTime": {
     "end_time": "2024-11-18T21:45:28.429228Z",
     "start_time": "2024-11-18T21:45:28.311226Z"
    }
   },
   "cell_type": "code",
   "source": "data.validate(raise_on_error=True)",
   "id": "2a69142adb053966",
   "outputs": [
    {
     "data": {
      "text/plain": [
       "True"
      ]
     },
     "execution_count": 68,
     "metadata": {},
     "output_type": "execute_result"
    }
   ],
   "execution_count": 68
  },
  {
   "metadata": {
    "ExecuteTime": {
     "end_time": "2024-11-18T21:45:32.845226Z",
     "start_time": "2024-11-18T21:45:32.830227Z"
    }
   },
   "cell_type": "code",
   "source": "data.keys()",
   "id": "f5ec5418cafadb20",
   "outputs": [
    {
     "data": {
      "text/plain": [
       "['edge_label_index', 'num_nodes', 'edge_index']"
      ]
     },
     "execution_count": 69,
     "metadata": {},
     "output_type": "execute_result"
    }
   ],
   "execution_count": 69
  },
  {
   "metadata": {},
   "cell_type": "markdown",
   "source": [
    "## Data pre-processing\n",
    "\n",
    "Helpful resource: \n",
    "- Link Prediction on MovieLens.ipynb - https://colab.research.google.com/drive/1xpzn1Nvai1ygd_P5Yambc_oe4VBPK_ZT?usp=sharing#scrollTo=JMGYv83WzSRr\n",
    "- [1] Neural Graph Collaborative Filtering - https://dl.acm.org/doi/pdf/10.1145/3331184.3331267\n",
    "\n",
    "Similar experimental setting as *Neural Graph Collaborative Filtering*, used also in *LightGCN: Simplifying and powering graph convolutional networks for recommendation*\n",
    "> Amazon-book: Amazon-review is a widely used dataset for\n",
    "product recommendation. We select Amazon-book from the\n",
    "collection. Similarly, we use the 10-core setting to ensure that each\n",
    "user and item have at least ten interactions.\n",
    "\n",
    "> For each dataset, we randomly select 80% of historical\n",
    "interactions of each user to constitute the training set, and treat\n",
    "the remaining as the test set. From the training set, we randomly\n",
    "select 10% of interactions as validation set to tune hyper-parameters.\n",
    "For each observed user-item interaction, we treat it as a positive\n",
    "instance, and then conduct the negative sampling strategy to pair\n",
    "it with one negative item that the user did not consume before."
   ],
   "id": "d19971e5e6b2f42e"
  },
  {
   "metadata": {
    "ExecuteTime": {
     "end_time": "2024-11-17T22:22:00.576032Z",
     "start_time": "2024-11-17T22:21:56.247034Z"
    }
   },
   "cell_type": "code",
   "source": [
    "import torch_geometric.transforms as T\n",
    "\n",
    "torch.manual_seed(1234)\n",
    "transform = T.Compose([T.ToDevice(device), T.RandomLinkSplit(is_undirected=True, num_test=0.2, num_val=.1, edge_types=data.edge_types)])\n",
    "train_data, val_data, test_data = transform(data)"
   ],
   "id": "e5e29466b0ed72e7",
   "outputs": [],
   "execution_count": 4
  },
  {
   "metadata": {
    "ExecuteTime": {
     "end_time": "2024-11-17T22:22:02.647033Z",
     "start_time": "2024-11-17T22:22:02.635035Z"
    }
   },
   "cell_type": "code",
   "source": "train_data",
   "id": "ca16df6a6da925c",
   "outputs": [
    {
     "data": {
      "text/plain": [
       "HeteroData(\n",
       "  user={ num_nodes=52643 },\n",
       "  book={ num_nodes=91599 },\n",
       "  (user, rates, book)={\n",
       "    edge_index=[2, 1666511],\n",
       "    edge_label_index=[2, 3333022],\n",
       "    edge_label=[3333022],\n",
       "  },\n",
       "  (book, rated_by, user)={\n",
       "    edge_index=[2, 1666511],\n",
       "    edge_label=[3333022],\n",
       "    edge_label_index=[2, 3333022],\n",
       "  }\n",
       ")"
      ]
     },
     "execution_count": 5,
     "metadata": {},
     "output_type": "execute_result"
    }
   ],
   "execution_count": 5
  },
  {
   "metadata": {
    "ExecuteTime": {
     "end_time": "2024-11-17T22:22:04.871033Z",
     "start_time": "2024-11-17T22:22:04.856036Z"
    }
   },
   "cell_type": "code",
   "source": "val_data",
   "id": "893852f45e6b63a0",
   "outputs": [
    {
     "data": {
      "text/plain": [
       "HeteroData(\n",
       "  user={ num_nodes=52643 },\n",
       "  book={ num_nodes=91599 },\n",
       "  (user, rates, book)={\n",
       "    edge_index=[2, 1666511],\n",
       "    edge_label_index=[2, 476146],\n",
       "    edge_label=[476146],\n",
       "  },\n",
       "  (book, rated_by, user)={\n",
       "    edge_index=[2, 1666511],\n",
       "    edge_label=[476146],\n",
       "    edge_label_index=[2, 476146],\n",
       "  }\n",
       ")"
      ]
     },
     "execution_count": 6,
     "metadata": {},
     "output_type": "execute_result"
    }
   ],
   "execution_count": 6
  },
  {
   "metadata": {
    "ExecuteTime": {
     "end_time": "2024-11-17T22:22:07.152033Z",
     "start_time": "2024-11-17T22:22:07.134035Z"
    }
   },
   "cell_type": "code",
   "source": "test_data",
   "id": "8222f51ad1b1d7c",
   "outputs": [
    {
     "data": {
      "text/plain": [
       "HeteroData(\n",
       "  user={ num_nodes=52643 },\n",
       "  book={ num_nodes=91599 },\n",
       "  (user, rates, book)={\n",
       "    edge_index=[2, 1904584],\n",
       "    edge_label_index=[2, 952292],\n",
       "    edge_label=[952292],\n",
       "  },\n",
       "  (book, rated_by, user)={\n",
       "    edge_index=[2, 1904584],\n",
       "    edge_label=[952292],\n",
       "    edge_label_index=[2, 952292],\n",
       "  }\n",
       ")"
      ]
     },
     "execution_count": 7,
     "metadata": {},
     "output_type": "execute_result"
    }
   ],
   "execution_count": 7
  },
  {
   "metadata": {},
   "cell_type": "markdown",
   "source": [
    "## Naive Graph Neural Network\n",
    "\n"
   ],
   "id": "ab517eeeb4c44c2d"
  },
  {
   "metadata": {
    "ExecuteTime": {
     "end_time": "2024-11-17T21:59:38.211106Z",
     "start_time": "2024-11-17T21:59:38.196093Z"
    }
   },
   "cell_type": "code",
   "source": [
    "from torch.nn import MessagePassing\n",
    "\n",
    "class GNNModel(MessagePassing):\n",
    "    ###\n",
    "    # aggr can be -> add, mean, max #\n",
    "    def __init__(self, num_nodes, num_edges, num_features, aggr=\"add\", flow=\"source_to_target\", node_dim=):\n",
    "        super.__init__(aggr)"
   ],
   "id": "398d6f686d650d86",
   "outputs": [],
   "execution_count": null
  },
  {
   "metadata": {},
   "cell_type": "markdown",
   "source": "## Torch Vanilla GNN",
   "id": "e25d556d6b649766"
  },
  {
   "metadata": {},
   "cell_type": "markdown",
   "source": [
    "## References\n",
    "[1] The Graph Neural Network Model - https://ieeexplore.ieee.org/stamp/stamp.jsp?tp=&arnumber=4700287\n",
    "\n",
    "[2] Geometric Deep Learning Grids, Groups, Graphs, Geodesics, and Gauges - https://arxiv.org/pdf/2104.13478"
   ],
   "id": "68e1491083e75d7b"
  },
  {
   "metadata": {},
   "cell_type": "code",
   "outputs": [],
   "execution_count": null,
   "source": "",
   "id": "dae47fed4f208b44"
  }
 ],
 "metadata": {
  "kernelspec": {
   "display_name": "Python 3 (ipykernel)",
   "language": "python",
   "name": "python3"
  },
  "language_info": {
   "codemirror_mode": {
    "name": "ipython",
    "version": 3
   },
   "file_extension": ".py",
   "mimetype": "text/x-python",
   "name": "python",
   "nbconvert_exporter": "python",
   "pygments_lexer": "ipython3",
   "version": "3.8.20"
  }
 },
 "nbformat": 4,
 "nbformat_minor": 5
}
