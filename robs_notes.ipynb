{
 "cells": [
  {
   "cell_type": "markdown",
   "id": "d216dc5d98391e6f",
   "metadata": {},
   "source": [
    "# Graph Neural Networks\n",
    "## What are Graph Neural Networks (GNNs)?"
   ]
  },
  {
   "cell_type": "code",
   "id": "initial_id",
   "metadata": {
    "collapsed": true,
    "jupyter": {
     "outputs_hidden": true
    },
    "ExecuteTime": {
     "end_time": "2024-12-01T20:14:27.614689Z",
     "start_time": "2024-12-01T20:14:23.952680Z"
    }
   },
   "source": [
    "#import the basics\n",
    "import os\n",
    "import torch\n",
    "import torch_geometric\n",
    "import matplotlib.pyplot as plt\n",
    "import pandas as pd\n",
    "import numpy as np\n",
    "from networkx.classes import number_of_nodes\n",
    "%matplotlib inline"
   ],
   "outputs": [],
   "execution_count": 1
  },
  {
   "metadata": {
    "ExecuteTime": {
     "end_time": "2024-12-01T20:14:27.630679Z",
     "start_time": "2024-12-01T20:14:27.618680Z"
    }
   },
   "cell_type": "code",
   "source": "torch_geometric.__version__",
   "id": "e35d8b8b9e6c3dcc",
   "outputs": [
    {
     "data": {
      "text/plain": [
       "'2.6.1'"
      ]
     },
     "execution_count": 2,
     "metadata": {},
     "output_type": "execute_result"
    }
   ],
   "execution_count": 2
  },
  {
   "cell_type": "code",
   "id": "67fbe8da1fe75fe3",
   "metadata": {
    "ExecuteTime": {
     "end_time": "2024-12-01T20:14:27.693680Z",
     "start_time": "2024-12-01T20:14:27.678680Z"
    }
   },
   "source": [
    "# Let's verify what device we are working with\n",
    "device = torch.device('cuda' if torch.cuda.is_available() else 'cpu')\n",
    "print(\"You are using device: %s\" % device)"
   ],
   "outputs": [
    {
     "name": "stdout",
     "output_type": "stream",
     "text": [
      "You are using device: cuda\n"
     ]
    }
   ],
   "execution_count": 3
  },
  {
   "metadata": {},
   "cell_type": "markdown",
   "source": [
    "Graph Neural Networks are a type of \"geometric deep learning\" models that use pairwise message passing. They typically have an architecture consisting of 3 types of layers. From [wikipedia](https://en.wikipedia.org/wiki/Graph_neural_network):\n",
    "1. Permutation equivariant: a permutation equivariant layer maps a representation of a graph into an updated representation of the same graph. In the literature, permutation equivariant layers are implemented via **pairwise message passing between graph nodes**. Intuitively, in a message passing layer, nodes update their representations by aggregating the messages received from their immediate neighbours. As such, each message passing layer increases the receptive field of the GNN by one hop.\n",
    "2. Local pooling: a local pooling layer coarsens the graph via downsampling. Local pooling is used to increase the receptive field of a GNN, in a similar fashion to pooling layers in convolutional neural networks. Examples include k-nearest neighbours pooling, top-k pooling, and self-attention pooling.\n",
    "3. Global pooling: a global pooling layer, also known as readout layer, provides fixed-size representation of the whole graph. The global pooling layer must be permutation invariant, such that permutations in the ordering of graph nodes and edges do not alter the final output. Examples include element-wise sum, mean or maximum.\n",
    "\n",
    "## Attributes\n",
    "- [T]he preprocessing step first\n",
    "“squashes” the graph structured data into a vector of reals and\n",
    "then deals with the preprocessed data using a list-based data\n",
    "processing technique. However, important information, e.g., the\n",
    "topological dependency of information on each node may be\n",
    "lost during the preprocessing stage and the final result may depend, in an unpredictable manner, on the details of the preprocessing algorith [1] **GNNS preserve the structure of the graph it is based on.**\n",
    "- It will be shown that the GNN\n",
    "is an extension of both recursive neural networks and random\n",
    "walk models and that it retains their characteristics. The model\n",
    "extends recursive neural networks since it can process a more\n",
    "general class of graphs including cyclic, directed, and undirected graphs, and it can deal with node-focused applications\n",
    "without any preprocessing steps. The approach extends random\n",
    "walk theory by the introduction of a learning algorithm and by\n",
    "enlarging the class of processes that can be modeled. [1]\n",
    "- Weights are shared across layer structures"
   ],
   "id": "2b01e644be17227d"
  },
  {
   "metadata": {},
   "cell_type": "markdown",
   "source": [
    "### What is message passing?\n",
    "From [wikipedia](https://en.wikipedia.org/wiki/Graph_neural_network#Message_passing_layers):\n",
    "<br>\n",
    "![img](./img/notebook/messagePassing.png)"
   ],
   "id": "5cf99a039651b47d"
  },
  {
   "metadata": {},
   "cell_type": "markdown",
   "source": [
    "## Computation Graph\n",
    "\"The neighbour of a node defines its computation graph\" - @12:34 https://www.youtube.com/watch?v=JtDgmmQ60x8&ab_channel=AntonioLonga\n",
    "\n"
   ],
   "id": "2a5502a902d3a34d"
  },
  {
   "cell_type": "markdown",
   "id": "96e4180648083ec0",
   "metadata": {},
   "source": [
    "# Data\n",
    "Heterogeneous graphs are perfect for recommendation systems. Let's examine a data set from pytorch geometric to understand some basics about the data.\n",
    "\n",
    "### Datasets:\n",
    "\"AmazonBook\" - A subset of the AmazonBook rating dataset from the \"LightGCN: Simplifying and Powering Graph Convolution Network for Recommendation\" paper.\n",
    "\n",
    "\"MovieLens\" - A heterogeneous rating dataset, assembled by GroupLens Research from the MovieLens website, consisting of nodes of type \"movie\" and \"user\". User ratings for movies are available as ground truth labels for the edges between the users and the movies (\"user\", \"rates\", \"movie\")."
   ]
  },
  {
   "cell_type": "code",
   "id": "b687c078a44f1888",
   "metadata": {
    "ExecuteTime": {
     "end_time": "2024-12-01T20:14:27.836679Z",
     "start_time": "2024-12-01T20:14:27.710682Z"
    }
   },
   "source": [
    "from torch_geometric.datasets import AmazonBook, MovieLens\n",
    "from torch_geometric.transforms import Compose, ToDevice, ToUndirected\n",
    "\n",
    "transform = Compose([ToDevice(device)])\n",
    "\n",
    "# amazon_dataset = AmazonBook(root=\"./data/AmazonBook\")\n",
    "movielens_dataset = MovieLens(root=\"./data/MovieLens\", transform=transform, model_name='all-MiniLM-L6-v2')\n",
    "\n",
    "print(f\"Dataset: {movielens_dataset}\")\n",
    "print(f\"Number of graphs in dataset: {len(movielens_dataset)}\")\n",
    "print(f\"Number of features of dataset: {movielens_dataset.num_features}\")"
   ],
   "outputs": [
    {
     "name": "stdout",
     "output_type": "stream",
     "text": [
      "Dataset: MovieLens()\n",
      "Number of graphs in dataset: 1\n",
      "Number of features of dataset: {'movie': 404, 'user': 0}\n"
     ]
    }
   ],
   "execution_count": 4
  },
  {
   "metadata": {
    "ExecuteTime": {
     "end_time": "2024-12-01T20:14:27.931687Z",
     "start_time": "2024-12-01T20:14:27.853681Z"
    }
   },
   "cell_type": "code",
   "source": [
    "data = movielens_dataset[0]\n",
    "print(f\"data = Dataset[0]: {data}\")\n",
    "\n",
    "print(f\"Number of node features of data: {data.num_features}\")\n",
    "print(f\"Number of edge features of data: {data.num_edge_features}\")\n",
    "print(f\"Number of nodes of data: {data.num_nodes}\")\n",
    "print(f\"Number of user nodes of data: {data['user'].num_nodes}\")\n",
    "print(f\"Number of movie nodes of data: {data['movie'].num_nodes}\")\n",
    "print(f\"Number of edges of data: {data.num_edges}\")\n",
    "print(f\"data is directed?: {data.is_directed()}\")\n",
    "print(f\"data has isolated nodes?: {data.has_isolated_nodes()}\")\n",
    "print(f\"data contains self loops?: {data.has_self_loops()}\")\n",
    "print(f\"data node types: {data.node_types}\")\n",
    "print(f\"data edge types: {data.edge_types}\")\n",
    "print(f\"'user', 'rates', 'movie' first 5 labels: {data['user', 'rates', 'movie'].edge_label[0:5]}\")\n",
    "print(f\"data is on device: {'CUDA' if data.is_cuda else 'CPU'}\")"
   ],
   "id": "cbbdf32a18a33fc0",
   "outputs": [
    {
     "name": "stdout",
     "output_type": "stream",
     "text": [
      "data = Dataset[0]: HeteroData(\n",
      "  movie={ x=[9742, 404] },\n",
      "  user={ num_nodes=610 },\n",
      "  (user, rates, movie)={\n",
      "    edge_index=[2, 100836],\n",
      "    edge_label=[100836],\n",
      "    time=[100836],\n",
      "  }\n",
      ")\n",
      "Number of node features of data: {'movie': 404, 'user': 0}\n",
      "Number of edge features of data: {('user', 'rates', 'movie'): 0}\n",
      "Number of nodes of data: 10352\n",
      "Number of user nodes of data: 610\n",
      "Number of movie nodes of data: 9742\n",
      "Number of edges of data: 100836\n",
      "data is directed?: True\n",
      "data has isolated nodes?: True\n",
      "data contains self loops?: False\n",
      "data node types: ['movie', 'user']\n",
      "data edge types: [('user', 'rates', 'movie')]\n",
      "'user', 'rates', 'movie' first 5 labels: tensor([4, 4, 4, 5, 5], device='cuda:0')\n",
      "data is on device: CUDA\n"
     ]
    }
   ],
   "execution_count": 5
  },
  {
   "metadata": {
    "ExecuteTime": {
     "end_time": "2024-12-01T20:14:27.962680Z",
     "start_time": "2024-12-01T20:14:27.948680Z"
    }
   },
   "cell_type": "code",
   "source": "data.validate(raise_on_error=True)",
   "id": "2a69142adb053966",
   "outputs": [
    {
     "data": {
      "text/plain": [
       "True"
      ]
     },
     "execution_count": 6,
     "metadata": {},
     "output_type": "execute_result"
    }
   ],
   "execution_count": 6
  },
  {
   "metadata": {
    "ExecuteTime": {
     "end_time": "2024-12-01T20:14:27.994680Z",
     "start_time": "2024-12-01T20:14:27.979681Z"
    }
   },
   "cell_type": "code",
   "source": [
    "# print(f\"Number of training edges: {data['user','rates','book'].edge_index.shape[1]}\")\n",
    "# print(f\"Number of testing edges: {data['user','rates','book'].edge_label_index.shape[1]}\")"
   ],
   "id": "8a6a2037a53aa1a9",
   "outputs": [],
   "execution_count": 7
  },
  {
   "metadata": {
    "ExecuteTime": {
     "end_time": "2024-12-01T20:14:28.026688Z",
     "start_time": "2024-12-01T20:14:28.011680Z"
    }
   },
   "cell_type": "code",
   "source": [
    "# print(f\"{torch.min(data['user', 'rates', 'book'].edge_index[0])}\")\n",
    "# print(f\"{torch.max(data['user', 'rates', 'book'].edge_index[0])}\")"
   ],
   "id": "11eec890cfb6607a",
   "outputs": [],
   "execution_count": 8
  },
  {
   "metadata": {},
   "cell_type": "markdown",
   "source": "Because there are no features on the edges or the nodes, the connections (edges) themselves are what we are training on.",
   "id": "ea59f67045bbee28"
  },
  {
   "metadata": {},
   "cell_type": "markdown",
   "source": [
    "- Link Prediction on MovieLens.ipynb - https://colab.research.google.com/drive/1xpzn1Nvai1ygd_P5Yambc_oe4VBPK_ZT?usp=sharing#scrollTo=JMGYv83WzSRr\n",
    "- [1] Neural Graph Collaborative Filtering - https://dl.acm.org/doi/pdf/10.1145/3331184.3331267"
   ],
   "id": "d19971e5e6b2f42e"
  },
  {
   "metadata": {
    "ExecuteTime": {
     "end_time": "2024-12-01T20:14:28.058680Z",
     "start_time": "2024-12-01T20:14:28.044681Z"
    }
   },
   "cell_type": "code",
   "source": "torch_geometric.seed_everything(1234)",
   "id": "e5e29466b0ed72e7",
   "outputs": [],
   "execution_count": 9
  },
  {
   "metadata": {},
   "cell_type": "markdown",
   "source": [
    "## Naive Graph Neural Network\n",
    "\n"
   ],
   "id": "ab517eeeb4c44c2d"
  },
  {
   "metadata": {
    "ExecuteTime": {
     "end_time": "2024-12-01T20:14:28.168688Z",
     "start_time": "2024-12-01T20:14:28.076680Z"
    }
   },
   "cell_type": "code",
   "source": [
    "from torch_geometric.transforms import RandomLinkSplit, ToDevice, ToUndirected, Compose\n",
    "\n",
    "# lets split the data into training, validation, and test sets\n",
    "transform = Compose([RandomLinkSplit(\n",
    "    is_undirected=True,\n",
    "    edge_types=('user', 'rates', 'movie')\n",
    "), ToDevice(device)])\n",
    "\n",
    "train_data, val_data, test_data = transform(data)"
   ],
   "id": "ea1ddba35644a207",
   "outputs": [],
   "execution_count": 10
  },
  {
   "metadata": {
    "ExecuteTime": {
     "end_time": "2024-12-01T20:14:28.200686Z",
     "start_time": "2024-12-01T20:14:28.185680Z"
    }
   },
   "cell_type": "code",
   "source": "train_data",
   "id": "3eb39937e3c1ace2",
   "outputs": [
    {
     "data": {
      "text/plain": [
       "HeteroData(\n",
       "  movie={ x=[9742, 404] },\n",
       "  user={ num_nodes=610 },\n",
       "  (user, rates, movie)={\n",
       "    edge_index=[2, 70586],\n",
       "    time=[70586],\n",
       "    edge_label=[141172],\n",
       "    edge_label_index=[2, 141172],\n",
       "  }\n",
       ")"
      ]
     },
     "execution_count": 11,
     "metadata": {},
     "output_type": "execute_result"
    }
   ],
   "execution_count": 11
  },
  {
   "metadata": {
    "ExecuteTime": {
     "end_time": "2024-12-01T20:14:28.232680Z",
     "start_time": "2024-12-01T20:14:28.217680Z"
    }
   },
   "cell_type": "code",
   "source": "val_data",
   "id": "48ffa8daa4ad8cec",
   "outputs": [
    {
     "data": {
      "text/plain": [
       "HeteroData(\n",
       "  movie={ x=[9742, 404] },\n",
       "  user={ num_nodes=610 },\n",
       "  (user, rates, movie)={\n",
       "    edge_index=[2, 70586],\n",
       "    time=[70586],\n",
       "    edge_label=[20166],\n",
       "    edge_label_index=[2, 20166],\n",
       "  }\n",
       ")"
      ]
     },
     "execution_count": 12,
     "metadata": {},
     "output_type": "execute_result"
    }
   ],
   "execution_count": 12
  },
  {
   "metadata": {
    "ExecuteTime": {
     "end_time": "2024-12-01T20:14:28.263689Z",
     "start_time": "2024-12-01T20:14:28.248680Z"
    }
   },
   "cell_type": "code",
   "source": "test_data",
   "id": "44e138ca692caabb",
   "outputs": [
    {
     "data": {
      "text/plain": [
       "HeteroData(\n",
       "  movie={ x=[9742, 404] },\n",
       "  user={ num_nodes=610 },\n",
       "  (user, rates, movie)={\n",
       "    edge_index=[2, 80669],\n",
       "    time=[80669],\n",
       "    edge_label=[40334],\n",
       "    edge_label_index=[2, 40334],\n",
       "  }\n",
       ")"
      ]
     },
     "execution_count": 13,
     "metadata": {},
     "output_type": "execute_result"
    }
   ],
   "execution_count": 13
  },
  {
   "metadata": {
    "ExecuteTime": {
     "end_time": "2024-12-01T20:14:28.295680Z",
     "start_time": "2024-12-01T20:14:28.281680Z"
    }
   },
   "cell_type": "code",
   "source": [
    "print(f\"train data # of nodes: {train_data.num_nodes}\")\n",
    "print(f\"train data # of edges: {train_data.num_edges}\")\n",
    "print(f\"train data # of user nodes: {train_data['user'].num_nodes}\")\n",
    "print(f\"train data # of movie nodes: {train_data['movie'].num_nodes}\")\n",
    "print(f\"train data # of 'user', 'rates', 'movies' edges: {train_data['user','rates','movie'].num_edges}\")\n",
    "print(f\"train data # of 'user', 'rates', 'movies' edge_label size: {train_data['user','rates','movie'].edge_label.size()}\")\n",
    "print(f\"train data # of 'user', 'rates', 'movies' edge_label_index size: {train_data['user','rates','movie'].edge_label_index.size()}\")\n",
    "print(f\"train data # of 'user', 'rates', 'movies' edge_label first 5: {train_data['user','rates','movie'].edge_label[0:5]}\")\n",
    "print(f\"train data # of 'user', 'rates', 'movies' edge_label_index first 5: {train_data['user','rates','movie'].edge_label_index[:,0:5]}\")\n",
    "print(f\"train data # of 'user', 'rates', 'movies' edge_label min: {train_data['user','rates','movie'].edge_label.min()}\")\n",
    "print(f\"train data # of 'user', 'rates', 'movies' edge_label max: {train_data['user','rates','movie'].edge_label.max()}\")\n",
    "print(f\"train data size of edge_index first 5: {train_data['user','rates','movie'].edge_index[0,0:5]}\")\n",
    "print(f\"train data size of edge_index first 5: {train_data['user','rates','movie'].edge_index[1,0:5]}\")\n",
    "print(f\"train data size of edge_index: {train_data['user','rates','movie'].edge_index.size()}\")\n",
    "print(f\"train data size of edge_label_index: {train_data['user','rates','movie'].edge_label_index.size()}\")\n",
    "70586*2"
   ],
   "id": "cddf9bd67cb546f6",
   "outputs": [
    {
     "name": "stdout",
     "output_type": "stream",
     "text": [
      "train data # of nodes: 10352\n",
      "train data # of edges: 70586\n",
      "train data # of user nodes: 610\n",
      "train data # of movie nodes: 9742\n",
      "train data # of 'user', 'rates', 'movies' edges: 70586\n",
      "train data # of 'user', 'rates', 'movies' edge_label size: torch.Size([141172])\n",
      "train data # of 'user', 'rates', 'movies' edge_label_index size: torch.Size([2, 141172])\n",
      "train data # of 'user', 'rates', 'movies' edge_label first 5: tensor([4, 6, 4, 6, 4], device='cuda:0')\n",
      "train data # of 'user', 'rates', 'movies' edge_label_index first 5: tensor([[ 425,   19,  560,  606,  437],\n",
      "        [1777, 1593, 6770,  701, 5819]], device='cuda:0')\n",
      "train data # of 'user', 'rates', 'movies' edge_label min: 0\n",
      "train data # of 'user', 'rates', 'movies' edge_label max: 6\n",
      "train data size of edge_index first 5: tensor([425,  19, 560, 606, 437], device='cuda:0')\n",
      "train data size of edge_index first 5: tensor([1777, 1593, 6770,  701, 5819], device='cuda:0')\n",
      "train data size of edge_index: torch.Size([2, 70586])\n",
      "train data size of edge_label_index: torch.Size([2, 141172])\n"
     ]
    },
    {
     "data": {
      "text/plain": [
       "141172"
      ]
     },
     "execution_count": 14,
     "metadata": {},
     "output_type": "execute_result"
    }
   ],
   "execution_count": 14
  },
  {
   "metadata": {
    "ExecuteTime": {
     "end_time": "2024-12-01T20:14:28.326679Z",
     "start_time": "2024-12-01T20:14:28.312680Z"
    }
   },
   "cell_type": "code",
   "source": "train_data['user', 'rates', 'movie'].edge_label[train_data['user', 'rates', 'movie'].edge_label==0].size()",
   "id": "d101969382eb6588",
   "outputs": [
    {
     "data": {
      "text/plain": [
       "torch.Size([70586])"
      ]
     },
     "execution_count": 15,
     "metadata": {},
     "output_type": "execute_result"
    }
   ],
   "execution_count": 15
  },
  {
   "metadata": {
    "ExecuteTime": {
     "end_time": "2024-12-01T20:14:28.357680Z",
     "start_time": "2024-12-01T20:14:28.343681Z"
    }
   },
   "cell_type": "code",
   "source": [
    "from torch_geometric.loader import LinkNeighborLoader, NeighborLoader\n",
    "\n",
    "# Define a mini-batch loader\n",
    "num_hops = 1\n",
    "num_samples = {node_type: ([30] * num_hops) for node_type in train_data.edge_types}\n",
    "batch_size = 500\n",
    "\n",
    "print(num_samples)\n",
    "\n",
    "edge_type = ('user', 'rates', 'movie')\n",
    "edge_label_index = train_data['user', 'rates', 'movie'].edge_label_index # edge indices for which neighbors are sampled to create mini-batch\n",
    "\n",
    "loader = LinkNeighborLoader(\n",
    "    train_data,\n",
    "    num_neighbors= num_samples,\n",
    "    edge_label_index=(edge_type, edge_label_index),\n",
    "    batch_size=batch_size,\n",
    "    disjoint=True,\n",
    "    neg_sampling=torch_geometric.sampler.NegativeSampling(\"triplet\", 1)\n",
    ")\n"
   ],
   "id": "f675bff25e347b8a",
   "outputs": [
    {
     "name": "stdout",
     "output_type": "stream",
     "text": [
      "{('user', 'rates', 'movie'): [30]}\n"
     ]
    }
   ],
   "execution_count": 16
  },
  {
   "metadata": {
    "ExecuteTime": {
     "end_time": "2024-12-01T20:14:28.404679Z",
     "start_time": "2024-12-01T20:14:28.374680Z"
    }
   },
   "cell_type": "code",
   "source": [
    "sampled_data = next(iter(loader))\n",
    "sampled_data.to(device)\n",
    "print(sampled_data)"
   ],
   "id": "15da3569ccfeb198",
   "outputs": [
    {
     "name": "stdout",
     "output_type": "stream",
     "text": [
      "HeteroData(\n",
      "  movie={\n",
      "    x=[1000, 404],\n",
      "    n_id=[1000],\n",
      "    batch=[1000],\n",
      "    num_sampled_nodes=[2],\n",
      "    dst_pos_index=[500],\n",
      "    dst_neg_index=[500],\n",
      "  },\n",
      "  user={\n",
      "    num_nodes=13801,\n",
      "    n_id=[13801],\n",
      "    batch=[13801],\n",
      "    num_sampled_nodes=[2],\n",
      "    src_index=[500],\n",
      "  },\n",
      "  (user, rates, movie)={\n",
      "    edge_index=[2, 13301],\n",
      "    time=[13301],\n",
      "    edge_label=[141172],\n",
      "    e_id=[13301],\n",
      "    num_sampled_edges=[1],\n",
      "    input_id=[500],\n",
      "  }\n",
      ")\n"
     ]
    }
   ],
   "execution_count": 17
  },
  {
   "metadata": {
    "ExecuteTime": {
     "end_time": "2024-12-01T20:14:28.484680Z",
     "start_time": "2024-12-01T20:14:28.472684Z"
    }
   },
   "cell_type": "code",
   "source": "len(loader)",
   "id": "79152354f26577e5",
   "outputs": [
    {
     "data": {
      "text/plain": [
       "283"
      ]
     },
     "execution_count": 18,
     "metadata": {},
     "output_type": "execute_result"
    }
   ],
   "execution_count": 18
  },
  {
   "metadata": {
    "ExecuteTime": {
     "end_time": "2024-12-01T20:19:28.234293Z",
     "start_time": "2024-12-01T20:19:28.179293Z"
    }
   },
   "cell_type": "code",
   "source": [
    "print(sampled_data['user']['n_id'][0:5])\n",
    "print(sampled_data['movie']['n_id'][0:5])\n",
    "print(sampled_data['user']['batch'][0:5])\n",
    "print(sampled_data['movie']['batch'][0:5])\n",
    "print(sampled_data['user']['num_sampled_nodes'])\n",
    "print(sampled_data['movie']['num_sampled_nodes'])\n",
    "print(sampled_data['user']['src_index'][0:5])\n",
    "print(sampled_data['movie']['dst_pos_index'][0:5])\n",
    "print(sampled_data['movie']['dst_neg_index'][0:5])\n",
    "print(sampled_data['user','rates','movie']['edge_index'][:, 0:5])\n",
    "print(sampled_data['user','rates','movie']['e_id'][0:5])\n",
    "print([sampled_data['user','rates','movie']['edge_index'][:, eid] for eid in sampled_data['user','rates','movie']['e_id'][0:5]])"
   ],
   "id": "1f31941e1193c89b",
   "outputs": [
    {
     "name": "stdout",
     "output_type": "stream",
     "text": [
      "tensor([425,  19, 560, 606, 437], device='cuda:0')\n",
      "tensor([1777, 1593, 6770,  701, 5819], device='cuda:0')\n",
      "tensor([0, 1, 2, 3, 4], device='cuda:0')\n",
      "tensor([0, 1, 2, 3, 4], device='cuda:0')\n",
      "[500, 13301]\n",
      "[1000, 0]\n",
      "tensor([0, 1, 2, 3, 4], device='cuda:0')\n",
      "tensor([0, 1, 2, 3, 4], device='cuda:0')\n",
      "tensor([500, 501, 502, 503, 504], device='cuda:0')\n",
      "tensor([[500, 501, 502, 503, 504],\n",
      "        [  0,   0,   0,   0,   0]], device='cuda:0')\n",
      "tensor([    0,   607,  7697,  8949, 20461], device='cuda:0')\n"
     ]
    },
    {
     "ename": "IndexError",
     "evalue": "index 20461 is out of bounds for dimension 1 with size 13301",
     "output_type": "error",
     "traceback": [
      "\u001B[1;31m---------------------------------------------------------------------------\u001B[0m",
      "\u001B[1;31mIndexError\u001B[0m                                Traceback (most recent call last)",
      "Cell \u001B[1;32mIn[26], line 12\u001B[0m\n\u001B[0;32m     10\u001B[0m \u001B[38;5;28mprint\u001B[39m(sampled_data[\u001B[38;5;124m'\u001B[39m\u001B[38;5;124muser\u001B[39m\u001B[38;5;124m'\u001B[39m,\u001B[38;5;124m'\u001B[39m\u001B[38;5;124mrates\u001B[39m\u001B[38;5;124m'\u001B[39m,\u001B[38;5;124m'\u001B[39m\u001B[38;5;124mmovie\u001B[39m\u001B[38;5;124m'\u001B[39m][\u001B[38;5;124m'\u001B[39m\u001B[38;5;124medge_index\u001B[39m\u001B[38;5;124m'\u001B[39m][:, \u001B[38;5;241m0\u001B[39m:\u001B[38;5;241m5\u001B[39m])\n\u001B[0;32m     11\u001B[0m \u001B[38;5;28mprint\u001B[39m(sampled_data[\u001B[38;5;124m'\u001B[39m\u001B[38;5;124muser\u001B[39m\u001B[38;5;124m'\u001B[39m,\u001B[38;5;124m'\u001B[39m\u001B[38;5;124mrates\u001B[39m\u001B[38;5;124m'\u001B[39m,\u001B[38;5;124m'\u001B[39m\u001B[38;5;124mmovie\u001B[39m\u001B[38;5;124m'\u001B[39m][\u001B[38;5;124m'\u001B[39m\u001B[38;5;124me_id\u001B[39m\u001B[38;5;124m'\u001B[39m][\u001B[38;5;241m0\u001B[39m:\u001B[38;5;241m5\u001B[39m])\n\u001B[1;32m---> 12\u001B[0m \u001B[38;5;28mprint\u001B[39m([sampled_data[\u001B[38;5;124m'\u001B[39m\u001B[38;5;124muser\u001B[39m\u001B[38;5;124m'\u001B[39m,\u001B[38;5;124m'\u001B[39m\u001B[38;5;124mrates\u001B[39m\u001B[38;5;124m'\u001B[39m,\u001B[38;5;124m'\u001B[39m\u001B[38;5;124mmovie\u001B[39m\u001B[38;5;124m'\u001B[39m][\u001B[38;5;124m'\u001B[39m\u001B[38;5;124medge_index\u001B[39m\u001B[38;5;124m'\u001B[39m][:, eid] \u001B[38;5;28;01mfor\u001B[39;00m eid \u001B[38;5;129;01min\u001B[39;00m sampled_data[\u001B[38;5;124m'\u001B[39m\u001B[38;5;124muser\u001B[39m\u001B[38;5;124m'\u001B[39m,\u001B[38;5;124m'\u001B[39m\u001B[38;5;124mrates\u001B[39m\u001B[38;5;124m'\u001B[39m,\u001B[38;5;124m'\u001B[39m\u001B[38;5;124mmovie\u001B[39m\u001B[38;5;124m'\u001B[39m][\u001B[38;5;124m'\u001B[39m\u001B[38;5;124me_id\u001B[39m\u001B[38;5;124m'\u001B[39m][\u001B[38;5;241m0\u001B[39m:\u001B[38;5;241m5\u001B[39m]])\n",
      "Cell \u001B[1;32mIn[26], line 12\u001B[0m, in \u001B[0;36m<listcomp>\u001B[1;34m(.0)\u001B[0m\n\u001B[0;32m     10\u001B[0m \u001B[38;5;28mprint\u001B[39m(sampled_data[\u001B[38;5;124m'\u001B[39m\u001B[38;5;124muser\u001B[39m\u001B[38;5;124m'\u001B[39m,\u001B[38;5;124m'\u001B[39m\u001B[38;5;124mrates\u001B[39m\u001B[38;5;124m'\u001B[39m,\u001B[38;5;124m'\u001B[39m\u001B[38;5;124mmovie\u001B[39m\u001B[38;5;124m'\u001B[39m][\u001B[38;5;124m'\u001B[39m\u001B[38;5;124medge_index\u001B[39m\u001B[38;5;124m'\u001B[39m][:, \u001B[38;5;241m0\u001B[39m:\u001B[38;5;241m5\u001B[39m])\n\u001B[0;32m     11\u001B[0m \u001B[38;5;28mprint\u001B[39m(sampled_data[\u001B[38;5;124m'\u001B[39m\u001B[38;5;124muser\u001B[39m\u001B[38;5;124m'\u001B[39m,\u001B[38;5;124m'\u001B[39m\u001B[38;5;124mrates\u001B[39m\u001B[38;5;124m'\u001B[39m,\u001B[38;5;124m'\u001B[39m\u001B[38;5;124mmovie\u001B[39m\u001B[38;5;124m'\u001B[39m][\u001B[38;5;124m'\u001B[39m\u001B[38;5;124me_id\u001B[39m\u001B[38;5;124m'\u001B[39m][\u001B[38;5;241m0\u001B[39m:\u001B[38;5;241m5\u001B[39m])\n\u001B[1;32m---> 12\u001B[0m \u001B[38;5;28mprint\u001B[39m([\u001B[43msampled_data\u001B[49m\u001B[43m[\u001B[49m\u001B[38;5;124;43m'\u001B[39;49m\u001B[38;5;124;43muser\u001B[39;49m\u001B[38;5;124;43m'\u001B[39;49m\u001B[43m,\u001B[49m\u001B[38;5;124;43m'\u001B[39;49m\u001B[38;5;124;43mrates\u001B[39;49m\u001B[38;5;124;43m'\u001B[39;49m\u001B[43m,\u001B[49m\u001B[38;5;124;43m'\u001B[39;49m\u001B[38;5;124;43mmovie\u001B[39;49m\u001B[38;5;124;43m'\u001B[39;49m\u001B[43m]\u001B[49m\u001B[43m[\u001B[49m\u001B[38;5;124;43m'\u001B[39;49m\u001B[38;5;124;43medge_index\u001B[39;49m\u001B[38;5;124;43m'\u001B[39;49m\u001B[43m]\u001B[49m\u001B[43m[\u001B[49m\u001B[43m:\u001B[49m\u001B[43m,\u001B[49m\u001B[43m \u001B[49m\u001B[43meid\u001B[49m\u001B[43m]\u001B[49m \u001B[38;5;28;01mfor\u001B[39;00m eid \u001B[38;5;129;01min\u001B[39;00m sampled_data[\u001B[38;5;124m'\u001B[39m\u001B[38;5;124muser\u001B[39m\u001B[38;5;124m'\u001B[39m,\u001B[38;5;124m'\u001B[39m\u001B[38;5;124mrates\u001B[39m\u001B[38;5;124m'\u001B[39m,\u001B[38;5;124m'\u001B[39m\u001B[38;5;124mmovie\u001B[39m\u001B[38;5;124m'\u001B[39m][\u001B[38;5;124m'\u001B[39m\u001B[38;5;124me_id\u001B[39m\u001B[38;5;124m'\u001B[39m][\u001B[38;5;241m0\u001B[39m:\u001B[38;5;241m5\u001B[39m]])\n",
      "\u001B[1;31mIndexError\u001B[0m: index 20461 is out of bounds for dimension 1 with size 13301"
     ]
    }
   ],
   "execution_count": 26
  },
  {
   "metadata": {
    "ExecuteTime": {
     "end_time": "2024-12-01T19:45:47.128158Z",
     "start_time": "2024-12-01T19:45:47.124157Z"
    }
   },
   "cell_type": "code",
   "source": [
    "print(sampled_data[\"user\"].num_nodes)\n",
    "print(sampled_data[\"movie\"].num_nodes)"
   ],
   "id": "8e798d156ed417f",
   "outputs": [
    {
     "name": "stdout",
     "output_type": "stream",
     "text": [
      "13801\n",
      "1000\n"
     ]
    }
   ],
   "execution_count": 327
  },
  {
   "metadata": {
    "ExecuteTime": {
     "end_time": "2024-12-01T05:15:40.056961Z",
     "start_time": "2024-12-01T05:15:40.042961Z"
    }
   },
   "cell_type": "code",
   "outputs": [],
   "execution_count": 272,
   "source": [
    "from torch_geometric.nn import Linear\n",
    "from torch.nn import Embedding\n",
    "from torch.nn import functional as F\n",
    "\n",
    "class EmbeddingPropLayer(torch.nn.Module):\n",
    "    def __init__(self, hidden_channels=128):\n",
    "        super(EmbeddingPropLayer, self).__init__()\n",
    "\n",
    "        self.W1 = Linear(hidden_channels, hidden_channels, bias=False)\n",
    "        self.W2 = Linear(hidden_channels, hidden_channels, bias=False)\n",
    "\n",
    "    def reset_parameters(self):\n",
    "        self.W1.reset_parameters()\n",
    "        self.W2.reset_parameters()\n",
    "\n",
    "    def forward(self, E, E_final):\n",
    "        message = self.message_aggregation(E)\n",
    "        return message, torch.concat([E_final, message], dim=1)\n",
    "\n",
    "    def message_construction(self, E, p_ui):\n",
    "        return torch.mul(p_ui*E, p_ui*self.W2(E))\n",
    "\n",
    "    def message_aggregation(self, E):\n",
    "        p_ui = 1\n",
    "        m_ui = self.message_construction(E, p_ui)\n",
    "        m_uu = p_ui*self.W1(E)\n",
    "        return F.leaky_relu(m_uu + m_ui)\n",
    "\n",
    "\n",
    "class EmbeddingLayer(torch.nn.Module):\n",
    "    \"\"\"\n",
    "        user u and item i with an embedding vector e_u that's an element of d real numbers\n",
    "        and e_i that's an element of a d real numbers\n",
    "    \"\"\"\n",
    "    def __init__(self, num_of_edges, hidden_channels=128):\n",
    "        super(EmbeddingLayer, self).__init__()\n",
    "        self.user_embedding = Embedding(num_of_edges, hidden_channels)\n",
    "        self.movie_embedding = Embedding(num_of_edges, hidden_channels)\n",
    "\n",
    "    def forward(self, user_nodes, movie_nodes):\n",
    "        e_u = self.user_embedding(user_nodes)\n",
    "        e_i = self.movie_embedding(movie_nodes)\n",
    "        E = torch.concat([e_u, e_i])\n",
    "\n",
    "        return E\n",
    "\n",
    "class NGCF(torch.nn.Module):\n",
    "    def __init__(self, num_of_edges, hidden_channels=128):\n",
    "        super(NGCF, self).__init__()\n",
    "\n",
    "        self.num_of_edges = num_of_edges\n",
    "        self.hidden_channels = hidden_channels\n",
    "\n",
    "        self.embeddings = EmbeddingLayer(num_of_edges, hidden_channels)\n",
    "\n",
    "        self.embedding_prop_layer_1 = EmbeddingPropLayer(hidden_channels)\n",
    "        self.embedding_prop_layer_2 = EmbeddingPropLayer(hidden_channels)\n",
    "        self.embedding_prop_layer_3 = EmbeddingPropLayer(hidden_channels)\n",
    "\n",
    "\n",
    "    def forward(self, user_nodes, movie_nodes):\n",
    "        E = self.embeddings(user_nodes, movie_nodes) # size -> [num_users + num_movies, hidden_channels]\n",
    "\n",
    "        assert E.size()[0] == 2*self.num_of_edges and E.size()[1] == self.hidden_channels\n",
    "\n",
    "        E_1, E_star = self.embedding_prop_layer_1(E, torch.ones_like(E)) #E_l -> [num_users+num_movies,\n",
    "        E_2, E_star = self.embedding_prop_layer_2(E_1, E_star)\n",
    "        E_3, E_star = self.embedding_prop_layer_2(E_2, E_star)\n",
    "\n",
    "        assert E_star.size()[0] == 2*self.num_of_edges and E_star.size()[1] == self.hidden_channels*4\n",
    "\n",
    "        e_u_star = E_star[:self.num_of_edges, :]\n",
    "        e_i_star = E_star[self.num_of_edges:, :]\n",
    "\n",
    "        return torch.inner(e_u_star, e_i_star)\n"
   ],
   "id": "398d6f686d650d86"
  },
  {
   "metadata": {
    "ExecuteTime": {
     "end_time": "2024-12-01T05:15:41.308159Z",
     "start_time": "2024-12-01T05:15:41.295159Z"
    }
   },
   "cell_type": "code",
   "source": [
    "num_of_epochs = 10\n",
    "sample_size = sampled_data['user','rates','movie'].\n",
    "model = NGCF(sample_size, hidden_channels=128)\n",
    "model.to(device)\n",
    "optimizer = torch.optim.Adam(model.parameters(), lr=0.001)\n",
    "\n",
    "print(model)"
   ],
   "id": "91e2bd7d8c3e77f0",
   "outputs": [
    {
     "name": "stdout",
     "output_type": "stream",
     "text": [
      "NGCF(\n",
      "  (embeddings): EmbeddingLayer(\n",
      "    (user_embedding): Embedding(500, 128)\n",
      "    (movie_embedding): Embedding(500, 128)\n",
      "  )\n",
      "  (embedding_prop_layer_1): EmbeddingPropLayer(\n",
      "    (W1): Linear(128, 128, bias=False)\n",
      "    (W2): Linear(128, 128, bias=False)\n",
      "  )\n",
      "  (embedding_prop_layer_2): EmbeddingPropLayer(\n",
      "    (W1): Linear(128, 128, bias=False)\n",
      "    (W2): Linear(128, 128, bias=False)\n",
      "  )\n",
      "  (embedding_prop_layer_3): EmbeddingPropLayer(\n",
      "    (W1): Linear(128, 128, bias=False)\n",
      "    (W2): Linear(128, 128, bias=False)\n",
      "  )\n",
      ")\n"
     ]
    }
   ],
   "execution_count": 275
  },
  {
   "metadata": {
    "ExecuteTime": {
     "end_time": "2024-12-01T05:15:42.063344Z",
     "start_time": "2024-12-01T05:15:42.049344Z"
    }
   },
   "cell_type": "code",
   "source": [
    "def train_model(model, batch):\n",
    "    optimizer.zero_grad()\n",
    "\n",
    "    batch.to(device)\n",
    "\n",
    "    target = batch['user', 'rates', 'movie'].edge_label[1].to(device).to(torch.float64)\n",
    "\n",
    "    pred = model(batch['user','rates', 'movie'].edge_label_index[0], batch['user','rates', 'movie'].edge_label_index[1])\n",
    "\n",
    "    # loss = F.binary_cross_entropy_with_logits(pred, target)\n",
    "    # loss.backward()\n",
    "    # optimizer.step()\n",
    "\n",
    "    return pred#, loss"
   ],
   "id": "ad08b6c3df59cb07",
   "outputs": [],
   "execution_count": 276
  },
  {
   "metadata": {
    "ExecuteTime": {
     "end_time": "2024-12-01T05:15:43.810434Z",
     "start_time": "2024-12-01T05:15:43.783435Z"
    }
   },
   "cell_type": "code",
   "source": [
    "pred = train_model(model, sampled_data)\n",
    "pred.size()"
   ],
   "id": "d98f361586add0ba",
   "outputs": [
    {
     "data": {
      "text/plain": [
       "torch.Size([500, 500])"
      ]
     },
     "execution_count": 277,
     "metadata": {},
     "output_type": "execute_result"
    }
   ],
   "execution_count": 277
  },
  {
   "metadata": {
    "ExecuteTime": {
     "end_time": "2024-11-27T02:16:42.382317Z",
     "start_time": "2024-11-27T02:16:42.356317Z"
    }
   },
   "cell_type": "code",
   "source": "",
   "id": "422465dcbc511a1e",
   "outputs": [
    {
     "data": {
      "text/plain": [
       "tensor(1., device='cuda:0', grad_fn=<MaxBackward1>)"
      ]
     },
     "execution_count": 266,
     "metadata": {},
     "output_type": "execute_result"
    }
   ],
   "execution_count": 266
  },
  {
   "metadata": {
    "ExecuteTime": {
     "end_time": "2024-11-27T02:28:46.391407Z",
     "start_time": "2024-11-27T02:28:01.801311Z"
    }
   },
   "cell_type": "code",
   "source": [
    "import tqdm\n",
    "from torch.nn import functional as F\n",
    "\n",
    "model.train()\n",
    "for epoch in range(num_of_epochs):\n",
    "    total_loss = total_examples = 0.0\n",
    "    for batch in tqdm.tqdm(loader):\n",
    "        pred, loss = train_model(model, batch)\n",
    "        total_loss += float(loss) * pred.numel()\n",
    "        total_examples += pred.numel()\n",
    "    print(f\"Epoch: {epoch:03d}, loss: {total_loss/total_examples:.4f}\")\n"
   ],
   "id": "76dfbbb7476a689b",
   "outputs": [
    {
     "name": "stderr",
     "output_type": "stream",
     "text": [
      "100%|██████████| 283/283 [00:04<00:00, 59.10it/s]\n"
     ]
    },
    {
     "name": "stdout",
     "output_type": "stream",
     "text": [
      "Epoch: 000, loss: -276054893.4609\n"
     ]
    },
    {
     "name": "stderr",
     "output_type": "stream",
     "text": [
      "100%|██████████| 283/283 [00:04<00:00, 64.23it/s]\n"
     ]
    },
    {
     "name": "stdout",
     "output_type": "stream",
     "text": [
      "Epoch: 001, loss: -6965468880.1423\n"
     ]
    },
    {
     "name": "stderr",
     "output_type": "stream",
     "text": [
      "100%|██████████| 283/283 [00:04<00:00, 64.58it/s]\n"
     ]
    },
    {
     "name": "stdout",
     "output_type": "stream",
     "text": [
      "Epoch: 002, loss: -43552658599.4177\n"
     ]
    },
    {
     "name": "stderr",
     "output_type": "stream",
     "text": [
      "100%|██████████| 283/283 [00:04<00:00, 63.90it/s]\n"
     ]
    },
    {
     "name": "stdout",
     "output_type": "stream",
     "text": [
      "Epoch: 003, loss: -149708702269.1843\n"
     ]
    },
    {
     "name": "stderr",
     "output_type": "stream",
     "text": [
      "100%|██████████| 283/283 [00:04<00:00, 64.20it/s]\n"
     ]
    },
    {
     "name": "stdout",
     "output_type": "stream",
     "text": [
      "Epoch: 004, loss: -374746060748.0128\n"
     ]
    },
    {
     "name": "stderr",
     "output_type": "stream",
     "text": [
      "100%|██████████| 283/283 [00:04<00:00, 63.67it/s]\n"
     ]
    },
    {
     "name": "stdout",
     "output_type": "stream",
     "text": [
      "Epoch: 005, loss: -783696045250.5245\n"
     ]
    },
    {
     "name": "stderr",
     "output_type": "stream",
     "text": [
      "100%|██████████| 283/283 [00:04<00:00, 64.46it/s]\n"
     ]
    },
    {
     "name": "stdout",
     "output_type": "stream",
     "text": [
      "Epoch: 006, loss: -1409574596453.5586\n"
     ]
    },
    {
     "name": "stderr",
     "output_type": "stream",
     "text": [
      "100%|██████████| 283/283 [00:04<00:00, 64.42it/s]\n"
     ]
    },
    {
     "name": "stdout",
     "output_type": "stream",
     "text": [
      "Epoch: 007, loss: -2346320333454.2905\n"
     ]
    },
    {
     "name": "stderr",
     "output_type": "stream",
     "text": [
      "100%|██████████| 283/283 [00:04<00:00, 64.39it/s]\n"
     ]
    },
    {
     "name": "stdout",
     "output_type": "stream",
     "text": [
      "Epoch: 008, loss: -3637393403807.4053\n"
     ]
    },
    {
     "name": "stderr",
     "output_type": "stream",
     "text": [
      "100%|██████████| 283/283 [00:04<00:00, 62.57it/s]"
     ]
    },
    {
     "name": "stdout",
     "output_type": "stream",
     "text": [
      "Epoch: 009, loss: -5352262381109.0234\n"
     ]
    },
    {
     "name": "stderr",
     "output_type": "stream",
     "text": [
      "\n"
     ]
    }
   ],
   "execution_count": 282
  },
  {
   "metadata": {},
   "cell_type": "code",
   "outputs": [],
   "execution_count": null,
   "source": "",
   "id": "3224abf4b5876e8c"
  }
 ],
 "metadata": {
  "kernelspec": {
   "display_name": "Python 3 (ipykernel)",
   "language": "python",
   "name": "python3"
  },
  "language_info": {
   "codemirror_mode": {
    "name": "ipython",
    "version": 3
   },
   "file_extension": ".py",
   "mimetype": "text/x-python",
   "name": "python",
   "nbconvert_exporter": "python",
   "pygments_lexer": "ipython3",
   "version": "3.8.20"
  }
 },
 "nbformat": 4,
 "nbformat_minor": 5
}
