{
 "cells": [
  {
   "cell_type": "markdown",
   "metadata": {},
   "source": [
    "# Recommendation System with GNNs: Examining Vanilla GNN, LightGCN, and GraphSage.\n",
    "## Envrionment Setup and Dataset"
   ]
  },
  {
   "cell_type": "code",
   "execution_count": 8,
   "metadata": {
    "ExecuteTime": {
     "end_time": "2024-10-25T20:12:55.924892Z",
     "start_time": "2024-10-25T20:12:55.801886Z"
    }
   },
   "outputs": [],
   "source": [
    "import os\n",
    "import torch\n",
    "import torch_geometric\n",
    "from torch_geometric.datasets import Amazon\n",
    "import numpy as np\n",
    "import pandas as pd\n",
    "import matplotlib.pyplot as plt\n",
    "%matplotlib inline\n",
    "import networkx as nx\n",
    "import seaborn as sns\n",
    "import torch_geometric.transforms as T\n"
   ]
  },
  {
   "cell_type": "code",
   "execution_count": 9,
   "metadata": {
    "ExecuteTime": {
     "end_time": "2024-10-25T20:13:07.203287Z",
     "start_time": "2024-10-25T20:13:07.185287Z"
    }
   },
   "outputs": [
    {
     "name": "stdout",
     "output_type": "stream",
     "text": [
      "You are using device: cuda\n"
     ]
    }
   ],
   "source": [
    "# Check device availability\n",
    "device = torch.device('cuda' if torch.cuda.is_available() else 'cpu')\n",
    "print(\"You are using device: %s\" % device)"
   ]
  },
  {
   "cell_type": "code",
   "execution_count": 11,
   "metadata": {
    "ExecuteTime": {
     "end_time": "2024-10-25T20:14:54.391381Z",
     "start_time": "2024-10-25T20:14:53.871382Z"
    }
   },
   "outputs": [
    {
     "name": "stderr",
     "output_type": "stream",
     "text": [
      "Processing...\n",
      "Done!\n"
     ]
    }
   ],
   "source": [
    "dataset = Amazon(root='data/Amazon', name='Computers', \n",
    "                transform=T.TargetIndegree())\n",
    "data = dataset[0]"
   ]
  },
  {
   "cell_type": "markdown",
   "metadata": {},
   "source": [
    "https://pytorch-geometric.readthedocs.io/en/2.5.3/generated/torch_geometric.datasets.Amazon.html"
   ]
  },
  {
   "cell_type": "code",
   "execution_count": 12,
   "metadata": {
    "ExecuteTime": {
     "end_time": "2024-10-25T20:15:01.885832Z",
     "start_time": "2024-10-25T20:15:01.788834Z"
    }
   },
   "outputs": [
    {
     "name": "stdout",
     "output_type": "stream",
     "text": [
      "Data(x=[13752, 767], edge_index=[2, 491722], y=[13752], edge_attr=[491722, 1])\n",
      "\n",
      "Dataset classes = 10\n",
      "Labels in [0, 9]\n",
      "data.y = tensor([4, 4, 8,  ..., 8, 4, 0])\n",
      "\n",
      "Number of Nodes = 13752\n",
      "Features per Node = 767\n",
      "data.x = tensor([[0., 0., 0.,  ..., 0., 0., 0.],\n",
      "        [1., 1., 0.,  ..., 0., 1., 0.],\n",
      "        [0., 0., 0.,  ..., 0., 0., 0.],\n",
      "        ...,\n",
      "        [1., 0., 0.,  ..., 0., 0., 0.],\n",
      "        [1., 0., 0.,  ..., 0., 0., 0.],\n",
      "        [1., 1., 0.,  ..., 1., 1., 0.]])\n",
      "\n",
      "Number of edges = 491722\n",
      "Features per edge = 1\n",
      "data.edge_index = tensor([[    0,     0,     0,  ..., 13751, 13751, 13751],\n",
      "        [  507,  6551,  8210,  ..., 12751, 13019, 13121]])\n",
      "data.edge_attr = tensor([[0.0471],\n",
      "        [0.1029],\n",
      "        [0.8382],\n",
      "        ...,\n",
      "        [0.0431],\n",
      "        [0.0411],\n",
      "        [0.0087]])\n"
     ]
    }
   ],
   "source": [
    "print(data,end=\"\\n\\n\")\n",
    "\n",
    "print(\"Dataset classes = \" + str(dataset.num_classes))\n",
    "print(\"Labels in [\" + str(int(min(data.y))) + \", \" + str(int(max(data.y))) + \"]\")\n",
    "print(\"data.y = \",end=\"\")\n",
    "print(data.y,end=\"\\n\\n\")\n",
    "\n",
    "print(\"Number of Nodes = \" + str(data.num_nodes))\n",
    "print(\"Features per Node = \" + str(dataset.num_node_features))\n",
    "print(\"data.x = \", end=\"\")\n",
    "print(data.x,end=\"\\n\\n\")\n",
    "\n",
    "print(\"Number of edges = \" + str(data.num_edges))\n",
    "print(\"Features per edge = \" + str(dataset.num_edge_features))\n",
    "print(\"data.edge_index = \", end=\"\")\n",
    "print(data.edge_index)\n",
    "print(\"data.edge_attr = \",end=\"\")\n",
    "print(data.edge_attr)"
   ]
  },
  {
   "cell_type": "markdown",
   "metadata": {},
   "source": [
    "https://github.com/SimonIyamu/Geometric-Deep-Learning/blob/master/GCN_Amazon_Products_Classification.ipynb"
   ]
  },
  {
   "cell_type": "markdown",
   "metadata": {},
   "source": [
    "## Theory\n",
    "\n",
    "GNN Frameworks generally use an aggregator function and an update function. From *Graph Neural Networks in Recommender Systems: A Survey* by S.Wu et al, These functions are formally defined as:\n",
    "___\n",
    "![Formal Definition of GNN](./img/notebook/formal_def_gnn.png)\n",
    "___\n",
    "We Seek to explore additional architectures (GCN, GraphSAGE), which define different aggregation and update functions. Again from S.Wu et al.:\n",
    "___\n",
    "![GCN Aggregation and GraphSage Aggregator/Update](./img/notebook/formal_def_gnc_graphsage.png)\n",
    "___"
   ]
  },
  {
   "cell_type": "code",
   "execution_count": 19,
   "metadata": {},
   "outputs": [],
   "source": []
  },
  {
   "cell_type": "code",
   "execution_count": null,
   "metadata": {},
   "outputs": [],
   "source": []
  }
 ],
 "metadata": {
  "kernelspec": {
   "display_name": "Python 3 (ipykernel)",
   "language": "python",
   "name": "python3"
  },
  "language_info": {
   "codemirror_mode": {
    "name": "ipython",
    "version": 3
   },
   "file_extension": ".py",
   "mimetype": "text/x-python",
   "name": "python",
   "nbconvert_exporter": "python",
   "pygments_lexer": "ipython3",
   "version": "3.8.20"
  }
 },
 "nbformat": 4,
 "nbformat_minor": 4
}
