{
 "cells": [
  {
   "cell_type": "code",
   "execution_count": 13,
   "metadata": {},
   "outputs": [],
   "source": [
    "######################################################### DATASET ######################################################### "
   ]
  },
  {
   "cell_type": "code",
   "execution_count": 14,
   "metadata": {},
   "outputs": [],
   "source": [
    "import torch\n",
    "import torch_geometric\n",
    "from torch_geometric.datasets import Amazon\n",
    "import numpy as np\n",
    "import pandas as pd\n",
    "import matplotlib.pyplot as plt\n",
    "%matplotlib inline\n",
    "import networkx as nx\n",
    "import seaborn as sns\n",
    "import torch_geometric.transforms as T\n"
   ]
  },
  {
   "cell_type": "code",
   "execution_count": 15,
   "metadata": {},
   "outputs": [],
   "source": [
    "dataset = Amazon(root='data/Amazon', name='Computers', \n",
    "                transform=T.TargetIndegree())\n",
    "data = dataset[0]"
   ]
  },
  {
   "cell_type": "markdown",
   "metadata": {},
   "source": [
    "https://pytorch-geometric.readthedocs.io/en/2.5.3/generated/torch_geometric.datasets.Amazon.html"
   ]
  },
  {
   "cell_type": "code",
   "execution_count": 16,
   "metadata": {},
   "outputs": [
    {
     "name": "stdout",
     "output_type": "stream",
     "text": [
      "Data(x=[13752, 767], edge_index=[2, 491722], y=[13752], edge_attr=[491722, 1])\n",
      "\n",
      "Dataset classes = 10\n",
      "Labels in [0, 9]\n",
      "data.y = tensor([4, 4, 8,  ..., 8, 4, 0])\n",
      "\n",
      "Number of Nodes = 13752\n",
      "Features per Node = 767\n",
      "data.x = tensor([[0., 0., 0.,  ..., 0., 0., 0.],\n",
      "        [1., 1., 0.,  ..., 0., 1., 0.],\n",
      "        [0., 0., 0.,  ..., 0., 0., 0.],\n",
      "        ...,\n",
      "        [1., 0., 0.,  ..., 0., 0., 0.],\n",
      "        [1., 0., 0.,  ..., 0., 0., 0.],\n",
      "        [1., 1., 0.,  ..., 1., 1., 0.]])\n",
      "\n",
      "Number of edges = 491722\n",
      "Features per edge = 1\n",
      "data.edge_index = tensor([[    0,     0,     0,  ..., 13751, 13751, 13751],\n",
      "        [  507,  6551,  8210,  ..., 12751, 13019, 13121]])\n",
      "data.edge_attr = tensor([[0.0471],\n",
      "        [0.1029],\n",
      "        [0.8382],\n",
      "        ...,\n",
      "        [0.0431],\n",
      "        [0.0411],\n",
      "        [0.0087]])\n"
     ]
    }
   ],
   "source": [
    "print(data,end=\"\\n\\n\")\n",
    "\n",
    "print(\"Dataset classes = \" + str(dataset.num_classes))\n",
    "print(\"Labels in [\" + str(int(min(data.y))) + \", \" + str(int(max(data.y))) + \"]\")\n",
    "print(\"data.y = \",end=\"\")\n",
    "print(data.y,end=\"\\n\\n\")\n",
    "\n",
    "print(\"Number of Nodes = \" + str(data.num_nodes))\n",
    "print(\"Features per Node = \" + str(dataset.num_node_features))\n",
    "print(\"data.x = \", end=\"\")\n",
    "print(data.x,end=\"\\n\\n\")\n",
    "\n",
    "print(\"Number of edges = \" + str(data.num_edges))\n",
    "print(\"Features per edge = \" + str(dataset.num_edge_features))\n",
    "print(\"data.edge_index = \", end=\"\")\n",
    "print(data.edge_index)\n",
    "print(\"data.edge_attr = \",end=\"\")\n",
    "print(data.edge_attr)"
   ]
  },
  {
   "cell_type": "markdown",
   "metadata": {},
   "source": [
    "https://github.com/SimonIyamu/Geometric-Deep-Learning/blob/master/GCN_Amazon_Products_Classification.ipynb"
   ]
  },
  {
   "cell_type": "code",
   "execution_count": 19,
   "metadata": {},
   "outputs": [],
   "source": [
    "#test"
   ]
  },
  {
   "cell_type": "code",
   "execution_count": null,
   "metadata": {},
   "outputs": [],
   "source": []
  }
 ],
 "metadata": {
  "kernelspec": {
   "display_name": "MLPV2",
   "language": "python",
   "name": "python3"
  },
  "language_info": {
   "codemirror_mode": {
    "name": "ipython",
    "version": 3
   },
   "file_extension": ".py",
   "mimetype": "text/x-python",
   "name": "python",
   "nbconvert_exporter": "python",
   "pygments_lexer": "ipython3",
   "version": "3.9.16"
  }
 },
 "nbformat": 4,
 "nbformat_minor": 2
}
